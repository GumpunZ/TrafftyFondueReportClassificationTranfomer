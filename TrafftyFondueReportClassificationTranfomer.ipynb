{
  "cells": [
    {
      "cell_type": "code",
      "execution_count": null,
      "metadata": {
        "colab": {
          "base_uri": "https://localhost:8080/"
        },
        "id": "L1saguWjDAoD",
        "outputId": "bd163baa-3ef0-4c58-ec15-5c90aa953dd5",
        "tags": []
      },
      "outputs": [
        {
          "output_type": "stream",
          "name": "stdout",
          "text": [
            "fatal: destination path 'traffy-predict' already exists and is not an empty directory.\n"
          ]
        }
      ],
      "source": [
        "#workflow\n",
        "!git clone https://github.com/nlp-chula/traffy-predict.git"
      ]
    },
    {
      "cell_type": "code",
      "execution_count": null,
      "metadata": {
        "colab": {
          "base_uri": "https://localhost:8080/"
        },
        "id": "6_D4NBuoORnf",
        "outputId": "a62ad2f1-3d42-4157-d961-e4d1c0af2b7b",
        "tags": []
      },
      "outputs": [
        {
          "output_type": "stream",
          "name": "stdout",
          "text": [
            "Requirement already satisfied: pythainlp in /usr/local/lib/python3.10/dist-packages (5.0.1)\n",
            "Requirement already satisfied: requests>=2.22.0 in /usr/local/lib/python3.10/dist-packages (from pythainlp) (2.31.0)\n",
            "Requirement already satisfied: charset-normalizer<4,>=2 in /usr/local/lib/python3.10/dist-packages (from requests>=2.22.0->pythainlp) (3.3.2)\n",
            "Requirement already satisfied: idna<4,>=2.5 in /usr/local/lib/python3.10/dist-packages (from requests>=2.22.0->pythainlp) (3.6)\n",
            "Requirement already satisfied: urllib3<3,>=1.21.1 in /usr/local/lib/python3.10/dist-packages (from requests>=2.22.0->pythainlp) (2.0.7)\n",
            "Requirement already satisfied: certifi>=2017.4.17 in /usr/local/lib/python3.10/dist-packages (from requests>=2.22.0->pythainlp) (2024.2.2)\n"
          ]
        }
      ],
      "source": [
        "!pip install pythainlp"
      ]
    },
    {
      "cell_type": "code",
      "execution_count": null,
      "metadata": {
        "tags": [],
        "colab": {
          "base_uri": "https://localhost:8080/"
        },
        "id": "wWbhqy0f4Ltk",
        "outputId": "ed31b57e-92a1-4391-93a4-0e7b259c6c31"
      },
      "outputs": [
        {
          "output_type": "stream",
          "name": "stdout",
          "text": [
            "Requirement already satisfied: emoji in /usr/local/lib/python3.10/dist-packages (2.10.1)\n"
          ]
        }
      ],
      "source": [
        "!pip install emoji"
      ]
    },
    {
      "cell_type": "code",
      "execution_count": null,
      "metadata": {
        "id": "6MeOYw2FMIjw",
        "tags": []
      },
      "outputs": [],
      "source": [
        "import pandas as pd\n",
        "import numpy as np\n",
        "import random\n",
        "import pythainlp\n",
        "import emoji\n",
        "import re\n",
        "from pythainlp.tokenize import word_tokenize"
      ]
    },
    {
      "cell_type": "markdown",
      "metadata": {
        "id": "cDBFTU04NF_s"
      },
      "source": [
        "#Start Data Collection and Exploring"
      ]
    },
    {
      "cell_type": "code",
      "execution_count": null,
      "metadata": {
        "colab": {
          "base_uri": "https://localhost:8080/"
        },
        "id": "5Wxx58f64Ltl",
        "outputId": "85f4c677-0217-4166-e9eb-bc273b3300c3"
      },
      "outputs": [
        {
          "output_type": "stream",
          "name": "stdout",
          "text": [
            "Label Train :  28\n",
            "Label Test :  28\n"
          ]
        }
      ],
      "source": [
        "#Connect File in Colab\n",
        "\n",
        "df_train = pd.read_csv(\"/content/traffy-predict/dataset/TF-checked-train-dataset-v2.csv\")\n",
        "print(\"Label Train : \",len(df_train[\"label\"].value_counts()))\n",
        "\n",
        "df_test = pd.read_csv(\"/content/traffy-predict/dataset/TF-checked-test-dataset-v2.csv\")\n",
        "print(\"Label Test : \",len(df_test[\"label\"].value_counts()))"
      ]
    },
    {
      "cell_type": "code",
      "execution_count": null,
      "metadata": {
        "colab": {
          "base_uri": "https://localhost:8080/",
          "height": 70
        },
        "id": "0GAhfuFAM1S1",
        "outputId": "d269cc15-6f7a-45c0-fb15-327683efefd0",
        "tags": []
      },
      "outputs": [
        {
          "output_type": "execute_result",
          "data": {
            "text/plain": [
              "'\\n#Connect Local file\\ndf_train = pd.read_csv(\"C:/Users/Gumpun/Desktop/Project/TrafftyFondueReportClassificationTranfomer/Train-Test-Dataset/traffy-predict/dataset/TF-checked-train-dataset-v2.csv\")\\nprint(\"Label Train : \",len(df_train[\"label\"].value_counts()))\\n\\ndf_test = pd.read_csv(\"C:/Users/Gumpun/Desktop/Project/TrafftyFondueReportClassificationTranfomer/Train-Test-Dataset/traffy-predict/dataset/TF-checked-test-dataset-v2.csv\")\\nprint(\"Label Test : \",len(df_test[\"label\"].value_counts()))\\n'"
            ],
            "application/vnd.google.colaboratory.intrinsic+json": {
              "type": "string"
            }
          },
          "metadata": {},
          "execution_count": 138
        }
      ],
      "source": [
        "\"\"\"\n",
        "#Connect Local file\n",
        "df_train = pd.read_csv(\"C:/Users/Gumpun/Desktop/Project/TrafftyFondueReportClassificationTranfomer/Train-Test-Dataset/traffy-predict/dataset/TF-checked-train-dataset-v2.csv\")\n",
        "print(\"Label Train : \",len(df_train[\"label\"].value_counts()))\n",
        "\n",
        "df_test = pd.read_csv(\"C:/Users/Gumpun/Desktop/Project/TrafftyFondueReportClassificationTranfomer/Train-Test-Dataset/traffy-predict/dataset/TF-checked-test-dataset-v2.csv\")\n",
        "print(\"Label Test : \",len(df_test[\"label\"].value_counts()))\n",
        "\"\"\""
      ]
    },
    {
      "cell_type": "markdown",
      "metadata": {
        "id": "BmbLnh1HNMDa"
      },
      "source": [
        "#Data Cleaning"
      ]
    },
    {
      "cell_type": "code",
      "execution_count": null,
      "metadata": {
        "id": "hArE8GWZpPW0",
        "tags": []
      },
      "outputs": [],
      "source": [
        "df_train[\"process\"] = df_train[\"description\"].apply(lambda x:  \" \".join(word_tokenize(x)))"
      ]
    },
    {
      "cell_type": "code",
      "execution_count": null,
      "metadata": {
        "id": "88aJ9c7ELFCY",
        "tags": []
      },
      "outputs": [],
      "source": [
        "df_test[\"process\"] = df_test[\"description\"].apply(lambda x:  \" \".join(word_tokenize(x)))"
      ]
    },
    {
      "cell_type": "code",
      "execution_count": null,
      "metadata": {
        "colab": {
          "base_uri": "https://localhost:8080/",
          "height": 424
        },
        "id": "MnZ67XtGO8qb",
        "outputId": "60247bbf-20ff-4ee2-e485-76d2e2934da4",
        "tags": []
      },
      "outputs": [
        {
          "output_type": "execute_result",
          "data": {
            "text/plain": [
              "                                            description  \\\n",
              "0                                 ฝาท่อระบายน้ำชำรูดค่ะ   \n",
              "1     พระราม9 ซอย 26  รถจอดริมถนน ตลอดทางยาว ตั้งแต่...   \n",
              "2                             ตีเส้นถนนหน้าซอยคู้บอน 13   \n",
              "3     ร้องเรียนครั้งที่ 10 ยิ่งร้องเรียน นอกจากปรับไ...   \n",
              "4     รัชดา 32 แยก 1 หน้าบ้านเลขที่ 38/2 มีเถาวัลย์พ...   \n",
              "...                                                 ...   \n",
              "2175                                          ทดลองแจ้ง   \n",
              "2176  ก่อสร้างข้าง รพ มเหสักข์ มีการปล่อยควันจากการก...   \n",
              "2177  อยากให้ช่วยเข้ามาดูแลเรื่องกิ่งไม้พันสายไฟฟ้าค...   \n",
              "2178                         เช้านี้ยังติดเหมือนเดิมค่ะ   \n",
              "2179  วินมอเตอร์ไซค์ขับจักรยานยนต์บนทางเท้า เป็นอันต...   \n",
              "\n",
              "                         Category  \\\n",
              "0     ('ถนน', 'ท่อระบายน้ำบนถนน')   \n",
              "1                           จราจร   \n",
              "2      ('ถนน', 'พื้นผิวถนนชำรุด')   \n",
              "3           กรุงเทพโปร่งใส&ทุจริต   \n",
              "4                          ต้นไม้   \n",
              "...                           ...   \n",
              "2175                       reject   \n",
              "2176               มลภาวะทางอากาศ   \n",
              "2177                       ต้นไม้   \n",
              "2178                       reject   \n",
              "2179               วินมอเตอร์ไซค์   \n",
              "\n",
              "                                                Message  \n",
              "0                             ฝา ท่อระบายน้ำ ชำ รูด ค่ะ  \n",
              "1     พระราม 9   ซอย   26    รถ จอด ริมถนน   ตลอดทาง...  \n",
              "2                      ตีเส้น ถนน หน้า ซอย คู้ บอน   13  \n",
              "3     ร้องเรียน ครั้ง ที่   10   ยิ่ง ร้องเรียน   นอ...  \n",
              "4     รัชดา   32   แยก   1   หน้าบ้าน เลขที่   38 /2...  \n",
              "...                                                 ...  \n",
              "2175                                         ทดลอง แจ้ง  \n",
              "2176  ก่อสร้าง ข้าง   รพ   มเหสักข์   มี การ ปล่อย ค...  \n",
              "2177  อยาก ให้ ช่วย เข้ามา ดูแล เรื่อง กิ่งไม้ พัน ส...  \n",
              "2178                     เช้านี้ ยัง ติด เหมือนเดิม ค่ะ  \n",
              "2179  วิน มอเตอร์ไซค์ ขับ จักรยานยนต์ บน ทางเท้า   เ...  \n",
              "\n",
              "[2180 rows x 3 columns]"
            ],
            "text/html": [
              "\n",
              "  <div id=\"df-6130d010-73bd-494a-9390-5665416145d2\" class=\"colab-df-container\">\n",
              "    <div>\n",
              "<style scoped>\n",
              "    .dataframe tbody tr th:only-of-type {\n",
              "        vertical-align: middle;\n",
              "    }\n",
              "\n",
              "    .dataframe tbody tr th {\n",
              "        vertical-align: top;\n",
              "    }\n",
              "\n",
              "    .dataframe thead th {\n",
              "        text-align: right;\n",
              "    }\n",
              "</style>\n",
              "<table border=\"1\" class=\"dataframe\">\n",
              "  <thead>\n",
              "    <tr style=\"text-align: right;\">\n",
              "      <th></th>\n",
              "      <th>description</th>\n",
              "      <th>Category</th>\n",
              "      <th>Message</th>\n",
              "    </tr>\n",
              "  </thead>\n",
              "  <tbody>\n",
              "    <tr>\n",
              "      <th>0</th>\n",
              "      <td>ฝาท่อระบายน้ำชำรูดค่ะ</td>\n",
              "      <td>('ถนน', 'ท่อระบายน้ำบนถนน')</td>\n",
              "      <td>ฝา ท่อระบายน้ำ ชำ รูด ค่ะ</td>\n",
              "    </tr>\n",
              "    <tr>\n",
              "      <th>1</th>\n",
              "      <td>พระราม9 ซอย 26  รถจอดริมถนน ตลอดทางยาว ตั้งแต่...</td>\n",
              "      <td>จราจร</td>\n",
              "      <td>พระราม 9   ซอย   26    รถ จอด ริมถนน   ตลอดทาง...</td>\n",
              "    </tr>\n",
              "    <tr>\n",
              "      <th>2</th>\n",
              "      <td>ตีเส้นถนนหน้าซอยคู้บอน 13</td>\n",
              "      <td>('ถนน', 'พื้นผิวถนนชำรุด')</td>\n",
              "      <td>ตีเส้น ถนน หน้า ซอย คู้ บอน   13</td>\n",
              "    </tr>\n",
              "    <tr>\n",
              "      <th>3</th>\n",
              "      <td>ร้องเรียนครั้งที่ 10 ยิ่งร้องเรียน นอกจากปรับไ...</td>\n",
              "      <td>กรุงเทพโปร่งใส&amp;ทุจริต</td>\n",
              "      <td>ร้องเรียน ครั้ง ที่   10   ยิ่ง ร้องเรียน   นอ...</td>\n",
              "    </tr>\n",
              "    <tr>\n",
              "      <th>4</th>\n",
              "      <td>รัชดา 32 แยก 1 หน้าบ้านเลขที่ 38/2 มีเถาวัลย์พ...</td>\n",
              "      <td>ต้นไม้</td>\n",
              "      <td>รัชดา   32   แยก   1   หน้าบ้าน เลขที่   38 /2...</td>\n",
              "    </tr>\n",
              "    <tr>\n",
              "      <th>...</th>\n",
              "      <td>...</td>\n",
              "      <td>...</td>\n",
              "      <td>...</td>\n",
              "    </tr>\n",
              "    <tr>\n",
              "      <th>2175</th>\n",
              "      <td>ทดลองแจ้ง</td>\n",
              "      <td>reject</td>\n",
              "      <td>ทดลอง แจ้ง</td>\n",
              "    </tr>\n",
              "    <tr>\n",
              "      <th>2176</th>\n",
              "      <td>ก่อสร้างข้าง รพ มเหสักข์ มีการปล่อยควันจากการก...</td>\n",
              "      <td>มลภาวะทางอากาศ</td>\n",
              "      <td>ก่อสร้าง ข้าง   รพ   มเหสักข์   มี การ ปล่อย ค...</td>\n",
              "    </tr>\n",
              "    <tr>\n",
              "      <th>2177</th>\n",
              "      <td>อยากให้ช่วยเข้ามาดูแลเรื่องกิ่งไม้พันสายไฟฟ้าค...</td>\n",
              "      <td>ต้นไม้</td>\n",
              "      <td>อยาก ให้ ช่วย เข้ามา ดูแล เรื่อง กิ่งไม้ พัน ส...</td>\n",
              "    </tr>\n",
              "    <tr>\n",
              "      <th>2178</th>\n",
              "      <td>เช้านี้ยังติดเหมือนเดิมค่ะ</td>\n",
              "      <td>reject</td>\n",
              "      <td>เช้านี้ ยัง ติด เหมือนเดิม ค่ะ</td>\n",
              "    </tr>\n",
              "    <tr>\n",
              "      <th>2179</th>\n",
              "      <td>วินมอเตอร์ไซค์ขับจักรยานยนต์บนทางเท้า เป็นอันต...</td>\n",
              "      <td>วินมอเตอร์ไซค์</td>\n",
              "      <td>วิน มอเตอร์ไซค์ ขับ จักรยานยนต์ บน ทางเท้า   เ...</td>\n",
              "    </tr>\n",
              "  </tbody>\n",
              "</table>\n",
              "<p>2180 rows × 3 columns</p>\n",
              "</div>\n",
              "    <div class=\"colab-df-buttons\">\n",
              "\n",
              "  <div class=\"colab-df-container\">\n",
              "    <button class=\"colab-df-convert\" onclick=\"convertToInteractive('df-6130d010-73bd-494a-9390-5665416145d2')\"\n",
              "            title=\"Convert this dataframe to an interactive table.\"\n",
              "            style=\"display:none;\">\n",
              "\n",
              "  <svg xmlns=\"http://www.w3.org/2000/svg\" height=\"24px\" viewBox=\"0 -960 960 960\">\n",
              "    <path d=\"M120-120v-720h720v720H120Zm60-500h600v-160H180v160Zm220 220h160v-160H400v160Zm0 220h160v-160H400v160ZM180-400h160v-160H180v160Zm440 0h160v-160H620v160ZM180-180h160v-160H180v160Zm440 0h160v-160H620v160Z\"/>\n",
              "  </svg>\n",
              "    </button>\n",
              "\n",
              "  <style>\n",
              "    .colab-df-container {\n",
              "      display:flex;\n",
              "      gap: 12px;\n",
              "    }\n",
              "\n",
              "    .colab-df-convert {\n",
              "      background-color: #E8F0FE;\n",
              "      border: none;\n",
              "      border-radius: 50%;\n",
              "      cursor: pointer;\n",
              "      display: none;\n",
              "      fill: #1967D2;\n",
              "      height: 32px;\n",
              "      padding: 0 0 0 0;\n",
              "      width: 32px;\n",
              "    }\n",
              "\n",
              "    .colab-df-convert:hover {\n",
              "      background-color: #E2EBFA;\n",
              "      box-shadow: 0px 1px 2px rgba(60, 64, 67, 0.3), 0px 1px 3px 1px rgba(60, 64, 67, 0.15);\n",
              "      fill: #174EA6;\n",
              "    }\n",
              "\n",
              "    .colab-df-buttons div {\n",
              "      margin-bottom: 4px;\n",
              "    }\n",
              "\n",
              "    [theme=dark] .colab-df-convert {\n",
              "      background-color: #3B4455;\n",
              "      fill: #D2E3FC;\n",
              "    }\n",
              "\n",
              "    [theme=dark] .colab-df-convert:hover {\n",
              "      background-color: #434B5C;\n",
              "      box-shadow: 0px 1px 3px 1px rgba(0, 0, 0, 0.15);\n",
              "      filter: drop-shadow(0px 1px 2px rgba(0, 0, 0, 0.3));\n",
              "      fill: #FFFFFF;\n",
              "    }\n",
              "  </style>\n",
              "\n",
              "    <script>\n",
              "      const buttonEl =\n",
              "        document.querySelector('#df-6130d010-73bd-494a-9390-5665416145d2 button.colab-df-convert');\n",
              "      buttonEl.style.display =\n",
              "        google.colab.kernel.accessAllowed ? 'block' : 'none';\n",
              "\n",
              "      async function convertToInteractive(key) {\n",
              "        const element = document.querySelector('#df-6130d010-73bd-494a-9390-5665416145d2');\n",
              "        const dataTable =\n",
              "          await google.colab.kernel.invokeFunction('convertToInteractive',\n",
              "                                                    [key], {});\n",
              "        if (!dataTable) return;\n",
              "\n",
              "        const docLinkHtml = 'Like what you see? Visit the ' +\n",
              "          '<a target=\"_blank\" href=https://colab.research.google.com/notebooks/data_table.ipynb>data table notebook</a>'\n",
              "          + ' to learn more about interactive tables.';\n",
              "        element.innerHTML = '';\n",
              "        dataTable['output_type'] = 'display_data';\n",
              "        await google.colab.output.renderOutput(dataTable, element);\n",
              "        const docLink = document.createElement('div');\n",
              "        docLink.innerHTML = docLinkHtml;\n",
              "        element.appendChild(docLink);\n",
              "      }\n",
              "    </script>\n",
              "  </div>\n",
              "\n",
              "\n",
              "<div id=\"df-d98c04b5-9b01-4b28-9b15-cb07e0e5d0aa\">\n",
              "  <button class=\"colab-df-quickchart\" onclick=\"quickchart('df-d98c04b5-9b01-4b28-9b15-cb07e0e5d0aa')\"\n",
              "            title=\"Suggest charts\"\n",
              "            style=\"display:none;\">\n",
              "\n",
              "<svg xmlns=\"http://www.w3.org/2000/svg\" height=\"24px\"viewBox=\"0 0 24 24\"\n",
              "     width=\"24px\">\n",
              "    <g>\n",
              "        <path d=\"M19 3H5c-1.1 0-2 .9-2 2v14c0 1.1.9 2 2 2h14c1.1 0 2-.9 2-2V5c0-1.1-.9-2-2-2zM9 17H7v-7h2v7zm4 0h-2V7h2v10zm4 0h-2v-4h2v4z\"/>\n",
              "    </g>\n",
              "</svg>\n",
              "  </button>\n",
              "\n",
              "<style>\n",
              "  .colab-df-quickchart {\n",
              "      --bg-color: #E8F0FE;\n",
              "      --fill-color: #1967D2;\n",
              "      --hover-bg-color: #E2EBFA;\n",
              "      --hover-fill-color: #174EA6;\n",
              "      --disabled-fill-color: #AAA;\n",
              "      --disabled-bg-color: #DDD;\n",
              "  }\n",
              "\n",
              "  [theme=dark] .colab-df-quickchart {\n",
              "      --bg-color: #3B4455;\n",
              "      --fill-color: #D2E3FC;\n",
              "      --hover-bg-color: #434B5C;\n",
              "      --hover-fill-color: #FFFFFF;\n",
              "      --disabled-bg-color: #3B4455;\n",
              "      --disabled-fill-color: #666;\n",
              "  }\n",
              "\n",
              "  .colab-df-quickchart {\n",
              "    background-color: var(--bg-color);\n",
              "    border: none;\n",
              "    border-radius: 50%;\n",
              "    cursor: pointer;\n",
              "    display: none;\n",
              "    fill: var(--fill-color);\n",
              "    height: 32px;\n",
              "    padding: 0;\n",
              "    width: 32px;\n",
              "  }\n",
              "\n",
              "  .colab-df-quickchart:hover {\n",
              "    background-color: var(--hover-bg-color);\n",
              "    box-shadow: 0 1px 2px rgba(60, 64, 67, 0.3), 0 1px 3px 1px rgba(60, 64, 67, 0.15);\n",
              "    fill: var(--button-hover-fill-color);\n",
              "  }\n",
              "\n",
              "  .colab-df-quickchart-complete:disabled,\n",
              "  .colab-df-quickchart-complete:disabled:hover {\n",
              "    background-color: var(--disabled-bg-color);\n",
              "    fill: var(--disabled-fill-color);\n",
              "    box-shadow: none;\n",
              "  }\n",
              "\n",
              "  .colab-df-spinner {\n",
              "    border: 2px solid var(--fill-color);\n",
              "    border-color: transparent;\n",
              "    border-bottom-color: var(--fill-color);\n",
              "    animation:\n",
              "      spin 1s steps(1) infinite;\n",
              "  }\n",
              "\n",
              "  @keyframes spin {\n",
              "    0% {\n",
              "      border-color: transparent;\n",
              "      border-bottom-color: var(--fill-color);\n",
              "      border-left-color: var(--fill-color);\n",
              "    }\n",
              "    20% {\n",
              "      border-color: transparent;\n",
              "      border-left-color: var(--fill-color);\n",
              "      border-top-color: var(--fill-color);\n",
              "    }\n",
              "    30% {\n",
              "      border-color: transparent;\n",
              "      border-left-color: var(--fill-color);\n",
              "      border-top-color: var(--fill-color);\n",
              "      border-right-color: var(--fill-color);\n",
              "    }\n",
              "    40% {\n",
              "      border-color: transparent;\n",
              "      border-right-color: var(--fill-color);\n",
              "      border-top-color: var(--fill-color);\n",
              "    }\n",
              "    60% {\n",
              "      border-color: transparent;\n",
              "      border-right-color: var(--fill-color);\n",
              "    }\n",
              "    80% {\n",
              "      border-color: transparent;\n",
              "      border-right-color: var(--fill-color);\n",
              "      border-bottom-color: var(--fill-color);\n",
              "    }\n",
              "    90% {\n",
              "      border-color: transparent;\n",
              "      border-bottom-color: var(--fill-color);\n",
              "    }\n",
              "  }\n",
              "</style>\n",
              "\n",
              "  <script>\n",
              "    async function quickchart(key) {\n",
              "      const quickchartButtonEl =\n",
              "        document.querySelector('#' + key + ' button');\n",
              "      quickchartButtonEl.disabled = true;  // To prevent multiple clicks.\n",
              "      quickchartButtonEl.classList.add('colab-df-spinner');\n",
              "      try {\n",
              "        const charts = await google.colab.kernel.invokeFunction(\n",
              "            'suggestCharts', [key], {});\n",
              "      } catch (error) {\n",
              "        console.error('Error during call to suggestCharts:', error);\n",
              "      }\n",
              "      quickchartButtonEl.classList.remove('colab-df-spinner');\n",
              "      quickchartButtonEl.classList.add('colab-df-quickchart-complete');\n",
              "    }\n",
              "    (() => {\n",
              "      let quickchartButtonEl =\n",
              "        document.querySelector('#df-d98c04b5-9b01-4b28-9b15-cb07e0e5d0aa button');\n",
              "      quickchartButtonEl.style.display =\n",
              "        google.colab.kernel.accessAllowed ? 'block' : 'none';\n",
              "    })();\n",
              "  </script>\n",
              "</div>\n",
              "    </div>\n",
              "  </div>\n"
            ],
            "application/vnd.google.colaboratory.intrinsic+json": {
              "type": "dataframe",
              "variable_name": "df_train",
              "summary": "{\n  \"name\": \"df_train\",\n  \"rows\": 2180,\n  \"fields\": [\n    {\n      \"column\": \"description\",\n      \"properties\": {\n        \"dtype\": \"string\",\n        \"num_unique_values\": 2171,\n        \"samples\": [\n          \"\\u0e17\\u0e32\\u0e07\\u0e40\\u0e17\\u0e49\\u0e32\\u0e41\\u0e15\\u0e01\\u0e41\\u0e25\\u0e30\\u0e2a\\u0e01\\u0e1b\\u0e23\\u0e01 \\u0e21\\u0e35\\u0e19\\u0e49\\u0e33\\u0e02\\u0e22\\u0e30\\u0e02\\u0e31\\u0e07 \\u0e21\\u0e35\\u0e2b\\u0e19\\u0e39\\u0e15\\u0e32\\u0e22\\u0e43\\u0e19\\u0e23\\u0e48\\u0e2d\\u0e07\\u0e01\\u0e23\\u0e30\\u0e40\\u0e1a\\u0e37\\u0e49\\u0e2d\\u0e07\",\n          \"\\u0e21\\u0e35\\u0e04\\u0e19\\u0e44\\u0e23\\u0e49\\u0e1a\\u0e49\\u0e32\\u0e19\\u0e21\\u0e32\\u0e17\\u0e33\\u0e2a\\u0e34\\u0e48\\u0e07\\u0e1b\\u0e25\\u0e39\\u0e2a\\u0e23\\u0e49\\u0e32\\u0e07\\u0e21\\u0e31\\u0e48\\u0e27\\u0e2a\\u0e38\\u0e21 \\u0e40\\u0e2a\\u0e1e\\u0e22\\u0e32\\u0e15\\u0e31\\u0e49\\u0e07\\u0e27\\u0e07\\u0e40\\u0e2b\\u0e25\\u0e49\\u0e32 \\u0e40\\u0e2a\\u0e35\\u0e22\\u0e07\\u0e14\\u0e31\\u0e07 \\u0e41\\u0e08\\u0e49\\u0e07\\u0e15\\u0e33\\u0e23\\u0e27\\u0e08\\u0e01\\u0e47\\u0e21\\u0e32\\u0e14\\u0e39\\u0e41\\u0e15\\u0e48\\u0e44\\u0e21\\u0e48\\u0e17\\u0e33\\u0e2d\\u0e30\\u0e44\\u0e23 \\u0e40\\u0e14\\u0e47\\u0e01\\u0e19\\u0e31\\u0e01\\u0e40\\u0e23\\u0e35\\u0e22\\u0e19\\u0e40\\u0e14\\u0e34\\u0e19\\u0e1c\\u0e48\\u0e32\\u0e19\\u0e0a\\u0e32\\u0e2a\\u0e1a\\u0e49\\u0e32\\u0e19\\u0e2a\\u0e31\\u0e0d\\u0e08\\u0e23\\u0e22\\u0e32\\u0e21\\u0e27\\u0e34\\u0e01\\u0e32\\u0e25\\u0e40\\u0e14\\u0e37\\u0e2d\\u0e14\\u0e23\\u0e49\\u0e2d\\u0e19\\u0e21\\u0e32\\u0e01\",\n          \"\\u0e15\\u0e31\\u0e49\\u0e07\\u0e42\\u0e15\\u0e4a\\u0e30\\u0e01\\u0e23\\u0e35\\u0e14\\u0e02\\u0e27\\u0e49\\u0e32\\u0e07\\u0e1f\\u0e38\\u0e15\\u0e1a\\u0e32\\u0e17\\u0e04\\u0e19\\u0e1e\\u0e34\\u0e01\\u0e32\\u0e23\"\n        ],\n        \"semantic_type\": \"\",\n        \"description\": \"\"\n      }\n    },\n    {\n      \"column\": \"Category\",\n      \"properties\": {\n        \"dtype\": \"category\",\n        \"num_unique_values\": 28,\n        \"samples\": [\n          \"('\\u0e17\\u0e32\\u0e07\\u0e40\\u0e17\\u0e49\\u0e32', '\\u0e17\\u0e32\\u0e07\\u0e40\\u0e17\\u0e49\\u0e32\\u0e0a\\u0e33\\u0e23\\u0e38\\u0e14')\",\n          \"('\\u0e17\\u0e32\\u0e07\\u0e40\\u0e17\\u0e49\\u0e32', '\\u0e2b\\u0e32\\u0e1a\\u0e40\\u0e23\\u0e48\\u0e41\\u0e1c\\u0e07\\u0e25\\u0e2d\\u0e22')\",\n          \"('\\u0e16\\u0e19\\u0e19', '\\u0e17\\u0e32\\u0e07\\u0e21\\u0e49\\u0e32\\u0e25\\u0e32\\u0e22')\"\n        ],\n        \"semantic_type\": \"\",\n        \"description\": \"\"\n      }\n    },\n    {\n      \"column\": \"Message\",\n      \"properties\": {\n        \"dtype\": \"string\",\n        \"num_unique_values\": 2171,\n        \"samples\": [\n          \"\\u0e17\\u0e32\\u0e07\\u0e40\\u0e17\\u0e49\\u0e32 \\u0e41\\u0e15\\u0e01 \\u0e41\\u0e25\\u0e30 \\u0e2a\\u0e01\\u0e1b\\u0e23\\u0e01   \\u0e21\\u0e35 \\u0e19\\u0e49\\u0e33 \\u0e02\\u0e22\\u0e30 \\u0e02\\u0e31\\u0e07   \\u0e21\\u0e35 \\u0e2b\\u0e19\\u0e39 \\u0e15\\u0e32\\u0e22 \\u0e43\\u0e19 \\u0e23\\u0e48\\u0e2d\\u0e07 \\u0e01\\u0e23\\u0e30\\u0e40\\u0e1a\\u0e37\\u0e49\\u0e2d\\u0e07\",\n          \"\\u0e21\\u0e35 \\u0e04\\u0e19 \\u0e44\\u0e23\\u0e49 \\u0e1a\\u0e49\\u0e32\\u0e19 \\u0e21\\u0e32 \\u0e17\\u0e33 \\u0e2a\\u0e34\\u0e48\\u0e07 \\u0e1b\\u0e25\\u0e39 \\u0e2a\\u0e23\\u0e49\\u0e32\\u0e07 \\u0e21\\u0e31\\u0e48\\u0e27\\u0e2a\\u0e38\\u0e21   \\u0e40\\u0e2a\\u0e1e \\u0e22\\u0e32 \\u0e15\\u0e31\\u0e49\\u0e07\\u0e27\\u0e07 \\u0e40\\u0e2b\\u0e25\\u0e49\\u0e32   \\u0e40\\u0e2a\\u0e35\\u0e22\\u0e07\\u0e14\\u0e31\\u0e07   \\u0e41\\u0e08\\u0e49\\u0e07\\u0e15\\u0e33\\u0e23\\u0e27\\u0e08 \\u0e01\\u0e47 \\u0e21\\u0e32 \\u0e14\\u0e39 \\u0e41\\u0e15\\u0e48 \\u0e44\\u0e21\\u0e48 \\u0e17\\u0e33 \\u0e2d\\u0e30\\u0e44\\u0e23   \\u0e40\\u0e14\\u0e47\\u0e01\\u0e19\\u0e31\\u0e01\\u0e40\\u0e23\\u0e35\\u0e22\\u0e19 \\u0e40\\u0e14\\u0e34\\u0e19\\u0e1c\\u0e48\\u0e32\\u0e19 \\u0e0a\\u0e32 \\u0e2a \\u0e1a\\u0e49\\u0e32\\u0e19 \\u0e2a\\u0e31\\u0e0d\\u0e08\\u0e23 \\u0e22\\u0e32\\u0e21\\u0e27\\u0e34\\u0e01\\u0e32\\u0e25 \\u0e40\\u0e14\\u0e37\\u0e2d\\u0e14\\u0e23\\u0e49\\u0e2d\\u0e19 \\u0e21\\u0e32\\u0e01\",\n          \"\\u0e15\\u0e31\\u0e49\\u0e07\\u0e42\\u0e15\\u0e4a\\u0e30 \\u0e01\\u0e23\\u0e35\\u0e14 \\u0e02\\u0e27\\u0e49\\u0e32\\u0e07 \\u0e1f\\u0e38\\u0e15\\u0e1a\\u0e32\\u0e17 \\u0e04\\u0e19\\u0e1e\\u0e34\\u0e01\\u0e32\\u0e23\"\n        ],\n        \"semantic_type\": \"\",\n        \"description\": \"\"\n      }\n    }\n  ]\n}"
            }
          },
          "metadata": {},
          "execution_count": 141
        }
      ],
      "source": [
        "df_train = df_train.rename(columns={\"process\":\"Message\",\"label\":\"Category\"})\n",
        "df_train"
      ]
    },
    {
      "cell_type": "code",
      "execution_count": null,
      "metadata": {
        "colab": {
          "base_uri": "https://localhost:8080/",
          "height": 424
        },
        "id": "F8utfCLIFQth",
        "outputId": "2e9c4838-7fd6-4f93-db0d-730df5fee304",
        "tags": []
      },
      "outputs": [
        {
          "output_type": "execute_result",
          "data": {
            "text/plain": [
              "                                           description  \\\n",
              "0    ไฟที่ควรเปิดตรงทางเดินบริเวณทางเท้าไม่เปิดเลย ...   \n",
              "1    คนไร้บ้านแอบเข้ามาอยู่ในบ้านร้างแถวท้ายซอยวัดอ...   \n",
              "2    รถกลับรถตัดเข้าซอย  รถในซอยตัดออกไปกลับรถ กลับ...   \n",
              "3                                          ขยะค้างเก็บ   \n",
              "4    ต้นไม้รกรุงรังตรงใต้สะพานข้ามแยก 4 แยกคลองตัน ...   \n",
              "..                                                 ...   \n",
              "541  ตลาดต้รไทรยังเสียงดังหลัง 4 ทุ่ม ยังไม่มีมาตรก...   \n",
              "542  น้ำท่วมในซอย ไม่สามารถระบายได้ทัน ทำให้ภายในบ้...   \n",
              "543  มีรถแบคโฮ และรถบรรทุก ขนหินทราย ข้างบ้านในทุกว...   \n",
              "544  แจ้งเรื่องเผาบริเวณริมบึงหมู่บ้านเธียรสวน มักจ...   \n",
              "545  ขออนุญาตแจ้งเพิ่มเติมครับจุดนี้น้ำท่วมขังบ่อยค...   \n",
              "\n",
              "                       Category  \\\n",
              "0      ('ไฟฟ้า', 'ไฟส่องสว่าง')   \n",
              "1               คนไร้บ้าน&ขอทาน   \n",
              "2       ('ถนน', 'รถจอดขวางถนน')   \n",
              "3                ('ขยะ', 'ขยะ')   \n",
              "4               คนไร้บ้าน&ขอทาน   \n",
              "..                          ...   \n",
              "541                       เสียง   \n",
              "542                     น้ำท่วม   \n",
              "543              มลภาวะทางอากาศ   \n",
              "544              มลภาวะทางอากาศ   \n",
              "545  ('ถนน', 'พื้นผิวถนนชำรุด')   \n",
              "\n",
              "                                               Message  \n",
              "0    ไฟ ที่ ควร เปิด ตรง ทางเดิน บริเวณ ทางเท้า ไม่...  \n",
              "1    คน ไร้ บ้าน แอบ เข้ามา อยู่ ใน บ้าน ร้าง แถว ท...  \n",
              "2    รถ กลับรถ ตัด เข้า ซอย    รถ ใน ซอย ตัดออก ไป ...  \n",
              "3                                        ขยะ ค้าง เก็บ  \n",
              "4    ต้นไม้ รกรุงรัง ตรง ใต้ สะพาน ข้าม แยก   4   แ...  \n",
              "..                                                 ...  \n",
              "541  ตลาด ต้ร ไทร ยัง เสียงดัง หลัง   4   ทุ่ม   ยั...  \n",
              "542  น้ำท่วม ใน ซอย   ไม่ สามารถ ระบาย ได้ ทัน   ทำ...  \n",
              "543  มี รถ แบคโฮ   และ รถบรรทุก   ขน หินทราย   ข้าง...  \n",
              "544  แจ้ง เรื่อง เผา บริเวณ ริม บึง หมู่บ้าน เธียร ...  \n",
              "545  ขออนุญาต แจ้ง เพิ่มเติม ครับ จุด นี้ น้ำท่วม ข...  \n",
              "\n",
              "[546 rows x 3 columns]"
            ],
            "text/html": [
              "\n",
              "  <div id=\"df-c656dd4e-05fe-45f6-b939-f1496c98fd8f\" class=\"colab-df-container\">\n",
              "    <div>\n",
              "<style scoped>\n",
              "    .dataframe tbody tr th:only-of-type {\n",
              "        vertical-align: middle;\n",
              "    }\n",
              "\n",
              "    .dataframe tbody tr th {\n",
              "        vertical-align: top;\n",
              "    }\n",
              "\n",
              "    .dataframe thead th {\n",
              "        text-align: right;\n",
              "    }\n",
              "</style>\n",
              "<table border=\"1\" class=\"dataframe\">\n",
              "  <thead>\n",
              "    <tr style=\"text-align: right;\">\n",
              "      <th></th>\n",
              "      <th>description</th>\n",
              "      <th>Category</th>\n",
              "      <th>Message</th>\n",
              "    </tr>\n",
              "  </thead>\n",
              "  <tbody>\n",
              "    <tr>\n",
              "      <th>0</th>\n",
              "      <td>ไฟที่ควรเปิดตรงทางเดินบริเวณทางเท้าไม่เปิดเลย ...</td>\n",
              "      <td>('ไฟฟ้า', 'ไฟส่องสว่าง')</td>\n",
              "      <td>ไฟ ที่ ควร เปิด ตรง ทางเดิน บริเวณ ทางเท้า ไม่...</td>\n",
              "    </tr>\n",
              "    <tr>\n",
              "      <th>1</th>\n",
              "      <td>คนไร้บ้านแอบเข้ามาอยู่ในบ้านร้างแถวท้ายซอยวัดอ...</td>\n",
              "      <td>คนไร้บ้าน&amp;ขอทาน</td>\n",
              "      <td>คน ไร้ บ้าน แอบ เข้ามา อยู่ ใน บ้าน ร้าง แถว ท...</td>\n",
              "    </tr>\n",
              "    <tr>\n",
              "      <th>2</th>\n",
              "      <td>รถกลับรถตัดเข้าซอย  รถในซอยตัดออกไปกลับรถ กลับ...</td>\n",
              "      <td>('ถนน', 'รถจอดขวางถนน')</td>\n",
              "      <td>รถ กลับรถ ตัด เข้า ซอย    รถ ใน ซอย ตัดออก ไป ...</td>\n",
              "    </tr>\n",
              "    <tr>\n",
              "      <th>3</th>\n",
              "      <td>ขยะค้างเก็บ</td>\n",
              "      <td>('ขยะ', 'ขยะ')</td>\n",
              "      <td>ขยะ ค้าง เก็บ</td>\n",
              "    </tr>\n",
              "    <tr>\n",
              "      <th>4</th>\n",
              "      <td>ต้นไม้รกรุงรังตรงใต้สะพานข้ามแยก 4 แยกคลองตัน ...</td>\n",
              "      <td>คนไร้บ้าน&amp;ขอทาน</td>\n",
              "      <td>ต้นไม้ รกรุงรัง ตรง ใต้ สะพาน ข้าม แยก   4   แ...</td>\n",
              "    </tr>\n",
              "    <tr>\n",
              "      <th>...</th>\n",
              "      <td>...</td>\n",
              "      <td>...</td>\n",
              "      <td>...</td>\n",
              "    </tr>\n",
              "    <tr>\n",
              "      <th>541</th>\n",
              "      <td>ตลาดต้รไทรยังเสียงดังหลัง 4 ทุ่ม ยังไม่มีมาตรก...</td>\n",
              "      <td>เสียง</td>\n",
              "      <td>ตลาด ต้ร ไทร ยัง เสียงดัง หลัง   4   ทุ่ม   ยั...</td>\n",
              "    </tr>\n",
              "    <tr>\n",
              "      <th>542</th>\n",
              "      <td>น้ำท่วมในซอย ไม่สามารถระบายได้ทัน ทำให้ภายในบ้...</td>\n",
              "      <td>น้ำท่วม</td>\n",
              "      <td>น้ำท่วม ใน ซอย   ไม่ สามารถ ระบาย ได้ ทัน   ทำ...</td>\n",
              "    </tr>\n",
              "    <tr>\n",
              "      <th>543</th>\n",
              "      <td>มีรถแบคโฮ และรถบรรทุก ขนหินทราย ข้างบ้านในทุกว...</td>\n",
              "      <td>มลภาวะทางอากาศ</td>\n",
              "      <td>มี รถ แบคโฮ   และ รถบรรทุก   ขน หินทราย   ข้าง...</td>\n",
              "    </tr>\n",
              "    <tr>\n",
              "      <th>544</th>\n",
              "      <td>แจ้งเรื่องเผาบริเวณริมบึงหมู่บ้านเธียรสวน มักจ...</td>\n",
              "      <td>มลภาวะทางอากาศ</td>\n",
              "      <td>แจ้ง เรื่อง เผา บริเวณ ริม บึง หมู่บ้าน เธียร ...</td>\n",
              "    </tr>\n",
              "    <tr>\n",
              "      <th>545</th>\n",
              "      <td>ขออนุญาตแจ้งเพิ่มเติมครับจุดนี้น้ำท่วมขังบ่อยค...</td>\n",
              "      <td>('ถนน', 'พื้นผิวถนนชำรุด')</td>\n",
              "      <td>ขออนุญาต แจ้ง เพิ่มเติม ครับ จุด นี้ น้ำท่วม ข...</td>\n",
              "    </tr>\n",
              "  </tbody>\n",
              "</table>\n",
              "<p>546 rows × 3 columns</p>\n",
              "</div>\n",
              "    <div class=\"colab-df-buttons\">\n",
              "\n",
              "  <div class=\"colab-df-container\">\n",
              "    <button class=\"colab-df-convert\" onclick=\"convertToInteractive('df-c656dd4e-05fe-45f6-b939-f1496c98fd8f')\"\n",
              "            title=\"Convert this dataframe to an interactive table.\"\n",
              "            style=\"display:none;\">\n",
              "\n",
              "  <svg xmlns=\"http://www.w3.org/2000/svg\" height=\"24px\" viewBox=\"0 -960 960 960\">\n",
              "    <path d=\"M120-120v-720h720v720H120Zm60-500h600v-160H180v160Zm220 220h160v-160H400v160Zm0 220h160v-160H400v160ZM180-400h160v-160H180v160Zm440 0h160v-160H620v160ZM180-180h160v-160H180v160Zm440 0h160v-160H620v160Z\"/>\n",
              "  </svg>\n",
              "    </button>\n",
              "\n",
              "  <style>\n",
              "    .colab-df-container {\n",
              "      display:flex;\n",
              "      gap: 12px;\n",
              "    }\n",
              "\n",
              "    .colab-df-convert {\n",
              "      background-color: #E8F0FE;\n",
              "      border: none;\n",
              "      border-radius: 50%;\n",
              "      cursor: pointer;\n",
              "      display: none;\n",
              "      fill: #1967D2;\n",
              "      height: 32px;\n",
              "      padding: 0 0 0 0;\n",
              "      width: 32px;\n",
              "    }\n",
              "\n",
              "    .colab-df-convert:hover {\n",
              "      background-color: #E2EBFA;\n",
              "      box-shadow: 0px 1px 2px rgba(60, 64, 67, 0.3), 0px 1px 3px 1px rgba(60, 64, 67, 0.15);\n",
              "      fill: #174EA6;\n",
              "    }\n",
              "\n",
              "    .colab-df-buttons div {\n",
              "      margin-bottom: 4px;\n",
              "    }\n",
              "\n",
              "    [theme=dark] .colab-df-convert {\n",
              "      background-color: #3B4455;\n",
              "      fill: #D2E3FC;\n",
              "    }\n",
              "\n",
              "    [theme=dark] .colab-df-convert:hover {\n",
              "      background-color: #434B5C;\n",
              "      box-shadow: 0px 1px 3px 1px rgba(0, 0, 0, 0.15);\n",
              "      filter: drop-shadow(0px 1px 2px rgba(0, 0, 0, 0.3));\n",
              "      fill: #FFFFFF;\n",
              "    }\n",
              "  </style>\n",
              "\n",
              "    <script>\n",
              "      const buttonEl =\n",
              "        document.querySelector('#df-c656dd4e-05fe-45f6-b939-f1496c98fd8f button.colab-df-convert');\n",
              "      buttonEl.style.display =\n",
              "        google.colab.kernel.accessAllowed ? 'block' : 'none';\n",
              "\n",
              "      async function convertToInteractive(key) {\n",
              "        const element = document.querySelector('#df-c656dd4e-05fe-45f6-b939-f1496c98fd8f');\n",
              "        const dataTable =\n",
              "          await google.colab.kernel.invokeFunction('convertToInteractive',\n",
              "                                                    [key], {});\n",
              "        if (!dataTable) return;\n",
              "\n",
              "        const docLinkHtml = 'Like what you see? Visit the ' +\n",
              "          '<a target=\"_blank\" href=https://colab.research.google.com/notebooks/data_table.ipynb>data table notebook</a>'\n",
              "          + ' to learn more about interactive tables.';\n",
              "        element.innerHTML = '';\n",
              "        dataTable['output_type'] = 'display_data';\n",
              "        await google.colab.output.renderOutput(dataTable, element);\n",
              "        const docLink = document.createElement('div');\n",
              "        docLink.innerHTML = docLinkHtml;\n",
              "        element.appendChild(docLink);\n",
              "      }\n",
              "    </script>\n",
              "  </div>\n",
              "\n",
              "\n",
              "<div id=\"df-06c66886-2561-4691-b666-d1af2bdf42b5\">\n",
              "  <button class=\"colab-df-quickchart\" onclick=\"quickchart('df-06c66886-2561-4691-b666-d1af2bdf42b5')\"\n",
              "            title=\"Suggest charts\"\n",
              "            style=\"display:none;\">\n",
              "\n",
              "<svg xmlns=\"http://www.w3.org/2000/svg\" height=\"24px\"viewBox=\"0 0 24 24\"\n",
              "     width=\"24px\">\n",
              "    <g>\n",
              "        <path d=\"M19 3H5c-1.1 0-2 .9-2 2v14c0 1.1.9 2 2 2h14c1.1 0 2-.9 2-2V5c0-1.1-.9-2-2-2zM9 17H7v-7h2v7zm4 0h-2V7h2v10zm4 0h-2v-4h2v4z\"/>\n",
              "    </g>\n",
              "</svg>\n",
              "  </button>\n",
              "\n",
              "<style>\n",
              "  .colab-df-quickchart {\n",
              "      --bg-color: #E8F0FE;\n",
              "      --fill-color: #1967D2;\n",
              "      --hover-bg-color: #E2EBFA;\n",
              "      --hover-fill-color: #174EA6;\n",
              "      --disabled-fill-color: #AAA;\n",
              "      --disabled-bg-color: #DDD;\n",
              "  }\n",
              "\n",
              "  [theme=dark] .colab-df-quickchart {\n",
              "      --bg-color: #3B4455;\n",
              "      --fill-color: #D2E3FC;\n",
              "      --hover-bg-color: #434B5C;\n",
              "      --hover-fill-color: #FFFFFF;\n",
              "      --disabled-bg-color: #3B4455;\n",
              "      --disabled-fill-color: #666;\n",
              "  }\n",
              "\n",
              "  .colab-df-quickchart {\n",
              "    background-color: var(--bg-color);\n",
              "    border: none;\n",
              "    border-radius: 50%;\n",
              "    cursor: pointer;\n",
              "    display: none;\n",
              "    fill: var(--fill-color);\n",
              "    height: 32px;\n",
              "    padding: 0;\n",
              "    width: 32px;\n",
              "  }\n",
              "\n",
              "  .colab-df-quickchart:hover {\n",
              "    background-color: var(--hover-bg-color);\n",
              "    box-shadow: 0 1px 2px rgba(60, 64, 67, 0.3), 0 1px 3px 1px rgba(60, 64, 67, 0.15);\n",
              "    fill: var(--button-hover-fill-color);\n",
              "  }\n",
              "\n",
              "  .colab-df-quickchart-complete:disabled,\n",
              "  .colab-df-quickchart-complete:disabled:hover {\n",
              "    background-color: var(--disabled-bg-color);\n",
              "    fill: var(--disabled-fill-color);\n",
              "    box-shadow: none;\n",
              "  }\n",
              "\n",
              "  .colab-df-spinner {\n",
              "    border: 2px solid var(--fill-color);\n",
              "    border-color: transparent;\n",
              "    border-bottom-color: var(--fill-color);\n",
              "    animation:\n",
              "      spin 1s steps(1) infinite;\n",
              "  }\n",
              "\n",
              "  @keyframes spin {\n",
              "    0% {\n",
              "      border-color: transparent;\n",
              "      border-bottom-color: var(--fill-color);\n",
              "      border-left-color: var(--fill-color);\n",
              "    }\n",
              "    20% {\n",
              "      border-color: transparent;\n",
              "      border-left-color: var(--fill-color);\n",
              "      border-top-color: var(--fill-color);\n",
              "    }\n",
              "    30% {\n",
              "      border-color: transparent;\n",
              "      border-left-color: var(--fill-color);\n",
              "      border-top-color: var(--fill-color);\n",
              "      border-right-color: var(--fill-color);\n",
              "    }\n",
              "    40% {\n",
              "      border-color: transparent;\n",
              "      border-right-color: var(--fill-color);\n",
              "      border-top-color: var(--fill-color);\n",
              "    }\n",
              "    60% {\n",
              "      border-color: transparent;\n",
              "      border-right-color: var(--fill-color);\n",
              "    }\n",
              "    80% {\n",
              "      border-color: transparent;\n",
              "      border-right-color: var(--fill-color);\n",
              "      border-bottom-color: var(--fill-color);\n",
              "    }\n",
              "    90% {\n",
              "      border-color: transparent;\n",
              "      border-bottom-color: var(--fill-color);\n",
              "    }\n",
              "  }\n",
              "</style>\n",
              "\n",
              "  <script>\n",
              "    async function quickchart(key) {\n",
              "      const quickchartButtonEl =\n",
              "        document.querySelector('#' + key + ' button');\n",
              "      quickchartButtonEl.disabled = true;  // To prevent multiple clicks.\n",
              "      quickchartButtonEl.classList.add('colab-df-spinner');\n",
              "      try {\n",
              "        const charts = await google.colab.kernel.invokeFunction(\n",
              "            'suggestCharts', [key], {});\n",
              "      } catch (error) {\n",
              "        console.error('Error during call to suggestCharts:', error);\n",
              "      }\n",
              "      quickchartButtonEl.classList.remove('colab-df-spinner');\n",
              "      quickchartButtonEl.classList.add('colab-df-quickchart-complete');\n",
              "    }\n",
              "    (() => {\n",
              "      let quickchartButtonEl =\n",
              "        document.querySelector('#df-06c66886-2561-4691-b666-d1af2bdf42b5 button');\n",
              "      quickchartButtonEl.style.display =\n",
              "        google.colab.kernel.accessAllowed ? 'block' : 'none';\n",
              "    })();\n",
              "  </script>\n",
              "</div>\n",
              "    </div>\n",
              "  </div>\n"
            ],
            "application/vnd.google.colaboratory.intrinsic+json": {
              "type": "dataframe",
              "variable_name": "df_test",
              "summary": "{\n  \"name\": \"df_test\",\n  \"rows\": 546,\n  \"fields\": [\n    {\n      \"column\": \"description\",\n      \"properties\": {\n        \"dtype\": \"string\",\n        \"num_unique_values\": 545,\n        \"samples\": [\n          \"\\u0e2b\\u0e21\\u0e49\\u0e2d\\u0e41\\u0e1b\\u0e25\\u0e07\\u0e23\\u0e30\\u0e40\\u0e1a\\u0e34\\u0e14  \\u0e44\\u0e1f\\u0e1f\\u0e49\\u0e32\\u0e14\\u0e31\\u0e1a\",\n          \"\\u0e02\\u0e2d\\u0e04\\u0e27\\u0e32\\u0e21\\u0e2d\\u0e19\\u0e38\\u0e40\\u0e04\\u0e23\\u0e32\\u0e30\\u0e2b\\u0e4c\\u0e40\\u0e17\\u0e28\\u0e01\\u0e34\\u0e08\\u0e08\\u0e31\\u0e14\\u0e23\\u0e30\\u0e40\\u0e1a\\u0e35\\u0e22\\u0e1a\\u0e27\\u0e34\\u0e19\\u0e21\\u0e2d\\u0e40\\u0e15\\u0e2d\\u0e23\\u0e4c\\u0e44\\u0e0b\\u0e04\\u0e4c\\u0e23\\u0e31\\u0e1a\\u0e08\\u0e49\\u0e32\\u0e07\\u0e17\\u0e48\\u0e32\\u0e0a\\u0e49\\u0e32\\u0e07 \\u0e40\\u0e19\\u0e37\\u0e48\\u0e2d\\u0e07\\u0e08\\u0e32\\u0e01\\u0e01\\u0e35\\u0e14\\u0e02\\u0e27\\u0e32\\u0e07\\u0e01\\u0e32\\u0e23\\u0e40\\u0e14\\u0e34\\u0e19\\u0e40\\u0e17\\u0e49\\u0e32\\u0e41\\u0e25\\u0e30\\u0e21\\u0e35\\u0e01\\u0e32\\u0e23\\u0e17\\u0e34\\u0e49\\u0e07\\u0e02\\u0e22\\u0e30\\u0e2a\\u0e34\\u0e48\\u0e07\\u0e2a\\u0e01\\u0e1b\\u0e23\\u0e01\\u0e1a\\u0e23\\u0e34\\u0e40\\u0e27\\u0e13\\u0e02\\u0e49\\u0e32\\u0e07\\u0e21\\u0e2b\\u0e32\\u0e27\\u0e34\\u0e17\\u0e22\\u0e32\\u0e25\\u0e31\\u0e22\\u0e28\\u0e34\\u0e25\\u0e1b\\u0e32\\u0e01\\u0e23 \\u0e27\\u0e31\\u0e07\\u0e17\\u0e48\\u0e32\\u0e1e\\u0e23\\u0e30\",\n          \"\\u0e41\\u0e08\\u0e49\\u0e07\\u0e04\\u0e19\\u0e02\\u0e27\\u0e32\\u0e07\\u0e17\\u0e32\\u0e07\\u0e40\\u0e17\\u0e49\\u0e32\"\n        ],\n        \"semantic_type\": \"\",\n        \"description\": \"\"\n      }\n    },\n    {\n      \"column\": \"Category\",\n      \"properties\": {\n        \"dtype\": \"category\",\n        \"num_unique_values\": 28,\n        \"samples\": [\n          \"\\u0e40\\u0e2a\\u0e35\\u0e22\\u0e07\",\n          \"('\\u0e17\\u0e32\\u0e07\\u0e40\\u0e17\\u0e49\\u0e32', '\\u0e23\\u0e16\\u0e08\\u0e2d\\u0e14\\u0e02\\u0e27\\u0e32\\u0e07\\u0e17\\u0e32\\u0e07\\u0e40\\u0e17\\u0e49\\u0e32')\",\n          \"('\\u0e16\\u0e19\\u0e19', '\\u0e17\\u0e48\\u0e2d\\u0e23\\u0e30\\u0e1a\\u0e32\\u0e22\\u0e19\\u0e49\\u0e33\\u0e1a\\u0e19\\u0e16\\u0e19\\u0e19')\"\n        ],\n        \"semantic_type\": \"\",\n        \"description\": \"\"\n      }\n    },\n    {\n      \"column\": \"Message\",\n      \"properties\": {\n        \"dtype\": \"string\",\n        \"num_unique_values\": 545,\n        \"samples\": [\n          \"\\u0e2b\\u0e21\\u0e49\\u0e2d\\u0e41\\u0e1b\\u0e25\\u0e07 \\u0e23\\u0e30\\u0e40\\u0e1a\\u0e34\\u0e14    \\u0e44\\u0e1f\\u0e1f\\u0e49\\u0e32 \\u0e14\\u0e31\\u0e1a\",\n          \"\\u0e02\\u0e2d \\u0e04\\u0e27\\u0e32\\u0e21\\u0e2d\\u0e19\\u0e38\\u0e40\\u0e04\\u0e23\\u0e32\\u0e30\\u0e2b\\u0e4c \\u0e40\\u0e17\\u0e28\\u0e01\\u0e34\\u0e08 \\u0e08\\u0e31\\u0e14\\u0e23\\u0e30\\u0e40\\u0e1a\\u0e35\\u0e22\\u0e1a \\u0e27\\u0e34\\u0e19 \\u0e21\\u0e2d\\u0e40\\u0e15\\u0e2d\\u0e23\\u0e4c\\u0e44\\u0e0b\\u0e04\\u0e4c \\u0e23\\u0e31\\u0e1a\\u0e08\\u0e49\\u0e32\\u0e07 \\u0e17\\u0e48\\u0e32 \\u0e0a\\u0e49\\u0e32\\u0e07   \\u0e40\\u0e19\\u0e37\\u0e48\\u0e2d\\u0e07\\u0e08\\u0e32\\u0e01 \\u0e01\\u0e35\\u0e14\\u0e02\\u0e27\\u0e32\\u0e07 \\u0e01\\u0e32\\u0e23 \\u0e40\\u0e14\\u0e34\\u0e19\\u0e40\\u0e17\\u0e49\\u0e32 \\u0e41\\u0e25\\u0e30 \\u0e21\\u0e35 \\u0e01\\u0e32\\u0e23 \\u0e17\\u0e34\\u0e49\\u0e07 \\u0e02\\u0e22\\u0e30 \\u0e2a\\u0e34\\u0e48\\u0e07\\u0e2a\\u0e01\\u0e1b\\u0e23\\u0e01 \\u0e1a\\u0e23\\u0e34\\u0e40\\u0e27\\u0e13 \\u0e02\\u0e49\\u0e32\\u0e07 \\u0e21\\u0e2b\\u0e32\\u0e27\\u0e34\\u0e17\\u0e22\\u0e32\\u0e25\\u0e31\\u0e22\\u0e28\\u0e34\\u0e25\\u0e1b\\u0e32\\u0e01\\u0e23   \\u0e27\\u0e31\\u0e07 \\u0e17\\u0e48\\u0e32 \\u0e1e\\u0e23\\u0e30\",\n          \"\\u0e41\\u0e08\\u0e49\\u0e07 \\u0e04\\u0e19 \\u0e02\\u0e27\\u0e32\\u0e07 \\u0e17\\u0e32\\u0e07\\u0e40\\u0e17\\u0e49\\u0e32\"\n        ],\n        \"semantic_type\": \"\",\n        \"description\": \"\"\n      }\n    }\n  ]\n}"
            }
          },
          "metadata": {},
          "execution_count": 142
        }
      ],
      "source": [
        "df_test = df_test.rename(columns={\"process\":\"Message\",\"label\":\"Category\"})\n",
        "df_test"
      ]
    },
    {
      "cell_type": "code",
      "execution_count": null,
      "metadata": {
        "colab": {
          "base_uri": "https://localhost:8080/",
          "height": 424
        },
        "id": "JCkLtglVw39H",
        "outputId": "fec2f0dc-db7e-4381-b64d-6a2d33e1b2b2",
        "tags": []
      },
      "outputs": [
        {
          "output_type": "execute_result",
          "data": {
            "text/plain": [
              "                                            description Category  \\\n",
              "8                       ยอดโยธี หน้ากรมการสารวัตรทหารบก   reject   \n",
              "21                                            นำ้ตาท่วม   reject   \n",
              "41    ตรงซอยประเสริฐมนูกิจ 14 เส้นริมถนนเกษตร- นวมิน...   reject   \n",
              "61    Freesia Saladaeng Silom Apartments 02 636 3856...   reject   \n",
              "91                       จุดกลับรถหน้าดับเพลิงบางอ้อค่ะ   reject   \n",
              "...                                                 ...      ...   \n",
              "2132                                     “ใครรับผิดชอบ”   reject   \n",
              "2147  แจ้งปัญหาเดิมครับพึ่งแจ้งไปไม่มีการแก้ไขแต่ขึ้...   reject   \n",
              "2152                         แบบนีเ ผมว่า ละเมิด นะครับ   reject   \n",
              "2175                                          ทดลองแจ้ง   reject   \n",
              "2178                         เช้านี้ยังติดเหมือนเดิมค่ะ   reject   \n",
              "\n",
              "                                                Message  \n",
              "8                ยอด โย ธี   หน้า กรมการ สารวัตร ทหารบก  \n",
              "21                                          นำ้ ตา ท่วม  \n",
              "41    ตรง ซอย ประเสริฐ มนู กิจ   14   เส้น ริมถนน เก...  \n",
              "61    Freesia   Saladaeng   Silom   Apartments   02 ...  \n",
              "91                จุด กลับรถ หน้า ดับ เพลิง บาง อ้อ ค่ะ  \n",
              "...                                                 ...  \n",
              "2132                                  “ ใคร รับผิดชอบ ”  \n",
              "2147  แจ้ง ปัญหา เดิม ครับ พึ่ง แจ้ง ไป ไม่ มี การ แ...  \n",
              "2152                แบบ นีเ   ผม ว่า   ละเมิด   นะ ครับ  \n",
              "2175                                         ทดลอง แจ้ง  \n",
              "2178                     เช้านี้ ยัง ติด เหมือนเดิม ค่ะ  \n",
              "\n",
              "[151 rows x 3 columns]"
            ],
            "text/html": [
              "\n",
              "  <div id=\"df-e36f5bc6-4d09-4e9c-af37-1fa7f8d36929\" class=\"colab-df-container\">\n",
              "    <div>\n",
              "<style scoped>\n",
              "    .dataframe tbody tr th:only-of-type {\n",
              "        vertical-align: middle;\n",
              "    }\n",
              "\n",
              "    .dataframe tbody tr th {\n",
              "        vertical-align: top;\n",
              "    }\n",
              "\n",
              "    .dataframe thead th {\n",
              "        text-align: right;\n",
              "    }\n",
              "</style>\n",
              "<table border=\"1\" class=\"dataframe\">\n",
              "  <thead>\n",
              "    <tr style=\"text-align: right;\">\n",
              "      <th></th>\n",
              "      <th>description</th>\n",
              "      <th>Category</th>\n",
              "      <th>Message</th>\n",
              "    </tr>\n",
              "  </thead>\n",
              "  <tbody>\n",
              "    <tr>\n",
              "      <th>8</th>\n",
              "      <td>ยอดโยธี หน้ากรมการสารวัตรทหารบก</td>\n",
              "      <td>reject</td>\n",
              "      <td>ยอด โย ธี   หน้า กรมการ สารวัตร ทหารบก</td>\n",
              "    </tr>\n",
              "    <tr>\n",
              "      <th>21</th>\n",
              "      <td>นำ้ตาท่วม</td>\n",
              "      <td>reject</td>\n",
              "      <td>นำ้ ตา ท่วม</td>\n",
              "    </tr>\n",
              "    <tr>\n",
              "      <th>41</th>\n",
              "      <td>ตรงซอยประเสริฐมนูกิจ 14 เส้นริมถนนเกษตร- นวมิน...</td>\n",
              "      <td>reject</td>\n",
              "      <td>ตรง ซอย ประเสริฐ มนู กิจ   14   เส้น ริมถนน เก...</td>\n",
              "    </tr>\n",
              "    <tr>\n",
              "      <th>61</th>\n",
              "      <td>Freesia Saladaeng Silom Apartments 02 636 3856...</td>\n",
              "      <td>reject</td>\n",
              "      <td>Freesia   Saladaeng   Silom   Apartments   02 ...</td>\n",
              "    </tr>\n",
              "    <tr>\n",
              "      <th>91</th>\n",
              "      <td>จุดกลับรถหน้าดับเพลิงบางอ้อค่ะ</td>\n",
              "      <td>reject</td>\n",
              "      <td>จุด กลับรถ หน้า ดับ เพลิง บาง อ้อ ค่ะ</td>\n",
              "    </tr>\n",
              "    <tr>\n",
              "      <th>...</th>\n",
              "      <td>...</td>\n",
              "      <td>...</td>\n",
              "      <td>...</td>\n",
              "    </tr>\n",
              "    <tr>\n",
              "      <th>2132</th>\n",
              "      <td>“ใครรับผิดชอบ”</td>\n",
              "      <td>reject</td>\n",
              "      <td>“ ใคร รับผิดชอบ ”</td>\n",
              "    </tr>\n",
              "    <tr>\n",
              "      <th>2147</th>\n",
              "      <td>แจ้งปัญหาเดิมครับพึ่งแจ้งไปไม่มีการแก้ไขแต่ขึ้...</td>\n",
              "      <td>reject</td>\n",
              "      <td>แจ้ง ปัญหา เดิม ครับ พึ่ง แจ้ง ไป ไม่ มี การ แ...</td>\n",
              "    </tr>\n",
              "    <tr>\n",
              "      <th>2152</th>\n",
              "      <td>แบบนีเ ผมว่า ละเมิด นะครับ</td>\n",
              "      <td>reject</td>\n",
              "      <td>แบบ นีเ   ผม ว่า   ละเมิด   นะ ครับ</td>\n",
              "    </tr>\n",
              "    <tr>\n",
              "      <th>2175</th>\n",
              "      <td>ทดลองแจ้ง</td>\n",
              "      <td>reject</td>\n",
              "      <td>ทดลอง แจ้ง</td>\n",
              "    </tr>\n",
              "    <tr>\n",
              "      <th>2178</th>\n",
              "      <td>เช้านี้ยังติดเหมือนเดิมค่ะ</td>\n",
              "      <td>reject</td>\n",
              "      <td>เช้านี้ ยัง ติด เหมือนเดิม ค่ะ</td>\n",
              "    </tr>\n",
              "  </tbody>\n",
              "</table>\n",
              "<p>151 rows × 3 columns</p>\n",
              "</div>\n",
              "    <div class=\"colab-df-buttons\">\n",
              "\n",
              "  <div class=\"colab-df-container\">\n",
              "    <button class=\"colab-df-convert\" onclick=\"convertToInteractive('df-e36f5bc6-4d09-4e9c-af37-1fa7f8d36929')\"\n",
              "            title=\"Convert this dataframe to an interactive table.\"\n",
              "            style=\"display:none;\">\n",
              "\n",
              "  <svg xmlns=\"http://www.w3.org/2000/svg\" height=\"24px\" viewBox=\"0 -960 960 960\">\n",
              "    <path d=\"M120-120v-720h720v720H120Zm60-500h600v-160H180v160Zm220 220h160v-160H400v160Zm0 220h160v-160H400v160ZM180-400h160v-160H180v160Zm440 0h160v-160H620v160ZM180-180h160v-160H180v160Zm440 0h160v-160H620v160Z\"/>\n",
              "  </svg>\n",
              "    </button>\n",
              "\n",
              "  <style>\n",
              "    .colab-df-container {\n",
              "      display:flex;\n",
              "      gap: 12px;\n",
              "    }\n",
              "\n",
              "    .colab-df-convert {\n",
              "      background-color: #E8F0FE;\n",
              "      border: none;\n",
              "      border-radius: 50%;\n",
              "      cursor: pointer;\n",
              "      display: none;\n",
              "      fill: #1967D2;\n",
              "      height: 32px;\n",
              "      padding: 0 0 0 0;\n",
              "      width: 32px;\n",
              "    }\n",
              "\n",
              "    .colab-df-convert:hover {\n",
              "      background-color: #E2EBFA;\n",
              "      box-shadow: 0px 1px 2px rgba(60, 64, 67, 0.3), 0px 1px 3px 1px rgba(60, 64, 67, 0.15);\n",
              "      fill: #174EA6;\n",
              "    }\n",
              "\n",
              "    .colab-df-buttons div {\n",
              "      margin-bottom: 4px;\n",
              "    }\n",
              "\n",
              "    [theme=dark] .colab-df-convert {\n",
              "      background-color: #3B4455;\n",
              "      fill: #D2E3FC;\n",
              "    }\n",
              "\n",
              "    [theme=dark] .colab-df-convert:hover {\n",
              "      background-color: #434B5C;\n",
              "      box-shadow: 0px 1px 3px 1px rgba(0, 0, 0, 0.15);\n",
              "      filter: drop-shadow(0px 1px 2px rgba(0, 0, 0, 0.3));\n",
              "      fill: #FFFFFF;\n",
              "    }\n",
              "  </style>\n",
              "\n",
              "    <script>\n",
              "      const buttonEl =\n",
              "        document.querySelector('#df-e36f5bc6-4d09-4e9c-af37-1fa7f8d36929 button.colab-df-convert');\n",
              "      buttonEl.style.display =\n",
              "        google.colab.kernel.accessAllowed ? 'block' : 'none';\n",
              "\n",
              "      async function convertToInteractive(key) {\n",
              "        const element = document.querySelector('#df-e36f5bc6-4d09-4e9c-af37-1fa7f8d36929');\n",
              "        const dataTable =\n",
              "          await google.colab.kernel.invokeFunction('convertToInteractive',\n",
              "                                                    [key], {});\n",
              "        if (!dataTable) return;\n",
              "\n",
              "        const docLinkHtml = 'Like what you see? Visit the ' +\n",
              "          '<a target=\"_blank\" href=https://colab.research.google.com/notebooks/data_table.ipynb>data table notebook</a>'\n",
              "          + ' to learn more about interactive tables.';\n",
              "        element.innerHTML = '';\n",
              "        dataTable['output_type'] = 'display_data';\n",
              "        await google.colab.output.renderOutput(dataTable, element);\n",
              "        const docLink = document.createElement('div');\n",
              "        docLink.innerHTML = docLinkHtml;\n",
              "        element.appendChild(docLink);\n",
              "      }\n",
              "    </script>\n",
              "  </div>\n",
              "\n",
              "\n",
              "<div id=\"df-06493fdf-e1fd-47de-a156-04f6abca8517\">\n",
              "  <button class=\"colab-df-quickchart\" onclick=\"quickchart('df-06493fdf-e1fd-47de-a156-04f6abca8517')\"\n",
              "            title=\"Suggest charts\"\n",
              "            style=\"display:none;\">\n",
              "\n",
              "<svg xmlns=\"http://www.w3.org/2000/svg\" height=\"24px\"viewBox=\"0 0 24 24\"\n",
              "     width=\"24px\">\n",
              "    <g>\n",
              "        <path d=\"M19 3H5c-1.1 0-2 .9-2 2v14c0 1.1.9 2 2 2h14c1.1 0 2-.9 2-2V5c0-1.1-.9-2-2-2zM9 17H7v-7h2v7zm4 0h-2V7h2v10zm4 0h-2v-4h2v4z\"/>\n",
              "    </g>\n",
              "</svg>\n",
              "  </button>\n",
              "\n",
              "<style>\n",
              "  .colab-df-quickchart {\n",
              "      --bg-color: #E8F0FE;\n",
              "      --fill-color: #1967D2;\n",
              "      --hover-bg-color: #E2EBFA;\n",
              "      --hover-fill-color: #174EA6;\n",
              "      --disabled-fill-color: #AAA;\n",
              "      --disabled-bg-color: #DDD;\n",
              "  }\n",
              "\n",
              "  [theme=dark] .colab-df-quickchart {\n",
              "      --bg-color: #3B4455;\n",
              "      --fill-color: #D2E3FC;\n",
              "      --hover-bg-color: #434B5C;\n",
              "      --hover-fill-color: #FFFFFF;\n",
              "      --disabled-bg-color: #3B4455;\n",
              "      --disabled-fill-color: #666;\n",
              "  }\n",
              "\n",
              "  .colab-df-quickchart {\n",
              "    background-color: var(--bg-color);\n",
              "    border: none;\n",
              "    border-radius: 50%;\n",
              "    cursor: pointer;\n",
              "    display: none;\n",
              "    fill: var(--fill-color);\n",
              "    height: 32px;\n",
              "    padding: 0;\n",
              "    width: 32px;\n",
              "  }\n",
              "\n",
              "  .colab-df-quickchart:hover {\n",
              "    background-color: var(--hover-bg-color);\n",
              "    box-shadow: 0 1px 2px rgba(60, 64, 67, 0.3), 0 1px 3px 1px rgba(60, 64, 67, 0.15);\n",
              "    fill: var(--button-hover-fill-color);\n",
              "  }\n",
              "\n",
              "  .colab-df-quickchart-complete:disabled,\n",
              "  .colab-df-quickchart-complete:disabled:hover {\n",
              "    background-color: var(--disabled-bg-color);\n",
              "    fill: var(--disabled-fill-color);\n",
              "    box-shadow: none;\n",
              "  }\n",
              "\n",
              "  .colab-df-spinner {\n",
              "    border: 2px solid var(--fill-color);\n",
              "    border-color: transparent;\n",
              "    border-bottom-color: var(--fill-color);\n",
              "    animation:\n",
              "      spin 1s steps(1) infinite;\n",
              "  }\n",
              "\n",
              "  @keyframes spin {\n",
              "    0% {\n",
              "      border-color: transparent;\n",
              "      border-bottom-color: var(--fill-color);\n",
              "      border-left-color: var(--fill-color);\n",
              "    }\n",
              "    20% {\n",
              "      border-color: transparent;\n",
              "      border-left-color: var(--fill-color);\n",
              "      border-top-color: var(--fill-color);\n",
              "    }\n",
              "    30% {\n",
              "      border-color: transparent;\n",
              "      border-left-color: var(--fill-color);\n",
              "      border-top-color: var(--fill-color);\n",
              "      border-right-color: var(--fill-color);\n",
              "    }\n",
              "    40% {\n",
              "      border-color: transparent;\n",
              "      border-right-color: var(--fill-color);\n",
              "      border-top-color: var(--fill-color);\n",
              "    }\n",
              "    60% {\n",
              "      border-color: transparent;\n",
              "      border-right-color: var(--fill-color);\n",
              "    }\n",
              "    80% {\n",
              "      border-color: transparent;\n",
              "      border-right-color: var(--fill-color);\n",
              "      border-bottom-color: var(--fill-color);\n",
              "    }\n",
              "    90% {\n",
              "      border-color: transparent;\n",
              "      border-bottom-color: var(--fill-color);\n",
              "    }\n",
              "  }\n",
              "</style>\n",
              "\n",
              "  <script>\n",
              "    async function quickchart(key) {\n",
              "      const quickchartButtonEl =\n",
              "        document.querySelector('#' + key + ' button');\n",
              "      quickchartButtonEl.disabled = true;  // To prevent multiple clicks.\n",
              "      quickchartButtonEl.classList.add('colab-df-spinner');\n",
              "      try {\n",
              "        const charts = await google.colab.kernel.invokeFunction(\n",
              "            'suggestCharts', [key], {});\n",
              "      } catch (error) {\n",
              "        console.error('Error during call to suggestCharts:', error);\n",
              "      }\n",
              "      quickchartButtonEl.classList.remove('colab-df-spinner');\n",
              "      quickchartButtonEl.classList.add('colab-df-quickchart-complete');\n",
              "    }\n",
              "    (() => {\n",
              "      let quickchartButtonEl =\n",
              "        document.querySelector('#df-06493fdf-e1fd-47de-a156-04f6abca8517 button');\n",
              "      quickchartButtonEl.style.display =\n",
              "        google.colab.kernel.accessAllowed ? 'block' : 'none';\n",
              "    })();\n",
              "  </script>\n",
              "</div>\n",
              "    </div>\n",
              "  </div>\n"
            ],
            "application/vnd.google.colaboratory.intrinsic+json": {
              "type": "dataframe",
              "variable_name": "reject_train",
              "summary": "{\n  \"name\": \"reject_train\",\n  \"rows\": 151,\n  \"fields\": [\n    {\n      \"column\": \"description\",\n      \"properties\": {\n        \"dtype\": \"string\",\n        \"num_unique_values\": 147,\n        \"samples\": [\n          \"\\u0e40\\u0e02\\u0e49\\u0e32\\u0e44\\u0e1b\\u0e43\\u0e19\\u0e0b\\u0e2d\\u0e22\\u0e23\\u0e49\\u0e32\\u0e19\\u0e2d\\u0e32\\u0e2b\\u0e32\\u0e23\\u0e17\\u0e35\\u0e48\\u0e23\\u0e32\\u0e1a\\u0e2a\\u0e39\\u0e07\\u0e19\\u0e30\\u0e04\\u0e30\",\n          \"\\u0e0a\\u0e48\\u0e27\\u0e22\\u0e14\\u0e49\\u0e27\\u0e22\\u0e04\\u0e48\\u0e30\\u0e1c\\u0e39\\u0e49\\u0e27\\u0e48\\u0e32\\u0e0a\\u0e31\\u0e0a\\u0e0a\\u0e32\\u0e15\\u0e34\",\n          \"13\\u00b038'21.4\\\"N 100\\u00b028'25.0\\\"E https://maps.google.com/?q=13.639282,100.473613&entry=gps\"\n        ],\n        \"semantic_type\": \"\",\n        \"description\": \"\"\n      }\n    },\n    {\n      \"column\": \"Category\",\n      \"properties\": {\n        \"dtype\": \"category\",\n        \"num_unique_values\": 1,\n        \"samples\": [\n          \"reject\"\n        ],\n        \"semantic_type\": \"\",\n        \"description\": \"\"\n      }\n    },\n    {\n      \"column\": \"Message\",\n      \"properties\": {\n        \"dtype\": \"string\",\n        \"num_unique_values\": 147,\n        \"samples\": [\n          \"\\u0e40\\u0e02\\u0e49\\u0e32\\u0e44\\u0e1b \\u0e43\\u0e19 \\u0e0b\\u0e2d\\u0e22 \\u0e23\\u0e49\\u0e32\\u0e19\\u0e2d\\u0e32\\u0e2b\\u0e32\\u0e23 \\u0e17\\u0e35\\u0e48\\u0e23\\u0e32\\u0e1a\\u0e2a\\u0e39\\u0e07 \\u0e19\\u0e30\\u0e04\\u0e30\"\n        ],\n        \"semantic_type\": \"\",\n        \"description\": \"\"\n      }\n    }\n  ]\n}"
            }
          },
          "metadata": {},
          "execution_count": 143
        }
      ],
      "source": [
        "reject_train = df_train[df_train[\"Category\"] == \"reject\"]\n",
        "reject_train"
      ]
    },
    {
      "cell_type": "code",
      "execution_count": null,
      "metadata": {
        "colab": {
          "base_uri": "https://localhost:8080/",
          "height": 1000
        },
        "id": "7s0aJ6w5Fiqz",
        "outputId": "ba6ca022-1de9-4014-95f4-07ef2cd2c4c4",
        "tags": []
      },
      "outputs": [
        {
          "output_type": "execute_result",
          "data": {
            "text/plain": [
              "                                           description Category  \\\n",
              "10   พิกัดถนนพระราม 2 หน้าโรงเบียร์ฮอลแลนด์ก่อนถึงพ...   reject   \n",
              "35                                    ลุกล้ำที่สาธารณะ   reject   \n",
              "42                                              ยกเลิก   reject   \n",
              "43                     ซอยตรงข้ามกับครัวคุณอรซีฟู้ดค่ะ   reject   \n",
              "47                                  สำนักงานเขตคลองเตย   reject   \n",
              "48   เห็นตรงนี้พังมานานแล้วแต่ยังไม่แก้ไขฝากดูหน่อย...   reject   \n",
              "83                               ต้องแจ้งเพิ่มอีกไหมคะ   reject   \n",
              "102             บ้านที่ต้องการให้ตรวจสอบคือ 151/57 ค่ะ   reject   \n",
              "107                                      แจ้งเรื่องค่ะ   reject   \n",
              "120  บริเวณหน้าปากซอย เทิดราชัน 43 หมู่บ้านอยู่เจริ...   reject   \n",
              "130  เพิ่มเติมข้อมูล บริเวณบ้านเลขที่ 41/279 ในโครง...   reject   \n",
              "219                              ลาดพร้าววังหิน81 ครับ   reject   \n",
              "224                                  บริเวณถนนสุริวงศ์   reject   \n",
              "232                                 เป็นมาหลายปีละครับ   reject   \n",
              "248              https://goo.gl/maps/t6mQL9TNMDNZSs5N8   reject   \n",
              "257                            เรื่องการจัดระเบียบครับ   reject   \n",
              "287                        ตอนนี้มันมืดภาพจะมองไม่เห็น   reject   \n",
              "315  มีการเทปูนทำเป็นสะพานเล็กๆ ในลำธารสาธารณะเพื่อ...   reject   \n",
              "341                                         ขอบคุณครับ   reject   \n",
              "342                     แจ้งไปยังไม่รับเรื่องเลยนะครับ   reject   \n",
              "346                                  อยู่อาศัยใต้สะพาน   reject   \n",
              "362     77/249ซอยนวมินทร์73 คลองกุ่ม บึงกุ่ม กทม 10240   reject   \n",
              "365    ส่งเรื่องหาใคร ไวสุดครับพี่แจ้งไปจะ2 อาทิตย์และ   reject   \n",
              "372  https://www.google.com/maps/place/26+Lat+Phrao...   reject   \n",
              "373                         1 เพื่อนชัชชาติ 2 เขตบางนา   reject   \n",
              "382  แจ้งตัดแต่งกิ่งไม้ที่ซอยนวลจันทร์ 17 แต่เจ้าหน...   reject   \n",
              "383                                           เขตบางแค   reject   \n",
              "400                                             ยกเลิก   reject   \n",
              "406                                        ทางระบายน้ำ   reject   \n",
              "414                                 ปากซ.โชคชัย4ซอย 58   reject   \n",
              "456                                          แจ้งปัญหา   reject   \n",
              "468                               หน้าบ้านรั้วเขียวค่ะ   reject   \n",
              "472                            ถนนซอยรามคำแหง 36/1 ค่ะ   reject   \n",
              "490                                  กี่วันจะดำเนินงาน   reject   \n",
              "501  แจ้งปัญหาเรื่องของสนามกีฬาบาสเกตบอลมีปัญหาเรื่...   reject   \n",
              "504                                 มันอยู่ตรง พาหุรัด   reject   \n",
              "516                                        ความคืบหน้า   reject   \n",
              "532              https://goo.gl/maps/oUhznF3Nu5WKLpR3A   reject   \n",
              "\n",
              "                                               Message  \n",
              "10   พิกัด ถนน พระราม   2   หน้า โรง เบียร์ ฮอลแลนด...  \n",
              "35                                  ลุ กล้ำ ที่สาธารณะ  \n",
              "42                                              ยกเลิก  \n",
              "43             ซอย ตรงข้าม กับ ครัว คุณ อร ซี ฟู้ด ค่ะ  \n",
              "47                                สำนักงานเขต คลอง เตย  \n",
              "48   เห็น ตรงนี้ พัง มา นาน แล้วแต่ ยัง ไม่ แก้ไข ฝ...  \n",
              "83                          ต้อง แจ้ง เพิ่ม อีก ไหม คะ  \n",
              "102   บ้าน ที่ ต้องการ ให้ ตรวจสอบ คือ   151 /57   ค่ะ  \n",
              "107                                    แจ้ง เรื่อง ค่ะ  \n",
              "120  บริเวณ หน้า ปากซอย   เทิด ราชัน   43   หมู่บ้า...  \n",
              "130  เพิ่มเติม ข้อมูล   บริเวณ บ้าน เลขที่   41 /27...  \n",
              "219                         ลาดพร้าว วัง หิน 81   ครับ  \n",
              "224                              บริเวณ ถนน สุ ริ วงศ์  \n",
              "232                             เป็นมา หลาย ปี ละ ครับ  \n",
              "248             https ://goo.gl/maps/t6mQL9TNMDNZSs5N8  \n",
              "257                         เรื่อง การ จัดระเบียบ ครับ  \n",
              "287                   ตอนนี้ มัน มืด ภาพ จะ มองไม่เห็น  \n",
              "315  มี การ เทปูน ทำเป็น สะพาน เล็ก ๆ   ใน ลำธาร สา...  \n",
              "341                                        ขอบคุณ ครับ  \n",
              "342             แจ้ง ไป ยัง ไม่ รับ เรื่อง เลย นะ ครับ  \n",
              "346                                อยู่อาศัย ใต้ สะพาน  \n",
              "362  77 /249 ซอย นวมินทร์ 73   คลอง กุ่ม   บึง กุ่ม...  \n",
              "365  ส่ง เรื่อง หา ใคร   ไว สุด ครับ พี่ แจ้ง ไป จะ...  \n",
              "372  https ://www.google.com/maps/place/26+Lat+Phra...  \n",
              "373                 1   เพื่อน ชัชชาติ   2   เขต บางนา  \n",
              "382  แจ้ง ตัดแต่ง กิ่งไม้ ที่ ซอย นวลจันทร์   17   ...  \n",
              "383                                          เขต บางแค  \n",
              "400                                             ยกเลิก  \n",
              "406                                      ทาง ระบาย น้ำ  \n",
              "414                          ปาก ซ. โชค ชัย 4 ซอย   58  \n",
              "456                                         แจ้ง ปัญหา  \n",
              "468                            หน้าบ้าน รั้ว เขียว ค่ะ  \n",
              "472                     ถนน ซอย รามคำแหง   36 /1   ค่ะ  \n",
              "490                               กี่ วัน จะ ดำเนินงาน  \n",
              "501  แจ้ง ปัญหา เรื่อง ของ สนามกีฬา บาสเกตบอล มีปัญ...  \n",
              "504                             มัน อยู่ ตรง   พาหุรัด  \n",
              "516                                        ความคืบหน้า  \n",
              "532             https ://goo.gl/maps/oUhznF3Nu5WKLpR3A  "
            ],
            "text/html": [
              "\n",
              "  <div id=\"df-0f785b2f-1b38-43dc-ad37-1959a1ad1c0f\" class=\"colab-df-container\">\n",
              "    <div>\n",
              "<style scoped>\n",
              "    .dataframe tbody tr th:only-of-type {\n",
              "        vertical-align: middle;\n",
              "    }\n",
              "\n",
              "    .dataframe tbody tr th {\n",
              "        vertical-align: top;\n",
              "    }\n",
              "\n",
              "    .dataframe thead th {\n",
              "        text-align: right;\n",
              "    }\n",
              "</style>\n",
              "<table border=\"1\" class=\"dataframe\">\n",
              "  <thead>\n",
              "    <tr style=\"text-align: right;\">\n",
              "      <th></th>\n",
              "      <th>description</th>\n",
              "      <th>Category</th>\n",
              "      <th>Message</th>\n",
              "    </tr>\n",
              "  </thead>\n",
              "  <tbody>\n",
              "    <tr>\n",
              "      <th>10</th>\n",
              "      <td>พิกัดถนนพระราม 2 หน้าโรงเบียร์ฮอลแลนด์ก่อนถึงพ...</td>\n",
              "      <td>reject</td>\n",
              "      <td>พิกัด ถนน พระราม   2   หน้า โรง เบียร์ ฮอลแลนด...</td>\n",
              "    </tr>\n",
              "    <tr>\n",
              "      <th>35</th>\n",
              "      <td>ลุกล้ำที่สาธารณะ</td>\n",
              "      <td>reject</td>\n",
              "      <td>ลุ กล้ำ ที่สาธารณะ</td>\n",
              "    </tr>\n",
              "    <tr>\n",
              "      <th>42</th>\n",
              "      <td>ยกเลิก</td>\n",
              "      <td>reject</td>\n",
              "      <td>ยกเลิก</td>\n",
              "    </tr>\n",
              "    <tr>\n",
              "      <th>43</th>\n",
              "      <td>ซอยตรงข้ามกับครัวคุณอรซีฟู้ดค่ะ</td>\n",
              "      <td>reject</td>\n",
              "      <td>ซอย ตรงข้าม กับ ครัว คุณ อร ซี ฟู้ด ค่ะ</td>\n",
              "    </tr>\n",
              "    <tr>\n",
              "      <th>47</th>\n",
              "      <td>สำนักงานเขตคลองเตย</td>\n",
              "      <td>reject</td>\n",
              "      <td>สำนักงานเขต คลอง เตย</td>\n",
              "    </tr>\n",
              "    <tr>\n",
              "      <th>48</th>\n",
              "      <td>เห็นตรงนี้พังมานานแล้วแต่ยังไม่แก้ไขฝากดูหน่อย...</td>\n",
              "      <td>reject</td>\n",
              "      <td>เห็น ตรงนี้ พัง มา นาน แล้วแต่ ยัง ไม่ แก้ไข ฝ...</td>\n",
              "    </tr>\n",
              "    <tr>\n",
              "      <th>83</th>\n",
              "      <td>ต้องแจ้งเพิ่มอีกไหมคะ</td>\n",
              "      <td>reject</td>\n",
              "      <td>ต้อง แจ้ง เพิ่ม อีก ไหม คะ</td>\n",
              "    </tr>\n",
              "    <tr>\n",
              "      <th>102</th>\n",
              "      <td>บ้านที่ต้องการให้ตรวจสอบคือ 151/57 ค่ะ</td>\n",
              "      <td>reject</td>\n",
              "      <td>บ้าน ที่ ต้องการ ให้ ตรวจสอบ คือ   151 /57   ค่ะ</td>\n",
              "    </tr>\n",
              "    <tr>\n",
              "      <th>107</th>\n",
              "      <td>แจ้งเรื่องค่ะ</td>\n",
              "      <td>reject</td>\n",
              "      <td>แจ้ง เรื่อง ค่ะ</td>\n",
              "    </tr>\n",
              "    <tr>\n",
              "      <th>120</th>\n",
              "      <td>บริเวณหน้าปากซอย เทิดราชัน 43 หมู่บ้านอยู่เจริ...</td>\n",
              "      <td>reject</td>\n",
              "      <td>บริเวณ หน้า ปากซอย   เทิด ราชัน   43   หมู่บ้า...</td>\n",
              "    </tr>\n",
              "    <tr>\n",
              "      <th>130</th>\n",
              "      <td>เพิ่มเติมข้อมูล บริเวณบ้านเลขที่ 41/279 ในโครง...</td>\n",
              "      <td>reject</td>\n",
              "      <td>เพิ่มเติม ข้อมูล   บริเวณ บ้าน เลขที่   41 /27...</td>\n",
              "    </tr>\n",
              "    <tr>\n",
              "      <th>219</th>\n",
              "      <td>ลาดพร้าววังหิน81 ครับ</td>\n",
              "      <td>reject</td>\n",
              "      <td>ลาดพร้าว วัง หิน 81   ครับ</td>\n",
              "    </tr>\n",
              "    <tr>\n",
              "      <th>224</th>\n",
              "      <td>บริเวณถนนสุริวงศ์</td>\n",
              "      <td>reject</td>\n",
              "      <td>บริเวณ ถนน สุ ริ วงศ์</td>\n",
              "    </tr>\n",
              "    <tr>\n",
              "      <th>232</th>\n",
              "      <td>เป็นมาหลายปีละครับ</td>\n",
              "      <td>reject</td>\n",
              "      <td>เป็นมา หลาย ปี ละ ครับ</td>\n",
              "    </tr>\n",
              "    <tr>\n",
              "      <th>248</th>\n",
              "      <td>https://goo.gl/maps/t6mQL9TNMDNZSs5N8</td>\n",
              "      <td>reject</td>\n",
              "      <td>https ://goo.gl/maps/t6mQL9TNMDNZSs5N8</td>\n",
              "    </tr>\n",
              "    <tr>\n",
              "      <th>257</th>\n",
              "      <td>เรื่องการจัดระเบียบครับ</td>\n",
              "      <td>reject</td>\n",
              "      <td>เรื่อง การ จัดระเบียบ ครับ</td>\n",
              "    </tr>\n",
              "    <tr>\n",
              "      <th>287</th>\n",
              "      <td>ตอนนี้มันมืดภาพจะมองไม่เห็น</td>\n",
              "      <td>reject</td>\n",
              "      <td>ตอนนี้ มัน มืด ภาพ จะ มองไม่เห็น</td>\n",
              "    </tr>\n",
              "    <tr>\n",
              "      <th>315</th>\n",
              "      <td>มีการเทปูนทำเป็นสะพานเล็กๆ ในลำธารสาธารณะเพื่อ...</td>\n",
              "      <td>reject</td>\n",
              "      <td>มี การ เทปูน ทำเป็น สะพาน เล็ก ๆ   ใน ลำธาร สา...</td>\n",
              "    </tr>\n",
              "    <tr>\n",
              "      <th>341</th>\n",
              "      <td>ขอบคุณครับ</td>\n",
              "      <td>reject</td>\n",
              "      <td>ขอบคุณ ครับ</td>\n",
              "    </tr>\n",
              "    <tr>\n",
              "      <th>342</th>\n",
              "      <td>แจ้งไปยังไม่รับเรื่องเลยนะครับ</td>\n",
              "      <td>reject</td>\n",
              "      <td>แจ้ง ไป ยัง ไม่ รับ เรื่อง เลย นะ ครับ</td>\n",
              "    </tr>\n",
              "    <tr>\n",
              "      <th>346</th>\n",
              "      <td>อยู่อาศัยใต้สะพาน</td>\n",
              "      <td>reject</td>\n",
              "      <td>อยู่อาศัย ใต้ สะพาน</td>\n",
              "    </tr>\n",
              "    <tr>\n",
              "      <th>362</th>\n",
              "      <td>77/249ซอยนวมินทร์73 คลองกุ่ม บึงกุ่ม กทม 10240</td>\n",
              "      <td>reject</td>\n",
              "      <td>77 /249 ซอย นวมินทร์ 73   คลอง กุ่ม   บึง กุ่ม...</td>\n",
              "    </tr>\n",
              "    <tr>\n",
              "      <th>365</th>\n",
              "      <td>ส่งเรื่องหาใคร ไวสุดครับพี่แจ้งไปจะ2 อาทิตย์และ</td>\n",
              "      <td>reject</td>\n",
              "      <td>ส่ง เรื่อง หา ใคร   ไว สุด ครับ พี่ แจ้ง ไป จะ...</td>\n",
              "    </tr>\n",
              "    <tr>\n",
              "      <th>372</th>\n",
              "      <td>https://www.google.com/maps/place/26+Lat+Phrao...</td>\n",
              "      <td>reject</td>\n",
              "      <td>https ://www.google.com/maps/place/26+Lat+Phra...</td>\n",
              "    </tr>\n",
              "    <tr>\n",
              "      <th>373</th>\n",
              "      <td>1 เพื่อนชัชชาติ 2 เขตบางนา</td>\n",
              "      <td>reject</td>\n",
              "      <td>1   เพื่อน ชัชชาติ   2   เขต บางนา</td>\n",
              "    </tr>\n",
              "    <tr>\n",
              "      <th>382</th>\n",
              "      <td>แจ้งตัดแต่งกิ่งไม้ที่ซอยนวลจันทร์ 17 แต่เจ้าหน...</td>\n",
              "      <td>reject</td>\n",
              "      <td>แจ้ง ตัดแต่ง กิ่งไม้ ที่ ซอย นวลจันทร์   17   ...</td>\n",
              "    </tr>\n",
              "    <tr>\n",
              "      <th>383</th>\n",
              "      <td>เขตบางแค</td>\n",
              "      <td>reject</td>\n",
              "      <td>เขต บางแค</td>\n",
              "    </tr>\n",
              "    <tr>\n",
              "      <th>400</th>\n",
              "      <td>ยกเลิก</td>\n",
              "      <td>reject</td>\n",
              "      <td>ยกเลิก</td>\n",
              "    </tr>\n",
              "    <tr>\n",
              "      <th>406</th>\n",
              "      <td>ทางระบายน้ำ</td>\n",
              "      <td>reject</td>\n",
              "      <td>ทาง ระบาย น้ำ</td>\n",
              "    </tr>\n",
              "    <tr>\n",
              "      <th>414</th>\n",
              "      <td>ปากซ.โชคชัย4ซอย 58</td>\n",
              "      <td>reject</td>\n",
              "      <td>ปาก ซ. โชค ชัย 4 ซอย   58</td>\n",
              "    </tr>\n",
              "    <tr>\n",
              "      <th>456</th>\n",
              "      <td>แจ้งปัญหา</td>\n",
              "      <td>reject</td>\n",
              "      <td>แจ้ง ปัญหา</td>\n",
              "    </tr>\n",
              "    <tr>\n",
              "      <th>468</th>\n",
              "      <td>หน้าบ้านรั้วเขียวค่ะ</td>\n",
              "      <td>reject</td>\n",
              "      <td>หน้าบ้าน รั้ว เขียว ค่ะ</td>\n",
              "    </tr>\n",
              "    <tr>\n",
              "      <th>472</th>\n",
              "      <td>ถนนซอยรามคำแหง 36/1 ค่ะ</td>\n",
              "      <td>reject</td>\n",
              "      <td>ถนน ซอย รามคำแหง   36 /1   ค่ะ</td>\n",
              "    </tr>\n",
              "    <tr>\n",
              "      <th>490</th>\n",
              "      <td>กี่วันจะดำเนินงาน</td>\n",
              "      <td>reject</td>\n",
              "      <td>กี่ วัน จะ ดำเนินงาน</td>\n",
              "    </tr>\n",
              "    <tr>\n",
              "      <th>501</th>\n",
              "      <td>แจ้งปัญหาเรื่องของสนามกีฬาบาสเกตบอลมีปัญหาเรื่...</td>\n",
              "      <td>reject</td>\n",
              "      <td>แจ้ง ปัญหา เรื่อง ของ สนามกีฬา บาสเกตบอล มีปัญ...</td>\n",
              "    </tr>\n",
              "    <tr>\n",
              "      <th>504</th>\n",
              "      <td>มันอยู่ตรง พาหุรัด</td>\n",
              "      <td>reject</td>\n",
              "      <td>มัน อยู่ ตรง   พาหุรัด</td>\n",
              "    </tr>\n",
              "    <tr>\n",
              "      <th>516</th>\n",
              "      <td>ความคืบหน้า</td>\n",
              "      <td>reject</td>\n",
              "      <td>ความคืบหน้า</td>\n",
              "    </tr>\n",
              "    <tr>\n",
              "      <th>532</th>\n",
              "      <td>https://goo.gl/maps/oUhznF3Nu5WKLpR3A</td>\n",
              "      <td>reject</td>\n",
              "      <td>https ://goo.gl/maps/oUhznF3Nu5WKLpR3A</td>\n",
              "    </tr>\n",
              "  </tbody>\n",
              "</table>\n",
              "</div>\n",
              "    <div class=\"colab-df-buttons\">\n",
              "\n",
              "  <div class=\"colab-df-container\">\n",
              "    <button class=\"colab-df-convert\" onclick=\"convertToInteractive('df-0f785b2f-1b38-43dc-ad37-1959a1ad1c0f')\"\n",
              "            title=\"Convert this dataframe to an interactive table.\"\n",
              "            style=\"display:none;\">\n",
              "\n",
              "  <svg xmlns=\"http://www.w3.org/2000/svg\" height=\"24px\" viewBox=\"0 -960 960 960\">\n",
              "    <path d=\"M120-120v-720h720v720H120Zm60-500h600v-160H180v160Zm220 220h160v-160H400v160Zm0 220h160v-160H400v160ZM180-400h160v-160H180v160Zm440 0h160v-160H620v160ZM180-180h160v-160H180v160Zm440 0h160v-160H620v160Z\"/>\n",
              "  </svg>\n",
              "    </button>\n",
              "\n",
              "  <style>\n",
              "    .colab-df-container {\n",
              "      display:flex;\n",
              "      gap: 12px;\n",
              "    }\n",
              "\n",
              "    .colab-df-convert {\n",
              "      background-color: #E8F0FE;\n",
              "      border: none;\n",
              "      border-radius: 50%;\n",
              "      cursor: pointer;\n",
              "      display: none;\n",
              "      fill: #1967D2;\n",
              "      height: 32px;\n",
              "      padding: 0 0 0 0;\n",
              "      width: 32px;\n",
              "    }\n",
              "\n",
              "    .colab-df-convert:hover {\n",
              "      background-color: #E2EBFA;\n",
              "      box-shadow: 0px 1px 2px rgba(60, 64, 67, 0.3), 0px 1px 3px 1px rgba(60, 64, 67, 0.15);\n",
              "      fill: #174EA6;\n",
              "    }\n",
              "\n",
              "    .colab-df-buttons div {\n",
              "      margin-bottom: 4px;\n",
              "    }\n",
              "\n",
              "    [theme=dark] .colab-df-convert {\n",
              "      background-color: #3B4455;\n",
              "      fill: #D2E3FC;\n",
              "    }\n",
              "\n",
              "    [theme=dark] .colab-df-convert:hover {\n",
              "      background-color: #434B5C;\n",
              "      box-shadow: 0px 1px 3px 1px rgba(0, 0, 0, 0.15);\n",
              "      filter: drop-shadow(0px 1px 2px rgba(0, 0, 0, 0.3));\n",
              "      fill: #FFFFFF;\n",
              "    }\n",
              "  </style>\n",
              "\n",
              "    <script>\n",
              "      const buttonEl =\n",
              "        document.querySelector('#df-0f785b2f-1b38-43dc-ad37-1959a1ad1c0f button.colab-df-convert');\n",
              "      buttonEl.style.display =\n",
              "        google.colab.kernel.accessAllowed ? 'block' : 'none';\n",
              "\n",
              "      async function convertToInteractive(key) {\n",
              "        const element = document.querySelector('#df-0f785b2f-1b38-43dc-ad37-1959a1ad1c0f');\n",
              "        const dataTable =\n",
              "          await google.colab.kernel.invokeFunction('convertToInteractive',\n",
              "                                                    [key], {});\n",
              "        if (!dataTable) return;\n",
              "\n",
              "        const docLinkHtml = 'Like what you see? Visit the ' +\n",
              "          '<a target=\"_blank\" href=https://colab.research.google.com/notebooks/data_table.ipynb>data table notebook</a>'\n",
              "          + ' to learn more about interactive tables.';\n",
              "        element.innerHTML = '';\n",
              "        dataTable['output_type'] = 'display_data';\n",
              "        await google.colab.output.renderOutput(dataTable, element);\n",
              "        const docLink = document.createElement('div');\n",
              "        docLink.innerHTML = docLinkHtml;\n",
              "        element.appendChild(docLink);\n",
              "      }\n",
              "    </script>\n",
              "  </div>\n",
              "\n",
              "\n",
              "<div id=\"df-71f95f7c-f395-4f41-b95a-7e45ab5dd99b\">\n",
              "  <button class=\"colab-df-quickchart\" onclick=\"quickchart('df-71f95f7c-f395-4f41-b95a-7e45ab5dd99b')\"\n",
              "            title=\"Suggest charts\"\n",
              "            style=\"display:none;\">\n",
              "\n",
              "<svg xmlns=\"http://www.w3.org/2000/svg\" height=\"24px\"viewBox=\"0 0 24 24\"\n",
              "     width=\"24px\">\n",
              "    <g>\n",
              "        <path d=\"M19 3H5c-1.1 0-2 .9-2 2v14c0 1.1.9 2 2 2h14c1.1 0 2-.9 2-2V5c0-1.1-.9-2-2-2zM9 17H7v-7h2v7zm4 0h-2V7h2v10zm4 0h-2v-4h2v4z\"/>\n",
              "    </g>\n",
              "</svg>\n",
              "  </button>\n",
              "\n",
              "<style>\n",
              "  .colab-df-quickchart {\n",
              "      --bg-color: #E8F0FE;\n",
              "      --fill-color: #1967D2;\n",
              "      --hover-bg-color: #E2EBFA;\n",
              "      --hover-fill-color: #174EA6;\n",
              "      --disabled-fill-color: #AAA;\n",
              "      --disabled-bg-color: #DDD;\n",
              "  }\n",
              "\n",
              "  [theme=dark] .colab-df-quickchart {\n",
              "      --bg-color: #3B4455;\n",
              "      --fill-color: #D2E3FC;\n",
              "      --hover-bg-color: #434B5C;\n",
              "      --hover-fill-color: #FFFFFF;\n",
              "      --disabled-bg-color: #3B4455;\n",
              "      --disabled-fill-color: #666;\n",
              "  }\n",
              "\n",
              "  .colab-df-quickchart {\n",
              "    background-color: var(--bg-color);\n",
              "    border: none;\n",
              "    border-radius: 50%;\n",
              "    cursor: pointer;\n",
              "    display: none;\n",
              "    fill: var(--fill-color);\n",
              "    height: 32px;\n",
              "    padding: 0;\n",
              "    width: 32px;\n",
              "  }\n",
              "\n",
              "  .colab-df-quickchart:hover {\n",
              "    background-color: var(--hover-bg-color);\n",
              "    box-shadow: 0 1px 2px rgba(60, 64, 67, 0.3), 0 1px 3px 1px rgba(60, 64, 67, 0.15);\n",
              "    fill: var(--button-hover-fill-color);\n",
              "  }\n",
              "\n",
              "  .colab-df-quickchart-complete:disabled,\n",
              "  .colab-df-quickchart-complete:disabled:hover {\n",
              "    background-color: var(--disabled-bg-color);\n",
              "    fill: var(--disabled-fill-color);\n",
              "    box-shadow: none;\n",
              "  }\n",
              "\n",
              "  .colab-df-spinner {\n",
              "    border: 2px solid var(--fill-color);\n",
              "    border-color: transparent;\n",
              "    border-bottom-color: var(--fill-color);\n",
              "    animation:\n",
              "      spin 1s steps(1) infinite;\n",
              "  }\n",
              "\n",
              "  @keyframes spin {\n",
              "    0% {\n",
              "      border-color: transparent;\n",
              "      border-bottom-color: var(--fill-color);\n",
              "      border-left-color: var(--fill-color);\n",
              "    }\n",
              "    20% {\n",
              "      border-color: transparent;\n",
              "      border-left-color: var(--fill-color);\n",
              "      border-top-color: var(--fill-color);\n",
              "    }\n",
              "    30% {\n",
              "      border-color: transparent;\n",
              "      border-left-color: var(--fill-color);\n",
              "      border-top-color: var(--fill-color);\n",
              "      border-right-color: var(--fill-color);\n",
              "    }\n",
              "    40% {\n",
              "      border-color: transparent;\n",
              "      border-right-color: var(--fill-color);\n",
              "      border-top-color: var(--fill-color);\n",
              "    }\n",
              "    60% {\n",
              "      border-color: transparent;\n",
              "      border-right-color: var(--fill-color);\n",
              "    }\n",
              "    80% {\n",
              "      border-color: transparent;\n",
              "      border-right-color: var(--fill-color);\n",
              "      border-bottom-color: var(--fill-color);\n",
              "    }\n",
              "    90% {\n",
              "      border-color: transparent;\n",
              "      border-bottom-color: var(--fill-color);\n",
              "    }\n",
              "  }\n",
              "</style>\n",
              "\n",
              "  <script>\n",
              "    async function quickchart(key) {\n",
              "      const quickchartButtonEl =\n",
              "        document.querySelector('#' + key + ' button');\n",
              "      quickchartButtonEl.disabled = true;  // To prevent multiple clicks.\n",
              "      quickchartButtonEl.classList.add('colab-df-spinner');\n",
              "      try {\n",
              "        const charts = await google.colab.kernel.invokeFunction(\n",
              "            'suggestCharts', [key], {});\n",
              "      } catch (error) {\n",
              "        console.error('Error during call to suggestCharts:', error);\n",
              "      }\n",
              "      quickchartButtonEl.classList.remove('colab-df-spinner');\n",
              "      quickchartButtonEl.classList.add('colab-df-quickchart-complete');\n",
              "    }\n",
              "    (() => {\n",
              "      let quickchartButtonEl =\n",
              "        document.querySelector('#df-71f95f7c-f395-4f41-b95a-7e45ab5dd99b button');\n",
              "      quickchartButtonEl.style.display =\n",
              "        google.colab.kernel.accessAllowed ? 'block' : 'none';\n",
              "    })();\n",
              "  </script>\n",
              "</div>\n",
              "    </div>\n",
              "  </div>\n"
            ],
            "application/vnd.google.colaboratory.intrinsic+json": {
              "type": "dataframe",
              "variable_name": "reject_test",
              "summary": "{\n  \"name\": \"reject_test\",\n  \"rows\": 38,\n  \"fields\": [\n    {\n      \"column\": \"description\",\n      \"properties\": {\n        \"dtype\": \"string\",\n        \"num_unique_values\": 37,\n        \"samples\": [\n          \"\\u0e21\\u0e35\\u0e01\\u0e32\\u0e23\\u0e40\\u0e17\\u0e1b\\u0e39\\u0e19\\u0e17\\u0e33\\u0e40\\u0e1b\\u0e47\\u0e19\\u0e2a\\u0e30\\u0e1e\\u0e32\\u0e19\\u0e40\\u0e25\\u0e47\\u0e01\\u0e46 \\u0e43\\u0e19\\u0e25\\u0e33\\u0e18\\u0e32\\u0e23\\u0e2a\\u0e32\\u0e18\\u0e32\\u0e23\\u0e13\\u0e30\\u0e40\\u0e1e\\u0e37\\u0e48\\u0e2d\\u0e02\\u0e49\\u0e32\\u0e21\\u0e44\\u0e1b\\u0e43\\u0e19\\u0e17\\u0e35\\u0e48\\u0e14\\u0e34\\u0e19\\u0e2d\\u0e35\\u0e01\\u0e41\\u0e1b\\u0e25\\u0e07\\u0e2b\\u0e19\\u0e36\\u0e48\\u0e07\\u0e17\\u0e35\\u0e48\\u0e17\\u0e33\\u0e40\\u0e1b\\u0e47\\u0e19\\u0e1a\\u0e48\\u0e2d\\u0e40\\u0e25\\u0e35\\u0e49\\u0e22\\u0e07\\u0e1b\\u0e25\\u0e32\",\n          \"\\u0e40\\u0e1b\\u0e47\\u0e19\\u0e21\\u0e32\\u0e2b\\u0e25\\u0e32\\u0e22\\u0e1b\\u0e35\\u0e25\\u0e30\\u0e04\\u0e23\\u0e31\\u0e1a\",\n          \"\\u0e2a\\u0e33\\u0e19\\u0e31\\u0e01\\u0e07\\u0e32\\u0e19\\u0e40\\u0e02\\u0e15\\u0e04\\u0e25\\u0e2d\\u0e07\\u0e40\\u0e15\\u0e22\"\n        ],\n        \"semantic_type\": \"\",\n        \"description\": \"\"\n      }\n    },\n    {\n      \"column\": \"Category\",\n      \"properties\": {\n        \"dtype\": \"category\",\n        \"num_unique_values\": 1,\n        \"samples\": [\n          \"reject\"\n        ],\n        \"semantic_type\": \"\",\n        \"description\": \"\"\n      }\n    },\n    {\n      \"column\": \"Message\",\n      \"properties\": {\n        \"dtype\": \"string\",\n        \"num_unique_values\": 37,\n        \"samples\": [\n          \"\\u0e21\\u0e35 \\u0e01\\u0e32\\u0e23 \\u0e40\\u0e17\\u0e1b\\u0e39\\u0e19 \\u0e17\\u0e33\\u0e40\\u0e1b\\u0e47\\u0e19 \\u0e2a\\u0e30\\u0e1e\\u0e32\\u0e19 \\u0e40\\u0e25\\u0e47\\u0e01 \\u0e46   \\u0e43\\u0e19 \\u0e25\\u0e33\\u0e18\\u0e32\\u0e23 \\u0e2a\\u0e32\\u0e18\\u0e32\\u0e23\\u0e13\\u0e30 \\u0e40\\u0e1e\\u0e37\\u0e48\\u0e2d \\u0e02\\u0e49\\u0e32\\u0e21 \\u0e44\\u0e1b \\u0e43\\u0e19 \\u0e17\\u0e35\\u0e48\\u0e14\\u0e34\\u0e19 \\u0e2d\\u0e35\\u0e01 \\u0e41\\u0e1b\\u0e25\\u0e07 \\u0e2b\\u0e19\\u0e36\\u0e48\\u0e07 \\u0e17\\u0e35\\u0e48 \\u0e17\\u0e33\\u0e40\\u0e1b\\u0e47\\u0e19 \\u0e1a\\u0e48\\u0e2d \\u0e40\\u0e25\\u0e35\\u0e49\\u0e22\\u0e07 \\u0e1b\\u0e25\\u0e32\"\n        ],\n        \"semantic_type\": \"\",\n        \"description\": \"\"\n      }\n    }\n  ]\n}"
            }
          },
          "metadata": {},
          "execution_count": 144
        }
      ],
      "source": [
        "reject_test = df_test[df_test[\"Category\"] == \"reject\"]\n",
        "reject_test"
      ]
    },
    {
      "cell_type": "code",
      "execution_count": null,
      "metadata": {
        "id": "TjHsBdvACLfk",
        "colab": {
          "base_uri": "https://localhost:8080/"
        },
        "outputId": "08a401c1-1ae4-46e4-9bd5-a28a0030ca3f"
      },
      "outputs": [
        {
          "output_type": "stream",
          "name": "stdout",
          "text": [
            "Found URL 'https://goo.gl/maps/2PHKzwWhqpLRnaqu8' in 'Freesia Saladaeng Silom Apartments 02 636 3856 https://goo.gl/maps/2PHKzwWhqpLRnaqu8'\n",
            "Found URL 'https://maps.app.goo.gl/NELkRqB9JLqUmPjX7' in '18 ซอย เอกชัย 76 https://maps.app.goo.gl/NELkRqB9JLqUmPjX7'\n",
            "Found URL 'https://www.google.co.th/maps/@13.6890571,100.4008629,18.75z?hl=th&authuser=0' in 'https://www.google.co.th/maps/@13.6890571,100.4008629,18.75z?hl=th&authuser=0'\n",
            "Found URL 'https://goo.gl/maps/xkhNwW4RbkwyS4JQ6' in 'Soi Vibhavadi Rangsit 60, Lane 16 https://goo.gl/maps/xkhNwW4RbkwyS4JQ6'\n",
            "Found URL 'https://maps.app.goo.gl/hpDT1PbhkZn1mRLD7' in 'แขวง หนองค้างพลู แขวง หนองค้างพลู เขตหนองแขม กรุงเทพมหานคร 10160 https://maps.app.goo.gl/hpDT1PbhkZn1mRLD7'\n",
            "Found URL 'https://maps.app.goo.gl/4vVxVaEPAvFwPhph8' in 'ปักหมุด https://maps.app.goo.gl/4vVxVaEPAvFwPhph8'\n",
            "Found URL 'https://maps.app.goo.gl/YszLnuWr7rrFpcEv6' in '99 ลาดพร้าว https://maps.app.goo.gl/YszLnuWr7rrFpcEv6'\n",
            "Found URL 'https://www.matichon.co.th/local/quality-life/news_2476226' in 'งบการก่อสร้างสถานีดับเพลิง ทุ่งมหาเมฆ  ทำไมแพง ขับรถผ่าน เหมือนอพาร์ทเม้นปกติ 60 ห้อง  ติดป้ายว่า 60 ล้าน  แพงมาก รบกวนตรวจสอบด้วยครับ ลิ้งนี้ข่าวเคยออกครับ https://www.matichon.co.th/local/quality-life/news_2476226'\n",
            "Found URL 'https://drive.google.com/file/d/1w6z5TEeBoo8Y1koIK8tcrv9NGI2q7ShO/view?usp=sharing' in '🗣 ขอหารือการจัดการสิทธิในสถานะบุคคลของคนไร้บ้าน - การคืนรายการเพื่อรับรองสถานะคนสัญชาติไทย  🎅: กรณีคุณลุงสุวัฒน์ หรือนายสุวัฒน์ ใหม่เพียรวงศ์ อดีตคนไร้บ้าน ซึ่งอยู่ในความดูแลของมูลนิธิกระจกเงา https://drive.google.com/file/d/1w6z5TEeBoo8Y1koIK8tcrv9NGI2q7ShO/view?usp=sharing'\n",
            "Found URL 'https://goo.gl/maps/hFp3qbNoPwxZytVc9' in 'คลินิคบางแวกรักษาสัตว์ 02 865 3284 https://goo.gl/maps/hFp3qbNoPwxZytVc9'\n",
            "Found URL 'https://maps.app.goo.gl/TXEWxXNyR2vuspUJ7' in 'Dropped pin https://maps.app.goo.gl/TXEWxXNyR2vuspUJ7'\n",
            "Found URL 'https://photos.app.goo.gl/GMLShZYJQz6MMWy39' in 'https://photos.app.goo.gl/GMLShZYJQz6MMWy39'\n",
            "Found URL 'https://goo.gl/maps/t1mGDWuLJK536ZV7A' in '1.ขอบฝาท่อทรุดตัวเป็นหลุมลึก 2.(ภาพที่แนบด้านล่าง) 3.ถนนสุขุมวิทขาออก(ไปบางนา) เลนขวาสุด ตรงกับสุขุมวิท101/2 https://goo.gl/maps/t1mGDWuLJK536ZV7A'\n",
            "Found URL 'https://goo.gl/maps/Je57p2LTteECcdEC8' in 'Dropped pin https://goo.gl/maps/Je57p2LTteECcdEC8'\n",
            "Found URL 'https://g.co/kgs/Wi6TMt' in 'https://g.co/kgs/Wi6TMt'\n",
            "Found URL 'https://goo.gl/maps/PP345etPZVpaAXHv9' in 'ปักหมุด https://goo.gl/maps/PP345etPZVpaAXHv9'\n",
            "Found URL 'https://maps.app.goo.gl/Tsqmnka2Gqm9CrEK6' in 'https://maps.app.goo.gl/Tsqmnka2Gqm9CrEK6'\n",
            "Found URL 'https://fromsmash.com/b6w3tUHMcO-dt' in 'คลิปที่ข้างบ้านปิดเพลงเสียงดังครับ https://fromsmash.com/b6w3tUHMcO-dt'\n",
            "Found URL 'https://goo.gl/maps/NovSf3vSTb4mLe7t6' in 'Suan Sunandha Rajabhat University https://goo.gl/maps/NovSf3vSTb4mLe7t6 ป้ายรถเมล์หน้าราชภัฏสวนสุนันทา ตรงข้าม Café Amazon TI Container Mall'\n",
            "Found URL 'https://maps.apple.com/?ll=13.708221,100.538013&q=My%20Location&_ext=EiQpxv2Q95tqK0AxEApqzW4iWUA5xv2Q95tqK0BBEApqzW4iWUA%3D&t=m' in 'Krid Asvanon’s Location https://maps.apple.com/?ll=13.708221,100.538013&q=My%20Location&_ext=EiQpxv2Q95tqK0AxEApqzW4iWUA5xv2Q95tqK0BBEApqzW4iWUA%3D&t=m'\n",
            "Found URL 'https://www.google.com/maps?q=13.862100919189876,100.5717913465732' in 'https://www.google.com/maps?q=13.862100919189876,100.5717913465732'\n",
            "Found URL 'https://maps.google.com/?q=13.639282,100.473613&entry=gps' in '13°38'21.4\"N 100°28'25.0\"E https://maps.google.com/?q=13.639282,100.473613&entry=gps'\n"
          ]
        }
      ],
      "source": [
        "# Train\n",
        "url_pattern = r'https?://\\S+'\n",
        "\n",
        "# Iterate over rows in DataFrame and remove URLs\n",
        "for index, row in df_train.iterrows():\n",
        "    urls = re.findall(url_pattern, row['description'])\n",
        "    for url in urls:\n",
        "        print(f\"Found URL '{url}' in '{row['description']}'\")\n",
        "        # Replace the URL with an empty string\n",
        "        row['description'] = row['description'].replace(url, '')\n",
        "\n",
        "# Now, drop rows where the description becomes empty after removing URLs\n",
        "indexes_to_drop = df_train[df_train['description'] == ''].index\n",
        "df_train = df_train.drop(indexes_to_drop)"
      ]
    },
    {
      "cell_type": "code",
      "execution_count": null,
      "metadata": {
        "id": "XxHAgxfeFpYR",
        "colab": {
          "base_uri": "https://localhost:8080/"
        },
        "outputId": "2dd1b760-e857-4b4a-d5cb-d4a4eb039aae"
      },
      "outputs": [
        {
          "output_type": "stream",
          "name": "stdout",
          "text": [
            "Found URL 'https://goo.gl/maps/t6mQL9TNMDNZSs5N8' in 'https://goo.gl/maps/t6mQL9TNMDNZSs5N8'\n",
            "Found URL 'https://www.google.com/maps/place/26+Lat+Phrao+Wang+Hin+68+Alley,+Khwaeng+Lat+Phrao,+Khet+Lat+Phrao,+Krung+Thep+Maha+Nakhon+10230/@13.8269654,100.5929107,16z/data=!4m2!3m1!1s0x30e29d0bc8028937:0x7371e7bc84fd4415?hl=en-TH&gl=th' in 'https://www.google.com/maps/place/26+Lat+Phrao+Wang+Hin+68+Alley,+Khwaeng+Lat+Phrao,+Khet+Lat+Phrao,+Krung+Thep+Maha+Nakhon+10230/@13.8269654,100.5929107,16z/data=!4m2!3m1!1s0x30e29d0bc8028937:0x7371e7bc84fd4415?hl=en-TH&gl=th'\n",
            "Found URL 'https://goo.gl/maps/oUhznF3Nu5WKLpR3A' in 'https://goo.gl/maps/oUhznF3Nu5WKLpR3A'\n"
          ]
        }
      ],
      "source": [
        "# Test\n",
        "url_pattern = r'https?://\\S+'\n",
        "\n",
        "# Iterate over rows in DataFrame and remove URLs\n",
        "for index, row in df_test.iterrows():\n",
        "    urls = re.findall(url_pattern, row['description'])\n",
        "    for url in urls:\n",
        "        print(f\"Found URL '{url}' in '{row['description']}'\")\n",
        "        # Replace the URL with an empty string\n",
        "        row['description'] = row['description'].replace(url, '')\n",
        "\n",
        "# Now, drop rows where the description becomes empty after removing URLs\n",
        "indexes_to_drop = df_test[df_test['description'] == ''].index\n",
        "df_test = df_test.drop(indexes_to_drop)\n"
      ]
    },
    {
      "cell_type": "code",
      "execution_count": null,
      "metadata": {
        "colab": {
          "base_uri": "https://localhost:8080/"
        },
        "id": "0i7CLD3_DZPz",
        "outputId": "f6c5400d-6424-43d0-efc0-9d3b9d6b73b5",
        "tags": []
      },
      "outputs": [
        {
          "output_type": "stream",
          "name": "stdout",
          "text": [
            "description    2175\n",
            "Category       2175\n",
            "Message        2175\n",
            "dtype: int64\n"
          ]
        }
      ],
      "source": [
        "print(df_train.count())\n",
        "#print(df_train_clean.count())"
      ]
    },
    {
      "cell_type": "code",
      "execution_count": null,
      "metadata": {
        "colab": {
          "base_uri": "https://localhost:8080/"
        },
        "id": "gsK9gDVrF7iq",
        "outputId": "8171f7f0-4707-431e-99c4-4d2229c8da0b",
        "tags": []
      },
      "outputs": [
        {
          "output_type": "stream",
          "name": "stdout",
          "text": [
            "description    543\n",
            "Category       543\n",
            "Message        543\n",
            "dtype: int64\n"
          ]
        }
      ],
      "source": [
        "print(df_test.count())\n",
        "#print(df_test_clean.count())"
      ]
    },
    {
      "cell_type": "code",
      "execution_count": null,
      "metadata": {
        "colab": {
          "base_uri": "https://localhost:8080/"
        },
        "id": "yiPZtobNeY9L",
        "outputId": "f3a027b6-eb0e-4ff2-f467-418245ef0091",
        "tags": []
      },
      "outputs": [
        {
          "output_type": "execute_result",
          "data": {
            "text/plain": [
              "device(type='cuda')"
            ]
          },
          "metadata": {},
          "execution_count": 149
        }
      ],
      "source": [
        "import math\n",
        "import torch\n",
        "import torch.nn as nn\n",
        "import torchtext\n",
        "import pandas as pd\n",
        "import json\n",
        "import sys\n",
        "\n",
        "from sklearn.model_selection import train_test_split\n",
        "from torch.utils.data import DataLoader\n",
        "from tqdm import tqdm\n",
        "from torchtext.data.utils import get_tokenizer\n",
        "from torchtext.vocab import build_vocab_from_iterator\n",
        "\n",
        "device = torch.device(\"cuda\" if torch.cuda.is_available() else \"cpu\")\n",
        "device"
      ]
    },
    {
      "cell_type": "code",
      "execution_count": null,
      "metadata": {
        "colab": {
          "base_uri": "https://localhost:8080/"
        },
        "id": "zq9BahQfQ8gN",
        "outputId": "6ed9e089-9497-4c04-ff48-6caf0ee7f1b7"
      },
      "outputs": [
        {
          "output_type": "stream",
          "name": "stdout",
          "text": [
            "{0: \"('ถนน', 'ท่อระบายน้ำบนถนน')\", 1: 'จราจร', 2: \"('ถนน', 'พื้นผิวถนนชำรุด')\", 3: 'กรุงเทพโปร่งใส&ทุจริต', 4: 'ต้นไม้', 5: 'คนไร้บ้าน&ขอทาน', 6: \"('ทางเท้า', 'ท่อระบายน้ำบนทางเท้า')\", 7: 'reject', 8: \"('ถนน', 'ทางม้าลาย')\", 9: \"('ทางเท้า', 'ทางเท้าชำรุด')\", 10: \"('ขยะ', 'ขยะ')\", 11: 'น้ำท่วม', 12: 'ประปา', 13: 'สวนสาธารณะ', 14: 'สัตว์', 15: 'มลภาวะทางอากาศ', 16: \"('ทางเท้า', 'รถจอดขวางทางเท้า')\", 17: 'การเข้าถึงของคนพิการ&ผู้สูงอายุ', 18: 'เสียง', 19: \"('ไฟฟ้า', 'ไฟส่องสว่าง')\", 20: 'อาคารสถานที่ชำรุด', 21: \"('ขยะ', 'น้ำเน่าเสีย')\", 22: \"('ไฟฟ้า', 'เสาไฟฟ้า&สายไฟฟ้า')\", 23: \"('ถนน', 'รถจอดขวางถนน')\", 24: 'รถสาธารณะ', 25: \"('ทางเท้า', 'หาบเร่แผงลอย')\", 26: 'วินมอเตอร์ไซค์', 27: 'อุปกรณ์ชำรุด'}\n"
          ]
        }
      ],
      "source": [
        "labels = df_train[\"Category\"].unique()\n",
        "num_labels = len(labels)\n",
        "label2id, id2label = dict(), dict()\n",
        "for i, label in enumerate(labels):\n",
        "    label2id[label] = i\n",
        "    id2label[i] = label\n",
        "\n",
        "print(id2label)\n",
        "\n",
        "id2label_json = json.dumps(id2label, ensure_ascii=False)\n",
        "# Write the JSON to a file\n",
        "with open('idx2lab.json', 'w', encoding='utf-8') as json_file:\n",
        "    json_file.write(id2label_json)"
      ]
    },
    {
      "cell_type": "code",
      "execution_count": null,
      "metadata": {
        "id": "OHhyyG7SYmxI"
      },
      "outputs": [],
      "source": [
        "tokenizer = word_tokenize"
      ]
    },
    {
      "cell_type": "code",
      "execution_count": null,
      "metadata": {
        "id": "Y2PNXbp3ZddD"
      },
      "outputs": [],
      "source": [
        "class TextIter(torch.utils.data.Dataset):\n",
        "    def __init__(self, input_data):\n",
        "        self.text = input_data['description'].values.tolist()\n",
        "\n",
        "    def __len__(self):\n",
        "        return len(self.text)\n",
        "\n",
        "    def __getitem__(self, idx):\n",
        "        return self.text[idx]\n",
        "\n",
        "def tokenizer(text):\n",
        "    # Remove emojis\n",
        "    text_no_emoji = emoji.demojize(text)\n",
        "    tokens = word_tokenize(text_no_emoji)\n",
        "    return tokens\n",
        "\n",
        "# Build vocabulary\n",
        "def yield_tokens(data_iter):\n",
        "    for text in data_iter:\n",
        "        yield tokenizer(text)\n",
        "\n",
        "data_iter = TextIter(df_train)\n",
        "vocab = build_vocab_from_iterator(yield_tokens(data_iter), specials=[\"<pad>\", \"<unk>\"])\n",
        "vocab.set_default_index(vocab[\"<unk>\"])"
      ]
    },
    {
      "cell_type": "code",
      "execution_count": null,
      "metadata": {
        "id": "bQFFpJEKxz1u",
        "tags": []
      },
      "outputs": [],
      "source": [
        "# Convert vocab to JSON\n",
        "vocab_json_object = json.dumps(vocab.get_stoi())  # Convert the token_to_id dictionary to a JSON string\n",
        "with open(\"token2idx.json\", \"w\", encoding='utf-8') as outfile:\n",
        "    outfile.write(vocab_json_object)  # Write the JSON string to the file"
      ]
    },
    {
      "cell_type": "code",
      "execution_count": null,
      "metadata": {
        "tags": [],
        "colab": {
          "base_uri": "https://localhost:8080/"
        },
        "id": "gkKBbcR64Lto",
        "outputId": "74c57ab5-7355-47ee-8f42-9a04266e541e"
      },
      "outputs": [
        {
          "output_type": "stream",
          "name": "stdout",
          "text": [
            "{'๗': 4906, '๕๐': 4905, '๕': 4904, '๒๐': 4902, '่': 4898, 'ไอติม': 4892, 'ไหม้': 4889, 'ไล่ที่': 4887, 'ไลน์': 4885, 'ไม๊': 4882, 'ไม้ไล่': 4881, 'ไม้แขวนเสื้อ': 4880, 'ไม้หน้า': 4879, 'ไม่เท่าไหร่': 4875, 'ไมโครโฟน': 4873, 'ไฟ้า': 4872, 'ไฟสัญญาณจราจร': 4870, 'ไปนอก': 4866, 'ไทร': 4863, 'ไถ': 4861, 'ได้รูป': 4858, 'ได้การ': 4856, 'ไชย': 4854, 'ไค่': 4853, 'ไข้เลือดออก': 4852, 'ไก': 4848, 'ให้ได้': 4847, 'ให้ความสำคัญ': 4842, 'ใมห่': 4836, 'ใบเสร็จ': 4835, 'ในกรณีที่': 4831, 'ใช้ไม่ได้': 4828, 'ใจดี': 4824, 'โอกาส': 4816, 'โลก': 4808, 'โรย': 4807, 'โรงเรียนหญิง': 4806, 'โย': 4803, 'โม่': 4802, 'โม': 4801, 'โพส': 4799, 'โพธิ์ทอง': 4798, 'โปร่งใส': 4797, 'โท': 4790, 'โถ': 4789, 'โดยไม่จำเป็น': 4788, 'โดยที่': 4785, 'โชย': 4781, 'โฆษณา': 4779, 'โค่นล้ม': 4778, 'โคมไฟ': 4777, 'โกลเด้น': 4775, 'โกมล': 4774, 'แออัด': 4771, 'แอพ': 4769, 'แอบดู': 4768, 'แสบตา': 4759, 'แสบ': 4758, 'แว้': 4754, 'แวก': 4752, 'แล้ง': 4750, 'แระ': 4749, 'แรงลม': 4748, 'แรงงานเด็ก': 4747, 'ให้เช่า': 4846, 'แยะ': 4745, 'แม้แต่': 4744, 'แม่ลูกอ่อน': 4743, 'แฟชั่นไอส์แลนด์': 4739, 'แพร่พันธุ์': 4738, 'แผน': 4735, 'แปลก ๆ': 4732, 'แปล': 4731, 'แบะ': 4730, 'แบน': 4729, 'แบงค์': 4728, 'แนวเขต': 4726, 'แท้จริง': 4725, 'โอกะ': 4814, 'แท่น': 4724, 'แทรกตัว': 4721, 'แทก': 4719, 'แถ': 4718, 'แต่ไกล': 4717, 'แต่วัน': 4715, 'แตกแยก': 4712, 'แดก': 4710, 'แจ่ม': 4706, 'แค่นั้น': 4705, 'แคร์': 4704, 'เเม้': 4696, 'เเถม': 4695, 'เอ็ง': 4687, 'เอื้อประโยชน์': 4684, 'เอม': 4679, 'เห็นชัด': 4674, 'เหอะ': 4672, 'เหมือนก่อน': 4666, 'เหงือก': 4663, 'เส้นทางการจราจร': 4661, 'เสียที': 4655, 'เสียงดนตรี': 4652, 'เสด็จ': 4647, 'เว้า': 4643, 'เว้ย': 4642, 'เวี่ย': 4641, 'เวา': 4640, 'เวลากลางวัน': 4635, 'เวย์': 4634, 'เวช': 4633, 'เล่งหงษ์': 4630, 'เลี้ยงเด็ก': 4624, 'เลิศ': 4623, 'เลิด': 4622, 'เลยเวลา': 4618, 'เรื่อย ๆ': 4614, 'เรือเป็ด': 4613, 'เรียนหนังสือ': 4610, 'เริ่มต้น': 4608, 'เริม': 4607, 'เรสต์ต้า': 4606, 'เร': 4604, 'เยี่ยว': 4603, 'เมเจอร์': 4598, 'ไกร': 4849, 'เมย์': 4591, 'เฟื่องฟ้า': 4589, 'เฟสท์': 4587, 'เฟ': 4586, 'เพื่อนร่วมงาน': 4584, 'เพื่อนมนุษย์': 4583, 'เพลงชาติ': 4577, 'เพจ': 4576, 'เป็นแนว': 4569, 'เป็นที่เป็นทาง': 4559, 'เป็นต้นไป': 4558, 'เป็นตัวแทน': 4555, 'เร่งรัด': 4616, 'เป็นช่วง': 4554, 'เป็ด': 4551, 'เปาโล': 4550, 'เปล่า': 4548, 'เปรม': 4545, 'เบียดเบียน': 4541, 'เบาะแส': 4540, 'เนือง': 4534, 'เนืน': 4533, 'เนอ': 4530, 'เท่าไหร่': 4527, 'เท่าเทียม': 4526, 'เท่าที่จำเป็น': 4525, 'เท่าที่ควร': 4524, 'เท่าที่': 4523, 'เทเวศน์': 4522, 'เทิด': 4518, 'เทพรัตน': 4514, 'เทพธารินทร์': 4513, 'เทป': 4512, 'เต้นท์': 4508, 'เต่า': 4507, 'เต็มที่': 4506, 'เต็ก': 4505, 'เตอ์': 4503, 'เตรียมอุดมศึกษา': 4502, 'เตก': 4501, 'เดือนร้อน': 4495, 'เดือนก่อน': 4494, 'เดิอด': 4492, 'เดิร': 4491, 'เดินไปเดินมา': 4490, 'เซ้ง': 4488, 'เซนต์': 4487, 'เซน': 4486, 'เช้ามืด': 4485, 'เชื่อ': 4481, 'เจ้าเก่า': 4474, 'เจ้าภาพ': 4473, 'เจ้า': 4471, 'เจ้': 4470, 'เจเจมอลล์': 4465, 'เคเบิ้ล': 4462, 'เคลื่อนไหว': 4460, 'ใต': 4830, 'เคลียร์': 4458, 'เคร่งครัด': 4457, 'เครื่องใน': 4456, 'เครื่องส่ง': 4454, 'เครื่องยนต์': 4453, 'เครื่องขยายเสียง': 4452, 'เคยตัว': 4449, 'เขียง': 4443, 'เขม่น': 4441, 'เก็ย': 4435, 'เกเร': 4433, 'เกษม': 4427, 'เกษตร-นวมินทร์': 4426, 'เฟื่องฟุ้ง': 4588, 'เกน': 4423, 'ุง': 4420, 'ีงง': 4418, 'ะ': 4413, 'อ้างอิง': 4409, 'อ้อม': 4408, 'อ้วก': 4406, 'เลขคี่': 4617, 'อ่าน': 4405, 'อ่อน': 4403, 'อ็อก': 4402, 'อี้': 4399, 'อีเลฟเวน': 4398, 'อีซูซุ': 4397, 'อาเจียน': 4391, 'อาสา': 4390, 'อาร์': 4388, 'อารี': 4386, 'อาชีพ': 4384, 'อาคารสงเคราะห์': 4383, 'อัมพาต': 4381, 'อัพเดท': 4380, 'อับ': 4379, 'อัตโนมัติ': 4378, 'อังรีดูนังต์': 4376, 'อัคคีภัย': 4375, 'ฮอร์': 4411, 'ออฟ': 4374, 'ออกรถ': 4372, 'โกดัง': 4773, 'อส': 4369, 'อรัล': 4368, 'อร': 4367, 'อยู่ดี': 4365, 'อยุ้': 4364, 'อป': 4361, 'แม่ค้าหาบเร่': 4742, 'อบ': 4359, 'อนุรักษ์': 4357, 'อนุบาล': 4356, 'อนาคต': 4355, 'อตก.': 4354, 'อง': 4352, 'ห้องนอน': 4347, 'หุ่นยนต์': 4345, 'หาเรื่อง': 4341, 'หาทาง': 4340, 'หอก': 4335, 'หลายชนิด': 4331, 'หลับนอน': 4329, 'ใช้เวลานาน': 4827, 'หละ': 4326, 'หลอดไฟฟ้า': 4325, 'หมุนเวียน': 4319, 'หมื่น': 4318, 'หมดอายุ': 4314, 'เสมอๆ': 4648, 'หม': 4313, 'หน้ามืด': 4311, 'หนุนหลัง': 4309, 'หนาม': 4306, 'เนีื่อง': 4532, 'หทม': 4302, 'สํา': 4301, 'โบสถ์': 4794, 'ส้ม': 4299, 'ส่า': 4298, 'ส่งผลให้เกิด': 4292, 'สเก็ต': 4289, 'สูงอายุ': 4284, 'สุเมรุ': 4283, 'สุรศักดิ์': 4282, 'สุขุม': 4273, 'สุขา': 4272, 'สุขวิทยา': 4271, 'สุขภาพกาย': 4270, 'สุขภัณฑ์': 4269, 'สึก': 4267, 'สี่แยกไฟแดง': 4266, 'สีสัน': 4264, 'สีชมพู': 4261, 'สิ้นเปลือง': 4260, 'สำเร็จ': 4254, 'เงียบสนิท': 4463, 'สำนักงบประมาณ': 4253, 'สารเสพติด': 4252, 'สารวัตร': 4251, 'สารพิษ': 4250, 'สายหยุด': 4246, 'สามเสนวิทยาลัย': 4244, 'สาคร': 4241, 'สั่งการ': 4239, 'สั่ง': 4238, 'สัม': 4236, 'สันติ': 4235, 'สัณ': 4234, 'สัญาณ': 4233, 'สัญชาติ': 4231, 'สักแต่ว่า': 4230, 'สะพาย': 4227, 'สอ': 4224, 'สส.': 4223, 'สส': 4222, 'สวนเกษตร': 4219, 'สวนสัตว์': 4218, 'สวนพฤกษชาติ': 4217, 'สวนทาง': 4216, 'สราญ': 4212, 'สรรค์': 4210, 'สยามพารากอน': 4207, 'สมเด็จฯ': 4206, 'สมาน': 4204, 'สมบูรณ์': 4201, 'หอการค้า': 4336, 'สมบัติ': 4200, 'สภากาชาด': 4197, 'โหมด': 4813, 'สภา': 4196, 'สปาย': 4195, 'สบาย': 4193, 'สนามกีฬา': 4192, 'สนองนโยบาย': 4190, 'สนทนา': 4189, 'สถานีขนส่ง': 4187, 'สถานที่สาธารณะ': 4186, 'สถานที่ราชการ': 4185, 'เจ็ง': 4467, 'หนาว': 4307, 'สติไม่ดี': 4184, 'สติ': 4183, 'สงเคราะห์': 4181, 'สงฆ์': 4178, 'สกัด': 4176, 'ษผฏร': 4174, 'ศุภ': 4173, 'ศุ': 4172, 'ศาล': 4166, 'ศา': 4165, 'ศัพท์': 4164, 'เพ้ก': 4585, 'ศรัทธา': 4163, 'ว่าย': 4161, 'ว่าปะ': 4160, 'ว่าการ': 4158, 'วิลล่า': 4150, 'วินิจฉัย': 4149, 'วางหน้า': 4139, 'วัล': 4137, 'วันเว้นวัน': 4134, 'วันดีคืนดี': 4133, 'วัตถุดิบ': 4131, 'วัฒนะ': 4129, 'วอล์ค': 4127, 'ววววว': 4125, 'วร': 4124, 'วงค์': 4118, 'ล๊อก': 4117, 'โดด': 4783, 'ล้าย': 4115, 'ล้างรถ': 4113, 'วางขาย': 4138, 'ล้อหน้า': 4110, 'ล้อมรั้ว': 4109, 'ล้': 4105, 'แหน': 4764, 'ล่อ': 4101, 'ล็อค': 4100, 'ลูกบ้าน': 4097, 'ลูกน้ำ': 4095, 'ลุ่น': 4093, 'ลุย': 4092, 'ลุกลาม': 4091, 'ลื้อ': 4089, 'ลิง': 4086, 'ลิ': 4085, 'ลำคลอง': 4082, 'เกินความจำเป็น': 4430, 'ลาวา': 4081, 'ลักษณ์': 4074, 'ลัก': 4073, 'ละเมิด': 4071, 'ละลาย': 4069, 'ละลาน': 4068, 'ลมพายุ': 4065, 'ลงชื่อ': 4060, 'ร้านขายยา': 4057, 'เบื่อ': 4542, 'ร้านขายของเก่า': 4056, 'ร้า': 4054, 'ร่ม': 4049, 'สีห': 4265, 'ร่น': 4048, 'รู้อยู่': 4047, 'รู่': 4045, 'ลูกหลาน': 4098, 'รุ้': 4041, 'รื่อง': 4036, 'รีสอร์ท': 4034, 'สารพัน': 4249, 'รีม': 4033, 'รีดไถ': 4032, 'ราบ': 4025, 'ราชการ': 4024, 'ราง': 4023, 'ราคา': 4022, 'รับรอง': 4021, 'รับประทาน': 4020, 'รัถ': 4018, 'รักษ์': 4014, 'ระเบียง': 4011, 'ระยะห่าง': 4010, 'รอเดี๋ยว': 4005, 'รอยต่อ': 4004, 'รอย': 4003, 'รวมไปถึง': 3997, 'รวมมิตร': 3996, 'รวก': 3995, 'รยน': 3994, 'รฟม.': 3992, 'รปภ': 3991, 'รป': 3990, 'รบ': 3989, 'รถโดยสาร': 3988, 'รถตู้': 3984, 'รถขนของ': 3982, 'รถกระบะ': 3981, 'รณรงค์': 3979, 'รณย์รัศมิ์': 3978, 'ย้ายออก': 3976, 'อีกต่อไป': 4394, 'ย่อย': 3973, 'แฮปปี้': 4772, 'ยิบ': 3965, 'หนาวสั่น': 4308, 'ยาเบื่อ': 3962, 'ยาย': 3961, 'ยอมรับ': 3960, 'ยกตัว': 3957, 'มืดค่ำ': 3952, 'มึนงง': 3950, 'มีโอกาส': 3949, 'มีเสียง': 3948, 'มีราคา': 3943, 'มีผล': 3941, 'มีจำกัด': 3937, 'มิได้': 3936, 'มิเตอร์': 3935, 'แทนที่': 4720, 'มิสกวัน': 3934, 'มิกซ์': 3931, 'มาสด้า': 3929, 'มาร์เก็ต': 3928, 'มาร์ท': 3927, 'ฺ': 4421, 'มาร์ค': 3926, 'มานะ': 3924, 'มาน': 3923, 'มาตี': 3922, 'มาตรการป้องกัน': 3921, 'มาตรการ': 3920, 'มังกร': 3913, 'มอน': 3906, 'มองหา': 3905, 'มร': 3899, 'มนุษย์': 3898, 'มณฑารพ': 3897, 'มงคล': 3896, 'ภูมิทัศน์': 3893, 'แสงจันทร์': 4755, 'ภิรมณ์': 3890, 'ภิรม': 3889, 'ภาพรวม': 3884, 'ภัตตาคาร': 3881, 'ภนน': 3879, 'ฟุตซอล': 3876, 'แอ': 4766, 'ฟิวส์': 3874, 'ฟัง': 3871, 'ฟอง': 3869, 'ฟอก': 3868, 'โดดเด่น': 4784, 'ฟอ': 3867, 'ฟมด': 3866, 'ฟต': 3865, 'พิษ': 3859, 'พิท': 3857, 'พิช': 3855, 'พิ': 3853, 'ไม้ล้มลุก': 4878, 'เกียกกาย': 4431, 'พำนัก': 3852, 'พาร์ค': 3851, 'เป็นพิเศษ': 4562, 'พารากอน': 3850, 'ัว': 4415, 'พาดพิง': 3848, 'พัดลมระบายอากาศ': 3846, 'พักพิง': 3842, 'มะเร็ง': 3912, 'พักผ่อนหย่อนใจ': 3841, 'พลัส': 3836, 'พฤฒา': 3835, 'พร้าว': 3834, 'พระเจ้าตากสิน': 3833, 'พระสงฆ์': 3832, 'อุบัติ': 4401, 'พระบรมมหาราชวัง': 3831, 'โส': 4811, 'พระคุณ': 3828, 'พรรณ': 3827, 'พรรคภูมิใจไทย': 3825, 'พรบ.': 3823, 'ฝุ่นละออง': 3816, 'ผ้า': 3811, 'ผู้เสียชีวิต': 3808, 'ผู้สูงวัย': 3804, 'ผู้ว่าฯ': 3803, 'ผู้ว่าราชการ': 3802, 'ผู้รับเหมาก่อสร้าง': 3801, 'ผู้ขาย': 3796, 'ผู้กำกับ': 3795, 'ผูู้': 3794, 'ผูก': 3793, 'ผุ้': 3792, 'ล้วน': 4107, 'ลอบ': 4067, 'ผิดปกติ': 3790, 'ผักกระเฉด': 3785, 'ผอ': 3784, 'ผลไม้': 3783, 'ผลักดัน': 3779, 'ผลงาน': 3778, 'ผกา': 3777, 'ป้อมยาม': 3772, 'แซก': 4708, 'ป่าไม้': 3771, 'เจ้าเดิม': 4475, 'ปูด': 3769, 'ปู': 3768, 'เกร็ด': 4425, 'ปุ่ม': 3766, 'ปิ้': 3764, 'เร่': 4615, 'ปิดไฟ': 3762, 'ปิดบัง': 3761, 'ไนน์': 4864, 'ป่า': 3770, 'ปากน้ำ': 3757, 'ปั้น': 3754, 'ไม่ต้องการ': 4874, 'ปัส': 3753, 'รู้จัก': 4046, 'มือสอง': 3953, 'ปัด': 3751, 'เอนกประสงค์': 4678, 'ปัญจ': 3749, 'ปอ.': 3747, 'รับน้อง': 4019, 'ปวดฟัน': 3745, 'ปาร์ค': 3759, 'ปลู': 3743, 'ระดับน้ำ': 4006, 'ปละ': 3742, 'เอ': 4677, 'ปลอกคอ': 3741, 'ี่ะ': 4419, 'ปล.': 3740, 'เครน': 4450, 'ปรีดี': 3737, 'ปริวาส': 3736, 'ปอด': 3748, 'ปราม': 3733, 'ปราบ': 3731, 'อาร์ค': 4389, 'ปรับระดับ': 3730, 'ปรับปรุงแก้ไข': 3729, 'ประเพณี': 3727, 'ประเด็น': 3725, 'เหรียญ': 4669, 'ประวัติ': 3722, 'ประภา': 3721, 'ประตูระบายน้ำ': 3719, 'ประกันภัย': 3717, 'ปรก': 3714, 'ปน': 3713, 'ผลักภาระ': 3780, 'ปฏิบัติงาน': 3712, 'บ้านสวน': 3705, 'รัฐวิสาหกิจ': 4017, 'บ้านพักอาศัย': 3704, 'มากเกินไป': 3919, 'บ่อเกิด': 3701, 'เงียบหาย': 4464, 'บ่อน้ำพุ': 3700, 'บ่อน้ำ': 3699, 'บุ๋ม': 3697, 'เขม': 4440, 'อบอุ่น': 4360, 'บุคคโล': 3695, 'ใบสั่ง': 4834, 'บีบแตร': 3693, 'บำเพ็ญ': 3692, 'บาย': 3689, 'บางเวลา': 3687, 'บากหน้า': 3685, 'เสร็จเลย': 4649, 'บัต': 3682, 'บังคับใช้': 3680, 'บะ': 3678, 'บอง': 3676, 'บวก': 3674, 'พื้นกระเบื้อง': 3860, 'บริหาร': 3673, 'บริการสาธารณะ': 3672, 'สิ่งปลูกสร้าง': 4257, 'บฝย': 3670, 'น้ำแข็ง': 3666, 'เชิงรุก': 4479, 'น้ำลง': 3664, 'ยู': 3971, 'น้อยหรือ': 3661, 'น้อม': 3660, 'น้องๆ': 3659, 'น่ำ': 3657, 'เข้าครัว': 4446, 'น่าเป็นห่วง': 3656, 'น่าเบื่อ': 3655, 'น่าเกลียด': 3654, 'น่าดู': 3651, 'น่อง': 3650, 'นึกถึง': 3646, 'รัง': 4015, 'ประกอบ': 3716, 'นึก': 3645, 'เจ็บป่วย': 4469, 'นีเ': 3644, 'นิ้วเท้า': 3641, 'เละเทะ': 4620, 'นิ่งเฉย': 3640, 'นิสัย': 3638, 'นิทรรศการ': 3637, 'นิคม': 3634, 'ใ': 4822, 'นาเวศ': 3632, 'นาฬิกา': 3631, 'นาวา': 3630, 'เวลาทำงาน': 4636, 'นามธรรม': 3629, 'นั้นๆ': 3628, 'หาเสียง': 4342, 'นับวัน': 3625, 'นัข': 3624, 'นัก': 3621, 'นะค้า': 3620, 'นอง': 3618, 'นอกเหนือจาก': 3617, 'ไลฟ์': 4886, 'นรก': 3610, 'เฮา': 4690, 'นภา': 3609, 'นคะ': 3606, 'ธุรกิจ': 3603, 'หนักหน่วง': 4303, 'พุทธสมาคม': 3861, 'ธนะ': 3597, 'ท้องแก่': 3595, 'รุด': 4038, 'ท่าน้ำ': 3593, 'ท่อยาง': 3592, 'ทุเรศ': 3589, 'ทุกๆ': 3588, 'ทุกปี': 3587, 'วัย': 4135, 'มั่ว': 3918, 'ทึ่ง': 3585, 'ทึ่': 3584, 'ทึบ': 3583, 'ที่ไหนได้': 3582, 'ที่สาม': 3580, 'ที่สอง': 3579, 'ที่ราบสูง': 3576, 'ที่ทำงาน': 3573, 'ที่ทำการ': 3572, 'ทีวี': 3568, 'ทีละ': 3567, 'ทำผิด': 3559, 'ทำการค้า': 3553, 'ยุ่ง': 3970, 'ทาส': 3551, 'ทาน': 3549, 'ทางได้': 3548, 'ผู้เช่า': 3806, 'ทางใต้': 3547, 'เบ': 4536, 'ทางเพศ': 3546, 'ทางลัด': 3545, 'ทางต่างระดับ': 3540, 'สาธารณประโยชน์': 4242, 'ทางจิต': 3539, 'ทางบ้าน': 3541, 'ทางการ': 3537, 'ทากาศ': 3536, 'ละหมาด': 4070, 'ทั้งคน': 3533, 'ทัศนีย์': 3530, 'ทับถม': 3526, 'ทันการ': 3523, 'อีกหน่อย': 4396, 'นีออน': 3643, 'ทอย': 3521, 'สูญเสีย': 4285, 'ผู้บุกรุก': 3800, 'ทองอุไร': 3520, 'น่าอยู่': 3653, 'ทรู': 3515, 'ทรมาน': 3514, 'ทนไม่ไหว': 3512, 'เยี่ยมเยียน': 4602, 'ทท': 3510, 'เศษอาหาร': 4645, 'ถ่าน': 3506, 'ผู้ควบคุม': 3797, 'ถูกระเบียบ': 3503, 'เพิ่มมากขึ้น': 4580, 'ถูกจุด': 3502, 'ถุงพลาสติก': 3501, 'ถือเป็น': 3500, 'ถึงแก่ชีวิต': 3498, 'ถึงที่': 3496, 'โฉนดที่ดิน': 4780, 'ถี': 3494, 'ถาน': 3492, 'แกรนด์': 4698, 'ถัดไป': 3489, 'ถัด': 3487, 'ถังน้ำ': 3486, 'ถอยหลัง': 3485, 'ฺ็กไ': 4422, 'ถอด': 3483, 'ถนย': 3481, 'ต้นเดือน': 3479, 'ต้นตอ': 3476, 'ต่างด้าว': 3475, 'ต่างชาติ': 3474, 'ร่าง': 4051, 'ต่างกัน': 3473, 'สมคบ': 4199, 'ต่อตัว': 3471, 'ตู': 3470, 'ตื่นตกใจ': 3469, 'ร่ำรวย': 4053, 'ติดตัว': 3464, 'ตาเขียว': 3462, 'ตามกฎหมาย': 3460, 'ตากฝน': 3458, 'ตั้งใจ': 3455, 'ไร้สาระ': 4884, 'ตั้งหลักแหล่ง': 3454, 'ตัวใหม่': 3453, 'พัฒน': 3844, 'ตัวเรา': 3452, 'ตัวอักษร': 3448, 'ตัดถนน': 3444, 'ตักเตือน': 3443, 'ตัก': 3442, 'ตะไคร้': 3440, 'ตะวันออก': 3437, 'รถพยาบาล': 3986, 'ตะกร้อ': 3434, 'หลายอย่าง': 4332, 'ตอบกลับ': 3432, 'วเฮ้า': 4157, 'ตอนนั้น': 3431, 'ตอด': 3430, 'ตอง': 3429, 'ตอ': 3428, 'ปุ๊บ': 3767, 'ตลอดวัน': 3426, 'เสียเที่ยว': 4658, 'ตราชั่ง': 3422, 'ตรวจวัด': 3421, 'ออนไลน์': 4373, 'ตรรง': 3419, 'ตรบ': 3417, 'ตย': 3415, 'ตน': 3413, 'ตกค้าง': 3409, 'ด์เดอร์': 3408, 'ด์บน': 3407, 'ด้วยกัน': 3405, 'ด่าว่า': 3403, 'ด่า': 3402, 'ดูๆ': 3399, 'ดูไม่จืด': 3398, 'ดูว์': 3397, 'ดูงาน': 3396, 'ดุ้ง': 3395, 'ประเทศ': 3726, 'ทิ้งขว้าง': 3566, 'ตะเกียง': 3438, 'ดึง': 3391, 'ดีย์': 3390, 'วัยกลางคน': 4136, 'ดีด': 3389, 'ดิจิตอล': 3388, 'ดิ': 3387, 'ดังเดิม': 3384, 'ดวงตา': 3382, 'ดล': 3381, 'ดนื่อง': 3379, 'ณัฐ': 3377, 'ญาณ': 3372, 'ซ้ำแล้วซ้ำเล่า': 3371, 'ลัด': 4076, 'ซ่า': 3369, 'ยิง': 3963, 'ซุพ': 3366, '้หนือ': 4899, 'ผัด': 3788, 'ซือ': 3364, 'ซึม': 3363, 'ซี่': 3362, 'ไปเที่ยว': 4867, 'ซะ': 3353, 'ซ': 3352, 'ช่องระบายอากาศ': 3348, 'ช่องทางเดิน': 3347, 'ช่วงแรก': 3346, 'ชุ่ย': 3344, '’s': 4907, 'เป็นกอง': 4552, 'ชื่อว่า': 3341, 'ชำระเงิน': 3336, 'ชาว': 3334, 'ชายหนุ่ม': 3333, 'ชานุ': 3332, 'ชาต': 3330, 'ซี': 3360, 'ชั้นลอย': 3328, 'ชัช': 3327, 'ชวด': 3323, 'ชล': 3322, 'ฉีก': 3319, 'ฉัน': 3318, 'จุ่ม': 3313, 'ทำร้ายร่างกาย': 3560, 'จุฬาลงกรณ์': 3312, 'จุฬาภรณ์': 3311, 'จุล': 3310, 'ห้องสมุด': 4349, 'จำหน่าย': 3301, 'ห้': 4346, 'จั้น': 3298, 'จั่น': 3297, 'จับได้': 3296, 'จับจอง': 3295, 'ล้นหลาม': 4106, 'ปกปิด': 3710, 'จัดวาง': 3292, 'จัดระบบ': 3291, 'จัดซื้อจัดจ้าง': 3290, 'จักรี': 3288, 'จักรพงษ์': 3286, 'จรัส': 3282, 'จบ': 3280, 'ห้องพัก': 4348, 'งานใหญ่': 3276, 'พังทลาย': 3843, 'งานทำบุญ': 3275, 'งบประมาณ': 3273, 'พอใช้': 3840, 'งด': 3272, 'ค้ำ': 3269, 'ค้นหา': 3267, 'ค่ำคืน': 3266, 'ค่อยๆ': 3264, 'ค่อน': 3263, 'คู่ขนาน': 3260, 'คุ้น': 3258, 'คุม': 3255, 'คุณหญิง': 3254, 'คุณยาย': 3253, 'คุณภาพ': 3252, 'วู': 4156, 'คุณพ่อ': 3251, 'ร้านตัดผม': 4058, 'คุณค่า': 3250, 'คิดราคา': 3247, 'คำ': 3245, 'คาเฟ่': 3244, 'คาราโอเกะ': 3243, 'หล้า': 4333, 'คับคั่ง': 3241, 'คอขวด': 3235, 'ความเมตตา': 3232, 'ความเป็นระเบียบเรียบร้อย': 3229, 'บัวหลวง': 3684, 'ความสำคัญ': 3226, 'สัมพันธ': 4237, 'ความสว่าง': 3225, 'ความร้อน': 3223, 'เต': 4500, 'ความทุกข์': 3221, 'ความต่าง': 3219, 'ความดูแล': 3218, 'ล้อมรอบ': 4108, 'ปวดหู': 3746, 'ความกังวล': 3217, 'พม.': 3822, 'ควรจะเป็น': 3216, 'ปฏิบัติ': 3711, 'คลี่': 3212, 'คลีนิค': 3211, 'สุต': 4278, 'คลาย': 3210, 'คลังน้ำมัน': 3207, 'มหรรณ': 3901, 'คละ': 3206, 'คล่องตัว': 3213, 'คลอด': 3205, 'คลองระบายน้ำ': 3203, 'คล': 3202, 'ครูด': 3201, 'คราวนี้': 3198, 'โด': 4782, 'คนอื่นๆ': 3191, 'ตั้งใหม่': 3456, 'คนรวย': 3189, 'คนจีน': 3187, 'คนจน': 3186, 'คงอยู่': 3185, 'ข้าราชบริพาร': 3181, 'ข้ามวันข้ามคืน': 3179, 'ข้างใน': 3178, 'รกรุงรัง': 3977, 'ชุน': 3343, 'ข้างล่าง': 3176, 'ข้างมาก': 3175, 'ข้างนอก': 3174, 'ข้า': 3173, 'ทปัญโญ': 3513, 'ข้อเท้า': 3172, 'คำแหง': 3246, 'ข้อกฎหมาย': 3169, 'ข่วง': 3168, 'ข่มขืน': 3167, 'จารย์': 3299, 'ขุ': 3166, 'ขึ้นอยู่': 3165, 'ขึ่น': 3163, 'ขึง': 3161, 'ตามเดิม': 3461, 'ขี้เถ้า': 3160, 'หมอ': 4315, 'ขิง': 3159, 'ษะ': 4175, 'ขาดหาย': 3157, 'ขาก': 3155, 'มีชีวิต': 3938, 'ขั้นตอน': 3154, 'เรืองแสง': 4612, 'ของใช้': 3148, 'ของเหลว': 3147, 'ครึ่งหนึ่ง': 3200, 'ขวามือ': 3143, 'โปร่ง': 4796, 'แทะ': 4722, 'ขวด': 3141, 'ขม': 3140, 'ถูกๆ': 3505, 'ขนาดเล็ก': 3138, 'ขนาดที่': 3137, 'ขนย้าย': 3135, 'กําเ': 3134, 'กเล้ก': 3129, 'เป็นมิตร': 4563, 'ทำเนียบรัฐบาล': 3561, 'กุศล': 3128, 'ภารกิจ': 3886, 'กุญแจ': 3127, 'กี': 3123, 'กิ้ว': 3122, 'กิโล': 3119, 'กิจจะ': 3116, 'กำชับ': 3114, 'ขอโทษ': 3150, 'การเล่นกีฬา': 3110, 'การเลือกตั้ง': 3109, 'การเรียน': 3108, 'ภัฎ': 3880, 'การเจาะ': 3107, 'การอำนวยความสะดวก': 3104, 'การหลอม': 3102, 'การสื่อสาร': 3101, 'เข้าแถว': 4447, 'การสำรวจ': 3100, 'ยืดเวลา': 3968, 'การสอน': 3099, 'ลักไก่': 4075, 'การลา': 3097, 'การย่อ': 3096, 'การประสานงาน': 3092, 'การทำหมัน': 3090, 'การต่อเติม': 3085, 'การติดไฟ': 3084, 'น่ารำคาญ': 3652, 'การตอบรับ': 3083, 'การคาด': 3077, 'ทัศน์': 3531, 'ครัว': 3195, 'การขโมย': 3075, 'การขับ': 3074, 'การกรอก': 3072, 'กาย': 3071, 'กัว': 3067, 'กัลปพฤกษ์': 3066, 'กันฝน': 3065, 'กะลา': 3062, 'กวร': 3055, 'กล้อง': 3054, 'กล้ส': 3053, 'เทีย': 4519, 'กล่อง': 3051, 'ภา': 3883, 'กลา': 3048, 'เป็นไปไม่ได้': 4571, 'กลับบ้าน': 3046, 'กรุ๊ป': 3043, 'กราก': 3039, 'กระโปรง': 3038, 'กระเทียม': 3035, 'กระเด้ง': 3034, 'อัลไซเมอร์': 4382, 'กระพริบตา': 3033, 'กระบะ': 3032, 'กระทั่ง': 3031, 'บ.': 3668, 'กระทรวงกลาโหม': 3030, 'กระทรวง': 3029, 'กระจกส่อง': 3025, 'กรมศุลกากร': 3022, 'กรมปศุสัตว์': 3020, 'สีด': 4262, 'กพ': 3016, 'กน': 3015, 'มัย': 3915, 'กฎระเบียบ': 3013, 'หนัง': 4304, 'ก.ค.': 3011, '°38\\'21.4\"N': 3009, 'walk': 3007, 'traffyfondue': 3005, 'traffy': 3004, 'to': 3002, 'สรง': 4208, 'thelog': 3001, 'sky': 2998, 'ที่ว่าการ': 3577, 'skateboard': 2997, 'say': 2995, 'one-way': 2989, 'never': 2988, 'major': 2986, 'lift': 2984, 'gps': 2980, 'เฒ่า': 4489, 'footpath': 2978, 'fast': 2976, 'facebook': 2975, 'date': 2974, 'กรมราชทัณฑ์': 3021, 'cutz': 2973, 'cpall': 2972, 'คงขาด': 3184, 'condo': 2971, 'better': 2969, 'นั่น': 3627, 'before': 2967, 'account': 2966, 'เสาเข็ม': 4651, '___': 2965, ']': 2964, 'เที่ยงวัน': 4521, '[': 2963, 'page': 2992, 'Wine': 2961, 'University': 2959, 'ToT': 2954, 'TWO': 2951, 'TT': 2950, 'TI': 2949, 'Sunandha': 2948, 'Soi': 2945, 'Soccer': 2944, 'Skywalk': 2943, 'กิจจะลักษณะ': 3117, 'Silom': 2942, 'Ratchada': 2940, 'Rangsit': 2939, 'โน่': 4792, 'เก่ง': 4436, 'Rajabhat': 2938, 'Pro': 2936, 'PT': 2935, 'ยงค์': 3958, 'PLERN': 2933, 'Over': 2930, 'Oka': 2929, 'แม็ค': 4741, 'ลื่นไถล': 4088, 'MEA': 2926, 'Lexus': 2925, 'Lay': 2924, 'Lao': 2923, 'เลื้ย': 4627, 'Lane': 2922, 'L-Box': 2920, 'Krid': 2919, 'Horizon': 2917, 'ฉลอง': 3317, 'Hang': 2915, 'ไหล่ถนน': 4891, 'ฐาน': 3374, 'ช่วฃ': 3345, 'Google': 2914, 'Freesia': 2913, 'FYI': 2911, 'FAIRS': 2910, 'Exchange': 2908, 'EIA': 2905, 'DS-SKT-': 2904, 'สิ่งก่อสร้าง': 4256, 'Connection': 2902, 'ทันที': 3525, 'Center': 2901, 'Caf': 2900, 'โฮม': 4820, 'CTW': 2899, 'พุ่งชน': 3862, 'C': 2897, 'Bts': 2896, 'BtS': 2895, 'Bisrto': 2894, 'เผ่า': 4575, 'BRT': 2890, 'Asvanon': 2887, 'Apartments': 2886, 'Amazon': 2885, 'APP': 2884, ':speaking_head:': 2881, ':slightly_smiling_face:)': 2878, 'ศาล่': 4167, ':folded_hands_light_skin_tone::folded_hands_light_skin_tone::folded_hands_light_skin_tone:': 2876, ':folded_hands::folded_hands:': 2875, 'นนเนอร์': 3607, 'ตัดผ่าน': 3445, 'ดื๊บๆ': 3393, ':folded_hands:': 2874, ':Santa_Claus::': 2873, 'ตรวจตรา': 3420, '9:00': 2871, '94': 2869, '9.30': 2868, 'ถา': 3491, '9.00': 2867, '89': 2866, '865': 2863, 'ด็ก': 3400, '85': 2861, '84': 2860, 'จัก': 3285, '77': 2858, '75': 2857, 'กี้': 3125, '7456': 2856, 'กรอง': 3024, '73': 2855, 'ธุระ': 3604, '67': 2854, '636': 2853, 'กระดี่': 3028, '559': 2850, '519': 2849, 'มัสยิด': 3917, '46410': 2847, '46': 2846, '4.0': 2843, 'ชี้': 3340, '3856': 2842, 'ที่รัก': 3575, '300': 2838, '2563': 2837, '22:05': 2835, 'Bar': 2892, '21:40': 2833, 'หน่วน': 4310, 'รายการ': 4027, '21.00': 2831, '20:45': 2830, '2.5': 2826, 'สินธุ์': 4255, '194': 2825, '190': 2823, '18:00-19:00': 2821, '18:00': 2820, '180': 2819, '17:00': 2818, 'ปกครอง': 3709, '17717': 2816, '17.30': 2813, '17.00': 2812, 'บังโคลน': 3681, 'งก': 3271, '16886': 2811, '163': 2807, '16.00': 2806, 'น้ำดื่ม': 3662, '129': 2802, 'โอนเอน': 4817, 'จุดไฟ': 3309, '126': 2801, '124': 2799, 'นอกเวลา': 3616, '123': 2798, '12.20': 2796, '113': 2793, '11.15': 2791, 'ไม้ยาว': 4877, '106': 2790, 'คสร': 3234, 'ความเหมาะสม': 3233, '10170': 2788, '10140': 2786, 'การตอก': 3082, '1007.5': 2784, '10,000': 2782, 'แมลง': 4740, '08:00-09:00': 2780, '08.00': 2775, 'แผนที่': 4736, '0635262039': 2773, '04.00': 2769, 'ไม้ต้น': 4876, 'พนม': 3820, '/70': 2765, 'ตรายาง': 3423, '/4': 2762, '/36': 2761, 'กาฝาก': 3070, '/2431': 2759, '/13': 2756, '/11': 2755, '/07/65': 2754, 'ทำกับข้าว': 3552, '-lotus': 2750, '-eleven': 2749, ')(': 2747, '(~19.10)': 2746, 'ดาม': 3385, '(~05.30)': 2745, '(shocked)(content)': 2744, '(22.00': 2743, '#NAME?': 2740, '#04447': 2739, 'ปิ': 3760, '###': 2738, '!?!?': 2737, '                                ': 2735, '                       ': 2734, '        ': 2733, '     ': 2731, '…': 2730, 'ไว': 2728, 'ไร': 2726, 'ไม้ยืนต้น': 2725, 'ไม่เห็นจะ': 2723, 'อิตัล': 4392, 'พิกุล': 3854, 'ไฟกระพริบ': 2722, 'ได้รับอนุญาต': 2719, 'ยู่': 3974, 'ได้มาตรฐาน': 2718, 'ได้ผล': 2717, 'ระยะยาว': 4009, 'ป้ายประกาศ': 3774, 'ไซร้': 2715, 'ขัดข้อง': 3152, 'ไก่': 2714, 'ใส': 2712, 'ต้นลม': 3477, 'ใบอนุญาต': 2711, 'ในทันที': 2710, 'ใช้การไม่ได้': 2708, 'โล่ง': 2706, 'เบรก': 4539, 'วางเฉย': 4140, 'โร้ด': 2705, 'มะลิ': 3911, 'โจร': 2700, 'โควิด': 2699, 'ไปหา': 2721, 'โครง': 2698, 'แอ่งน้ำ': 2696, 'แอลกอฮอล์': 2695, 'แอร์': 2694, 'แอด': 2693, 'แหล่งน้ำ': 2692, 'แหลม': 2691, 'แวะ': 2689, 'ความเป็นส่วนตัว': 3230, 'แลนด์': 2688, 'Vibhavadi': 2960, '062': 2772, 'แม้น': 2686, 'แพ้': 2683, 'แพร่เชื้อ': 2681, 'แพทย์': 2680, 'พ่อ': 3864, 'กรึ่ง': 3041, 'แป': 2679, 'แถวหน้า': 2675, 'ให้ยา': 4843, 'แต่ละครั้ง': 2673, 'พรรคเพื่อไทย': 3826, 'แช่': 2671, 'แค่นี้': 2668, 'แข': 2667, 'โรงละครแห่งชาติ': 4805, 'เส้นใหญ่': 2659, 'เสื่อมโทรม': 2657, 'เสมือน': 2653, 'เสนานิคม': 2651, 'เศษเหล็ก': 2649, '11:41': 2795, 'เวิล์ด': 2648, 'เวิลด์': 2647, '!!!!': 2736, 'เลื่อน': 2646, 'เรือน': 2641, 'เรียง': 2640, 'เรียกเก็บเงิน': 2639, 'เยียวยา': 2638, 'เยาวราช': 2637, 'เมื่อเช้า': 2636, 'เม': 2634, 'เพิง': 2632, 'เพราะว่า': 2629, 'อพาร์ทเมนท์': 4362, '1112': 2792, 'เพ': 2628, 'แกว่น': 4699, 'ตีหนึ่ง': 3468, 'เฝ้า': 2627, 'เป้': 2625, 'เป็นเรื่อง': 2622, 'คะมำ': 3239, 'เป็นพื้น': 2620, 'เปิดร้าน': 2619, 'เปิดช่อง': 2618, 'เปลื่ยน': 2617, 'เบิ้น': 2615, 'เบอร์': 2613, 'ปั๊มน้ำมัน': 3756, 'เท่าไร': 2612, 'เอือมระอา': 4683, 'พน': 3819, 'เทคโนโลยี': 2609, 'พงหญ้า': 3818, 'ตัดสิน': 3446, 'ด้วยเหตุนี้': 3406, 'location': 2985, 'เถา': 2608, 'เต็มไปด้วย': 2607, 'เต็นท์': 2606, 'เตา': 2605, 'เด็กพิการ': 2602, 'เด็กทารก': 2600, 'เดินหน้า': 2599, 'เดินตาม': 2597, 'ส้วม': 4300, 'เดน': 2595, 'เดชะตุงคะ': 2594, 'เซนเตอร์': 2593, 'เซนติเมตร': 2592, 'เช็ค': 2590, 'เชือก': 2588, 'เชิด': 2587, 'ธร': 3598, 'เฉียว': 2586, 'เฉลิม': 2585, 'ศิษย์': 4169, 'เจรจา': 2584, 'เจตนา': 2583, 'วชิร': 4119, 'เงียบ': 2582, 'เครื่องเล่น': 2578, 'เข้าเรียน': 2577, 'เกือบจะ': 2573, 'เกินกำหนด': 2572, 'เกรงใจ': 2570, 'า': 2566, 'อ้าง': 2565, 'เยี่ยม': 4601, 'อ้อ': 2564, 'เด่': 4499, 'อีกด้วย': 2561, 'อินทรา': 2559, 'อาบน้ำ': 2558, 'อังคาร': 2554, 'ออมสิน': 2553, 'เห': 2660, 'ออกแบบ': 2552, 'ออกกำลัง': 2551, 'ฟอร์ม': 3870, 'ออ': 2550, 'อย่างไรบ้าง': 2549, 'เป็นไปตาม': 4570, 'อนุสาวรีย์': 2548, 'ภาษีที่ดิน': 3888, 'อนุสรณ์': 2547, 'องค์กร': 2543, 'ห่วง': 2542, 'หู': 2541, 'หายใจ': 2540, 'หัวค่ำ': 2537, 'ร้านขายของชำ': 4055, 'หลักแหล่ง': 2535, 'หลง': 2534, 'เล็ม': 4629, 'หรือเปล่า': 2533, 'เก็บเสียง': 4434, 'อยู่': 4366, 'หรือว่า': 2532, '0863640491': 2778, 'หยด': 2531, 'อก้': 4351, 'กึ่ง': 3126, 'หมิง': 2530, 'หน้าที่': 2529, 'หนี': 2527, 'โลหะหนัก': 4809, 'บันทึก': 3683, 'หนอน': 2526, 'หทัย': 2525, 'วณิช': 4121, 'ส่วนแบ่ง': 2522, 'สู่': 2521, 'สุขอนามัย': 2517, 'สีส้ม': 2514, 'ทำงานต่อ': 3556, 'สิทธิ': 2513, 'สำคัญ': 2510, 'สาเหตุ': 2509, 'สามล้อ': 2507, 'สัมพันธ์': 2504, 'สันติภาพ': 2503, 'สังเกต': 2500, 'สักพัก': 2499, 'สะพานแขวน': 2497, 'สอน': 2495, 'ให้หา': 4844, 'ขอรับ': 3149, 'สวนสุขภาพ': 2493, 'สวนลุม': 2492, 'สวนผัก': 2491, 'เท้าหลัง': 4528, 'สลัม': 2490, 'แขวน': 4702, 'ภิเศก': 3891, 'สระน้ำ': 2489, 'รุ่ง': 4040, 'สระ': 2488, 'สรร': 2486, 'สม': 2483, 'เสื่อมสภาพ': 4659, 'เช้านี้': 4484, 'สนง.': 2480, 'ศิริราช': 2475, 'ศาลแพ่ง': 2474, 'วิศวะ': 2471, 'วิวัฒน์': 2470, 'วิทย์': 2469, 'PM': 2934, 'วิจัย': 2467, 'เปล่าประโยชน์': 4549, 'วัว': 2466, 'ดุร้าย': 3394, 'วัยรุ่น': 2465, 'วัชร': 2463, 'วน': 2460, 'สารซักฟอก': 4248, 'วดี': 2459, 'วงศ์วาน': 2457, 'วง': 2456, 'ล้าน': 2454, 'บุคลากร': 3696, 'ล้า': 2453, 'ลื่นล้ม': 2449, 'ปัญญาอ่อน': 3750, 'ลิ้ง': 2448, 'ลาง': 2446, 'ยิน': 3964, 'ลาก': 2445, 'ลักลอบ': 2444, 'ซูด': 3367, 'ลอยฟ้า': 2443, 'ลงโทษ': 2442, 'ลงนาม': 2441, '........': 2752, 'ร้านเหล้า': 2440, 'ร้องทุกข์': 2438, 'รู้ทาง': 2437, 'รูปภาพ': 2436, 'รูปประกอบ': 2435, 'รุก': 2433, 'รับจ้าง': 2426, 'กานต์': 3069, 'ระยะ': 2422, 'ระนาบ': 2420, 'รอบข้าง': 2419, 'รองรับ': 2418, 'รอก': 2417, 'รวมตัวกัน': 2415, 'ล่าง': 2452, 'รวมกลุ่ม': 2413, 'ถึงขั้น': 3495, 'รถบัส': 2409, 'รถดับเพลิง': 2408, 'ร.ร.': 2407, 'ยัน': 2402, 'จิตใจ': 3305, '24:00)': 2836, 'ยศ': 2401, 'สะดุ้ง': 4225, 'ปิดไม่มิด': 3763, 'ยกเว้น': 2399, 'ม้า': 2398, 'มเหสักข์': 2397, 'มึด': 2395, 'มีอำนาจ': 2392, 'เครือข่าย': 4451, 'มิถุนายน': 2390, 'มารดา': 2388, 'ตกเป็น': 3411, 'มาตรฐาน': 2387, 'มัธยม': 2386, 'มลพิษทางอากาศ': 2381, 'มนตรี': 2380, 'มด': 2379, 'ภายในบ้าน': 2378, 'ภาพประกอบ': 2377, '.(': 2751, 'ภ': 2376, 'เสมียน': 2652, 'ฟาก': 2375, 'พ่อค้า': 2374, 'พูดจา': 2372, 'ลดลง': 4062, 'พุ่ง': 2370, 'พื้นสนาม': 2369, 'มีลูก': 3944, 'พื่น': 2368, 'พึงประสงค์': 2367, 'พาน': 2364, 'พาท': 2363, 'มาหา': 2389, 'พาต้า': 2362, 'พันธ์': 2361, 'ล่า': 4103, 'พักอาศัย': 2357, 'BEST': 2888, 'เปลี่ยว': 1108, 'ถ่าบ': 3507, 'ซีสต์': 3361, 'เบี่ยง': 1107, 'ทา': 929, 'ช่วยดูแล': 1033, 'บำรุงรักษา': 1741, 'ones': 2990, 'ฝูง': 2343, 'เกี่ยวกับ': 1103, 'การลอก': 1018, 'อโศก': 1102, 'ห้วยขวาง': 1098, 'สุทธิ': 1097, 'สิน': 1096, 'สะอาด': 1090, 'ไอ': 1302, 'ผิดที่': 2331, 'สอบถาม': 1089, 'share': 2996, 'ราม': 1080, 'สิรินธร': 1853, 'ร.': 1075, '10230': 2789, 'ร': 1074, 'มักจะ': 1071, 'ขยาย': 1345, 'พม': 3821, 'slope': 3000, 'พัฒนา': 1066, 'ขอไปที': 3151, 'รอ': 138, 'ผู้โดยสาร': 1061, '165': 2809, 'การสำลัก': 549, 'ผู้รับเหมา': 1060, 'ตู้': 1037, 'แทบจะ': 1114, 'ป้า': 1057, 'บางส่วน': 1054, 'นำ': 324, 'ตะ': 1679, 'น้ำขึ้น': 1732, 'นำ้': 1049, 'นราธิวาส': 1048, 'วันที่': 318, 'ท่า': 1046, 'แล้': 1116, 'ผลา': 3781, 'ทวีวัฒนา': 1040, 'ราช': 378, 'ตรงจุด': 1035, 'รุงรัง': 4037, 'สอย': 1844, 'เอ็น': 4688, 'ย้อย': 2406, 'จักรยานยนต์': 1030, 'แพง': 995, 'นัน': 1408, 'จริงๆ': 1029, 'วิ': 1087, 'เที่ยว': 2610, 'โพธิ์': 754, 'ราก': 1223, 'ค้างคืน': 3268, 'คนใจร้าย': 3194, 'ผอ.': 1433, 'ไฮโดร': 4893, 'Extreme': 2909, 'ในขณะที่': 2709, 'ปากทาง': 1759, 'ความสะอาด': 1025, 'ก้': 1342, 'รอง': 4000, 'ควันบุหรี่': 1024, 'ตั้งแต่': 249, 'คง': 1022, 'ใหั': 4841, 'มุสลิม': 3954, 'ผู้ว่า': 433, 'กันเอง': 1017, 'วีดีโอ': 4152, 'ทำความสะอาด': 932, 'แมลงสาบ': 1961, 'ต้อ': 2221, 'ที่จับ': 3571, 'พยายาม': 1063, 'ไข้': 4851, 'เส้นเลือดฝอย': 4662, 'กันสาด': 1016, 'โดยใช่เหตุ': 4787, 'กล้องวงจรปิด': 1013, 'โสม': 4812, 'น้ำเน่า': 1050, 'สภาพแวดล้อม': 4198, 'ก': 1010, 'ปลั๊กไฟ': 2317, '164': 2808, '93': 1008, 'พ่น': 947, 'อัด': 4377, '/7/65': 2764, '43': 1006, 'คุ้ยเขี่ย': 3259, 'คัตเตอร์': 3240, '36': 1005, 'รถประจำทาง': 1805, '2565': 1003, 'ย่า': 2405, 'โต๊ะ': 1561, 'วิศวกร': 4151, 'แขม': 993, 'รวดเร็ว': 2411, 'แก่': 992, 'เอกชน': 990, ',,': 2004, 'ค์': 3270, 'ข้าราชการ': 3180, 'เท่ากัน': 982, 'ซื่อตรง': 3365, 'เตือน': 981, 'เมล': 4592, 'เกาะกลางถนน': 979, 'อุจจาระ': 978, 'กระ': 1330, 'ระมาด': 4008, 'รับสาย': 2429, 'หมุด': 970, 'ฑล': 3376, 'ลอก': 379, 'สุขภาพ': 969, '1149': 2794, 'สพน์': 2482, 'ตะโกน': 1680, 'สัก': 963, 'แบ': 4727, '05.00': 2770, 'ลำโพง': 956, 'นานๆ': 2273, 'เข': 2575, 'ลาด': 955, 'เลร้ยง': 4619, 'พุทธมณฑล': 946, 'พักผ่อน': 945, 'XL': 2962, 'พราน': 944, 'หลวม': 4324, 'การป้องกัน': 3094, 'ปัสสาวะ': 939, 'นุ': 3648, 'ปัก': 938, 'บล็อค': 937, 'ที่แล้ว': 933, 'เอื้ออำนวย': 4685, ',': 321, 'บางกอก': 1052, '21:00-0.30': 2832, 'สตรี': 961, 'เศรษฐี': 988, 'กีฬากลางแจ้ง': 3124, 'โยน': 1977, 'ทางลาด': 930, 'ยานนาวา': 1219, 'kris': 2982, 'ติดตาม': 924, 'ดังนี้': 920, 'ติ': 1686, 'เพื่อนบ้าน': 984, 'ชาย': 919, 'ไฟเบอร์': 4871, 'เรือ': 1540, 'ส่งสินค้า': 4293, 'ชอน': 3325, 'โปรด': 2703, 'ชะลอ': 918, 'เครื่องเสียง': 4455, 'จาง': 917, 'อิสระ': 4393, 'moon': 2987, 'รุ': 1468, 'จรัญ': 915, 'ค่ำ': 1652, 'บาดเจ็บ': 3688, 'ขน': 910, 'เพราะ': 74, 'ขอร้อง': 2091, '39': 906, '34': 905, '101': 902, 'สลับ': 4215, 'ชาติ': 3331, 'กร': 3017, 'การชำรุด': 2076, 'เสียงรบกวน': 895, 'เรียน': 893, 'ทางเท้า': 32, 'เมตร': 892, 'ไทม์': 4862, 'เต็มไปหมด': 887, 'สวมหน้ากาก': 2494, '-': 72, 'เซเว่น': 886, 'พึ่ง': 1213, '..': 647, 'ข้าวหมูแดง': 3182, 'หลอดไฟ': 875, 'หมู': 873, 'สัญญาณไฟจราจร': 868, 'กิโลเมตร': 3120, 'ไบเทค': 1995, 'Big': 2893, 'หรอ': 874, 'FBT': 2040, 'ศ': 866, 'ศึกษาภัณฑ์': 4171, 'กิตติ': 2085, 'ข้อความ': 2097, 'หัวใจ': 2539, 'ล้น': 864, 'ลมแรง': 862, 'ใกล้เคียง': 643, 'ชิค': 3338, 'พื้นที่': 79, 'รีย์': 860, 'ไฟฉาย': 1000, 'รัชดาภิเษก': 857, 'วิชัย': 4143, 'ชำระ': 3335, 'รร': 856, 'เลี้ยง': 469, '600': 2029, 'Street': 2946, 'ตรวจ': 921, 'บูชา': 3698, 'พิชัย': 1779, 'เนส': 4529, 'ข้าวของ': 913, 'รมย์': 855, 'ส่วนพระองค์': 4295, 'รามคำแหง': 298, '122': 2797, 'แพ่ง': 2682, 'อย่างไร': 974, 'พระชนมพรรษา': 3829, 'รถมอเตอร์ไซค์': 854, 'ผู้บริหาร': 2335, 'ทุ่ม': 848, 'เมื่อไร': 4597, 'ออกดอก': 4371, 'ข้างเคียง': 912, 'คอย': 656, 'อาคาร': 463, 'ทั้งสอง': 846, 'เหลืออยู่': 4670, 'นักกีฬา': 3622, 'ต่ำกว่า': 845, 'ต่าง': 844, '63': 2852, 'ติดกับ': 842, 'ตอนเย็น': 840, 'ไกล': 1565, 'UNIQLO': 2958, '91': 2034, 'รพ.': 952, 'เหล็กเส้น': 4671, 'ๆ': 63, '**': 1304, 'สถานีตำรวจ': 4188, 'ประชาราษฎร์': 1424, 'ซา': 1670, '26': 822, 'ยุงลาย': 1802, 'เห็นแก่ตัว': 2664, 'ทางออก': 1043, 'ปั๊บ': 3755, 'ทางผ่าน': 3542, 'ไร้': 101, 'ไซท์': 4855, 'แสวค์': 4760, 'เจ้าหน้าที่ตำรวจ': 1516, 'ไฟเขียว': 819, 'มาถึง': 949, 'ถล่ม': 3482, 'บรรเทา': 2292, 'อาจารย์': 977, 'แทน': 815, 'พัก': 674, 'เลี้ยวซ้าย': 812, 'ตัดออก': 3447, 'แต่': 42, 'เลี้ยวขวา': 811, 'รุกล้ำ': 1469, 'ตะเข้': 3439, 'ถ่าย': 507, 'สัญญา': 805, 'สนาม': 801, 'ปรารภ': 3734, 'ลุมพินี': 681, 'บริจาค': 1413, 'เขต': 28, 'นร.': 1721, '170': 2814, 'เน่าเหม็น': 983, 'ญาติ': 1376, 'ๆจน': 4895, '(2': 2742, 'ศรี': 798, 'สว่าง': 568, 'หอพัก': 971, 'เข้าถึง': 1893, 'แนบ': 1553, 'ลักษณะ': 795, 'เหล้า': 896, 'โคน': 2697, 'พหลโยธิน': 434, 'ยา': 792, 'พาด': 789, 'เสริม': 2654, 'พลู': 788, 'บัว': 784, 'ตรงนั้น': 1381, 'หาบเร่': 1499, 'ธนบุรี': 781, 'มา': 6, 'ยุง': 1801, 'ไฟท้าย': 4869, 'วินัย': 4148, 'ประตูออก': 3720, 'กวิน': 3057, 'กรมการ': 3019, 'ทุกครั้ง': 780, 'โอสถ': 4819, 'ที่ผ่านมา': 779, 'วะ': 2462, 'ที่นั่ง': 778, 'หวาดเสียว': 4334, '55': 2027, 'สาม': 965, 'ทีม': 777, 'รุนแรง': 954, 'เน่าเสีย': 694, 'ช่างก่อสร้าง': 3350, 'ตากสิน': 1386, 'วิกลจริต': 4141, 'ดีขึ้น': 773, 'ไผ': 4868, 'ทนทุกข์ทรมาณ': 3511, 'รู': 794, 'หุ': 4344, 'จอก': 770, 'จอม': 771, 'คนใช้': 764, 'บำรุง': 1740, 'ขุน': 763, 'เหล็ก': 371, 'ดรูส์': 3380, 'ขนาดใหญ่': 761, ':smiling_face_with_tear::smiling_face_with_tear:': 2880, 'ปะ': 670, 'กลุ่ม': 759, 'สำรวจ': 1095, '21': 758, 'เถื่อน': 4509, 'ประชุม': 1755, 'โทร': 753, 'ห้อย': 877, 'แหล่ง': 752, 'คนธรรมดา': 3188, '361': 2841, 'เร่งด่วน': 986, 'ใช้ได้': 1988, 'สรรพาวุธ': 2487, 'แสงสว่าง': 751, 'ทัศนียภาพ': 3529, 'แคบ': 749, 'เดี่ยว': 4493, 'ละเลย': 1230, 'รับสินบน': 2430, 'อุปสรรค': 1511, 'เบิล': 2614, 'การทำงาน': 828, 'วุ่นวาย': 4155, 'แก้ไขปัญหา': 748, 'บันได': 1051, 'เน่า': 745, 'เด็กนักเรียน': 744, 'บ่ายโมง': 3703, 'ปลูก': 600, 'เฉี่ยว': 743, 'ป้าย': 167, 'เจ้าของ': 742, 'อย่า': 973, 'มีต': 3939, 'เคหะ': 741, 'การประปา': 1611, 'ก่อให้เกิด': 651, 'ปุ': 2326, 'แย่ง': 2687, 'กค': 1011, 'ณ': 772, 'สามวา': 734, 'ระหว่าง': 317, 'ลูกระนาด': 733, 'ขวัญ': 3142, 'มอลล์': 853, 'ธ': 849, 'ใด้': 4829, 'ลอย': 534, 'รร.': 725, 'แห': 4761, 'สนใจ': 802, 'วิดน้ำ': 4144, 'ประจำ': 483, 'เป็นความลับ': 4553, 'ขโมย': 2095, 'ตัวิาจ': 3449, 'พา': 722, 'ติ้งมอล': 3467, 'ผู้หญิง': 721, 'แมลงวัน': 1960, 'ที่อยู่อาศัย': 716, 'ทีมงาน': 1044, 'คอน': 1357, 'เพิ่มจำนวน': 2633, '54': 1007, 'ครั้ง': 313, '01': 2767, 'เขียว': 1270, 'ถัง': 713, 'recycle': 2994, 'พรรษา': 2348, 'ตลอดเวลา': 711, 'ซัก': 710, 'ขึ้นไป': 833, 'ระเบิด': 2423, 'ขวา': 708, 'ตรฝ': 3418, 'ขึ้นรถ': 3164, 'เปียก': 1109, '60': 703, 'สกาย': 4177, '25': 702, 'หม้อไฟ': 4320, 'เพลิน': 1916, '19': 701, 'ปล่อยทิ้ง': 3744, 'คนเดินถนน': 1353, 'โมง': 698, 'แท็งค์': 4723, 'แย่มาก': 697, 'เกิดเหตุ': 980, 'หล่น': 689, 'สีลม': 687, 'ชะลอรถ': 3326, 'สายตา': 870, 'รู้สึก': 437, 'บุกรุก': 2303, 'ที่ดิน': 847, 'วิทยา': 683, 'พายุฝน': 3849, 'ผุพัง': 941, 'สาทร': 536, 'เฮ้าส์': 4693, 'ธรณี': 3599, 'มากมาย': 1217, 'มหาจักร': 3902, '53': 1316, 'อัน': 975, 'เอส': 2665, 'ยังไง': 676, 'เขา': 421, 'เข้าใจ': 882, 'พอดี': 673, 'ธานี': 3601, 'พร้อม': 672, 'กระดาษ': 2055, 'ความเดือดร้อน': 766, 'ระบุ': 1222, 'ตบ': 2198, 'รั้ว': 364, 'การอพยพ': 3103, 'เอ่อล้น': 1944, 'บุก': 3694, 'กห': 1334, 'งาน': 659, 'ง': 658, '14.45': 2804, 'หาย': 384, 'ตาย': 451, 'คัน': 657, '1300': 2803, 'จตุจักร': 661, 'รามอินทรา': 679, 'กด': 650, 'กรุงศรี': 3042, 'สาธุ': 964, 'สิ้น': 4259, '88290': 2865, 'BTS': 649, 'ตัด': 100, 'พุทธ': 1781, 'ตลอดทาง': 1036, 'นี่': 596, 'เถ่า': 4510, 'สุดยอด': 4276, 'เป็นอย่างมาก': 890, 'ตกหลุม': 1380, 'ให้น้ำ': 645, 'ตะวันตก': 3436, 'โรงงาน': 642, 'ฝุ่น': 1062, 'สามเสน': 966, 'รวบรวม': 2412, 'ขอบ': 911, 'ประสบอุบัติเหตุ': 3724, '+': 820, 'เช่น': 640, 'หลบ': 638, 'แก๊ส': 1551, 'เทศ': 4517, 'ต้อง': 55, 'วัง': 635, 'ทุ่งสองห้อง': 1045, 'ห้างสรรพสินค้า': 4350, 'ขาว': 652, 'รถบรรทุก': 633, 'แอล': 4770, 'คอรัปชั่น': 1644, 'ย้าย': 632, 'ย้วย': 3975, 'ขนาด': 831, 'ยุบตัว': 631, 'แต่ต้น': 4714, 'สดใส': 4182, 'เมื่อไหร่': 1922, 'จำเลย': 3303, 'ยามวิกาล': 630, 'ยอม': 629, 'รายละเอียด': 727, 'มิ': 627, 'คาด': 1647, 'ช่องทาง': 624, 'จรัญสนิทวงศ์': 623, 'ข้ามถนน': 92, 'งี้': 3277, 'เอน': 1943, 'กา': 620, 'คอม': 3237, 'ทิ้ง': 112, 'ลวกๆ': 4066, 'c': 2046, 'คนไข้': 1634, 'เพิ่มเติม': 891, 'โภชนา': 4800, 'กาญจนา': 1137, 'ซาเล้ง': 3356, 'ชิงช้า': 2170, 'เบา': 888, 'วัฒน์': 2464, 'ผักตบชวา': 1765, 'สี่': 637, '50': 617, 'ผู้เดิน': 3807, '30': 616, 'การนำ': 706, 'ปราบปราม': 3732, 'นิดๆ': 3636, 'กลั่นแกล้ง': 3047, 'ไทย': 613, 'ม.': 1216, 'คล้ายๆ': 3215, '....': 2005, 'เล็ก': 612, 'lawson': 2983, 'ผู้กระทำผิด': 1437, 'บรรยากาศ': 2291, 'เลียบ': 611, 'ตอนนี้': 241, 'แป้น': 4734, 'หลุด': 608, 'ถูกสุขลักษณะ': 3504, 'สุนัขจรจัด': 607, 'ทำการ': 1401, 'bmc': 2970, 'เลิก': 1111, 'ยึด': 602, '100': 1125, 'ประตู': 598, 'ครั้งหน้า': 3197, '74': 1129, 'สมิติเวช': 2484, 'ฯ': 738, 'นอนตาย': 3619, 'ทำหมัน': 594, '57': 1580, 'ปีบ': 3765, 'onnut': 2991, 'ผ้าย': 2341, 'เหมือนเคย': 4667, 'ดำ': 588, 'โดยส่วนใหญ่': 4786, 'ที่สาธารณะ': 429, 'วิธี': 1237, 'เมลล์': 4593, 'จูง': 3314, '42': 824, 'เอา': 216, 'สุภา': 4280, 'รา': 858, 'กัด': 582, '   ': 577, 'แซง': 4709, 'สาขา': 1092, 'เอง': 576, 'อุรุ': 2563, 'เครื่อง': 883, '0838329447': 2777, 'ผิด': 786, 'เหลือง': 1941, 'ข้อกำหนด': 3170, 'เอกมัย': 575, 'บดินทรเดชา': 3669, 'เรา': 574, '10.30': 2783, 'ข้างๆ': 475, '๑๘': 4901, 'สำนัก': 1094, 'เด็ดขาด': 1903, 'เป็นที่': 573, 'ไปมา': 228, 'ห้าง': 572, 'ยาม': 2404, 'คลอง': 51, 'ราว': 1465, 'ยี': 3966, 'สี่แยก': 569, 'สน.': 567, 'ใช่ไหม': 4825, 'ร้านค้า': 566, 'แปะ': 4733, 'ภาพ': 347, '17.40': 2021, 'มาแรง': 3930, 'พลัด': 1064, 'คนเดียว': 1633, 'ยื่น': 565, 'พิจารณา': 562, 'อุ': 2562, 'แล้วแต่': 996, 'โอรส': 4818, 'นคร': 718, 'พัฒนาการ': 561, 'ปา': 560, '4703': 2848, 'เด็กเล็ก': 691, 'แว่น': 4753, 'ความล่าช้า': 3224, 'น่ากลัว': 558, 'น.': 557, 'บาท': 2298, 'ชรา': 3321, 'กลางวัน': 907, 'ผู้ใหญ่': 2339, 'ที่จอดรถ': 556, 'ทางด่วน': 555, 'ว่า': 49, 'ไก่ย่าง': 4850, 'น้อง': 719, 'อยากได้': 972, 'กรอบ': 1133, 'ชอย': 1664, 'ตัน': 554, '10': 259, 'อื่นๆ': 1883, 'vanilla': 3006, 'วังทองหลาง': 1085, 'ทั้งๆ': 667, 'น้่ง': 3667, 'ตอนเช้า': 553, 'ดอนเมือง': 552, 'ธารา': 1719, 'ทวี': 2229, 'คนใน': 551, 'กิ่ง': 550, 'กิ่งก้าน': 1616, 'สำหรับ': 309, 'ตลาดหลักทรัพย์': 3427, 'ไม้': 548, 'ไซต์': 547, 'แดง': 546, 'ล้าง': 1824, 'ตอบสนอง': 3433, 'แก้ปัญหา': 545, 'ขุด': 654, 'ทำหน้าที่': 2239, 'เสาไฟฟ้า': 543, 'ป้อม': 785, 'เค': 1895, 'เบรค': 1907, 'ร่วง': 680, 'กะทิ': 3061, 'เริ่ม': 542, 'ลงมา': 246, 'หลังจาก': 876, 'PHARMA': 2932, 'ประมาณ': 242, 'ลูกบิด': 4096, 'ทางเดิน': 102, 'ลาดชัน': 4079, 'กท': 3014, 'ควร': 240, '31': 1004, 'ผุ': 1059, '>': 1589, 'โรงเรียน': 238, 'น้ำลด': 3665, 'ม้าลาย': 1796, 'ย่าน': 1073, 'ซ่อม': 233, 'ซื่อ': 586, 'รถติด': 245, 'รัฐ': 1464, 'สะสาง': 4228, 'วุธ': 4154, 'ทำให้เกิด': 226, 'กรณี': 1132, 'สุข': 265, 'ท่าน': 431, 'แทบ': 816, 'ลำพู': 4084, '08:00-18:00': 2781, 'สถานบันเทิง': 2478, 'การข้าม': 2075, 'ควัน': 225, 'นบ': 3608, 'สุขาภิบาล': 1249, 'อี': 2560, 'ระบาย': 214, 'โวยวาย': 4810, 'วุฒ': 4153, 'เนื่องจาก': 137, 'นั้น': 212, 'ร้อง': 1083, 'ในเวลานั้น': 4833, 'ทุ่ง': 528, 'เมา': 4594, 'ยนตร์': 3959, 'ปฏิบัติตาม': 2309, 'มะพร้าว': 2384, 'ส่งกลิ่น': 183, '=>': 2883, 'central': 2047, 'ยูเทิร์น': 3972, 'ลำ': 634, 'ทำประโยชน์': 3558, 'ทางเดินเท้า': 396, 'พัฒน์จ': 3845, 'การจราจร': 294, 'เคย': 120, 'เสียงเพลง': 4653, 'เกะกะ': 880, 'ทะเบียนบ้าน': 2231, 'กระจัดกระจาย': 3027, 'สุขุมวิท': 207, 'ยาก': 404, 'ฮา': 4412, 'บางปะกอก': 2295, 'พัง': 206, 'ยวบ': 2400, 'เหนือ': 814, 'CJ': 2898, 'นั่ง': 205, 'อาบ': 4385, 'UFM': 2957, 'ดำเนินการ': 271, '18': 372, 'แบบฟอร์ม': 2678, 'ไปดู': 1996, 'บึง': 669, 'วันหยุด': 1236, 'ประชา': 456, 'ค้าขาย': 1156, 'ออก': 204, 'เป็นระยะๆ': 4565, 'แดด': 1293, 'พายุ': 1778, 'วนเกษตร': 4122, 'วิ่ง': 129, 'ตี': 626, 'ตาม': 203, 'ขึ้น': 99, 'เยอะ': 86, '10120': 2785, '06.00': 2771, 'ทำกิจกรรม': 2237, 'กัน': 126, 'แทง': 2677, 'แม่': 1962, 'ไหม': 354, 'เข้าข่าย': 2576, 'หน้าบ้าน': 200, 'เย': 985, 'หลากหลาย': 2536, 'เฉพาะ': 1105, 'โรคระบาด': 4804, 'ช่วยเหลือ': 585, 'เส้นทาง': 444, 'ขาด': 503, 'สุขภาพจิต': 1855, 'เรี่ยราด': 4611, 'ตั้งไฟ': 3457, 'หลัง': 194, 'ก่อสร้าง': 191, 'ที่ทาง': 2244, 'อนุญาต': 1265, 'ฝัน': 3812, 'ประวิง': 3723, 'ระบายอากาศ': 2421, 'ทาง': 44, 'ฟุต': 601, 'กำลัง': 760, 'แตก': 184, 'ควันพิษ': 2115, 'รูปทรง': 2434, 'จำนวนมาก': 188, 'เขยิบ': 4442, 'คนอื่น': 655, 'ฝืด': 3815, 'วัน': 108, 'สวรรค์': 4221, 'ออกลูก': 1506, 'น้ำยา': 3663, 'ปัจจุบัน': 671, 'ปิด': 182, 'สารเคมี': 1093, 'เหม็น': 110, 'จิตร': 2154, 'หางแถว': 4339, 'เมื่อก่อน': 1921, 'เ': 237, 'แจ้ง': 24, 'ซาฟารี': 3355, 'ก่อนที่จะ': 3130, 'มอไซค์': 948, 'ย้อนศร': 1221, 'ความฝัน': 2118, 'นท': 1405, 'ไฟฟ้า': 408, 'อุบัติเหตุ': 160, 'ตอบ': 1384, 'พฤกษา': 1441, 'สูบน้ำ': 2520, 'กลัว': 178, 'คนพิการ': 195, 'ชอ': 3324, 'บาง': 71, 'สยาม': 803, 'จุก': 3306, 'ร้อย': 2439, 'ม': 675, 'Test': 2953, 'ตีน': 1690, 'เตย': 1524, 'โรงบาล': 1980, 'พนักงาน': 1440, '29': 823, 'กก': 1598, 'เรียบร้อย': 388, 'เป็นสาเหตุ': 2621, 'อาจจะ': 439, 'ราห์': 4028, 'เดียวกัน': 1273, 'เวน': 1930, 'รถเมล์': 172, 'ราษฎร์': 793, 'เถอะ': 1526, 'ยังคง': 723, 'กรุงเทพ': 618, 'ช่วงเวลา': 1166, 'ไต': 4859, 'ซุ้ม': 2177, 'ผ่าน': 171, 'พิกัด': 377, 'ปรินายก': 3735, 'การคืน': 3078, 'ขอความร่วมมือ': 2090, 'เป็นอันตราย': 267, 'จังหวะ': 1656, 'เพศ': 4578, 'คอก': 1643, 'กระพริบ': 2061, 'ค่า': 426, 'คอนเทนเนอร์': 2127, 'แถว': 217, 'รอบนอก': 4002, 'ทั้งนี้': 3534, 'ขาเข้า': 653, 'วณ': 4120, '86': 2862, 'เป็นไป': 2623, 'ตุ๊กตุ๊ก': 2218, 'ขนส่งสินค้า': 3136, 'เครื่องสูบน้ำ': 1104, 'ผิวถนน': 402, 'พค': 3817, 'สายไฟ': 156, 'เนื่อง': 1904, 'เดือดร้อน': 522, 'สร้าง': 155, 'บัง': 346, 'เก้าอี้': 808, 'นาคปรก': 2269, 'เร็ว': 327, 'จันทน์': 1367, 'จ้อง': 1659, 'ทส': 3518, 'ถ.': 221, 'ทุกข์': 3586, 'กรุงเทพมหานคร': 581, 'อยู่': 38, '/9449': 2766, 'รับผิดชอบ': 512, 'ความปลอดภัย': 504, 'ที่เกิด': 1712, 'จน': 153, 'ใกล้': 152, 'กระจก': 705, 'ภาพลักษณ์': 3885, 'แยก': 54, '19.00': 2022, 'ขัง': 148, 'ถอดถอน': 3484, 'ใต้': 147, 'สานต่อ': 4243, 'ของ': 40, 'ใช้งาน': 390, 'หากิน': 4338, 'เห็น': 146, 'โรงแรม': 1981, 'ปี': 113, 'กล้า': 1014, 'ทางจราจร': 593, 'ครุ': 1023, 'บร': 3671, 'งู': 768, 'ศิ': 1836, 'ลำบาก': 136, 'เหยียบ': 989, 'สถานี': 287, 'ที่อื่น': 1403, 'เด็กอ่อน': 2603, 'ตัว': 210, 'ยาว': 348, 'เจ็ด': 4468, 'ชัด': 1370, 'เป็นระเบียบ': 4566, 'งานก่อสร้าง': 2140, 'ธี': 3602, 'ความต้องการ': 3220, ':OK_hand_light_skin_tone:': 2872, 'นาน': 104, 'เลิกงาน': 2644, 'ก็': 36, 'คริสตัล': 3199, 'โลหะ': 1983, 'ลาน': 1084, 'ไหล่ทาง': 1568, 'เพิ่ม': 387, 'ขวางทาง': 1147, 'บ้าง': 400, 'เตาถ่าน': 4504, 'ตัวเอง': 923, 'ค้าง': 1157, 'จิตรลดา': 3304, 'อย่าง': 157, 'ผู้สูงอายุ': 457, 'แมค': 2685, 'หน่อย': 130, 'สุดถนน': 4275, 'มีเจ้าของ': 2393, 'เล่น': 987, 'เเล้ว': 991, 'ความเป็นจริง': 2124, 'เพื่อที่จะ': 4582, 'สงสาร': 960, 'มี': 3, 'เจ้าค่ะ': 4472, 'พระยา': 943, 'Embassy': 2906, 'ทำ': 56, 'สุ': 968, 'ดุสิต': 1174, 'ปาด': 1430, 'ตลอด': 143, 'สัญจร': 179, 'ใคร่': 4823, 'คลิป': 1638, 'คืบหน้า': 1648, 'เปิด': 131, 'สนิท': 684, 'เท้าหน้า': 693, 'ความรับผิดชอบ': 2119, 'โฮเต็ล': 4821, 'ผู้เสียหาย': 3809, 'best': 2968, 'กรวย': 826, 'วันนี้': 605, 'อ่อนนุช': 420, 'บ้าน': 26, 'ศิลป์': 4168, 'สังคมสงเคราะห์': 1091, 'เข้าไป': 320, 'โปรแกรม': 4795, 'เห็นด้วย': 4675, 'ที': 250, 'วิถี': 4145, 'ไป': 20, 'บางที': 455, 'เรย': 4605, 'ช่องจราจร': 1034, 'การมั่วสุม': 3095, 'การจร': 3080, 'เจ้าหน้าที่': 208, 'สมเด็จพระเจ้าตากสิน': 4205, 'sleep': 2999, 'บุคคล': 1055, 'นานา': 782, 'คนจรจัด': 295, 'เตียง': 1274, 'ตีเส้น': 1388, 'ชัยพฤกษ์': 2164, 'ต่อให้': 3472, '178': 2817, 'ชน': 476, 'เอาผิด': 4681, 'JODD': 2918, 'ยาน': 2403, 'ชัย': 583, 'เค้า': 406, 'ดอง': 3383, 'เส้น': 151, 'ดูแล': 220, 'เคเบิล': 2581, 'จราจร': 285, 'ต่อเนื่อง': 1691, 'โฉนด': 2701, '4': 142, '45': 1127, 'เสียงดัง': 125, 'ดนตรี': 1171, 'เทรลเล่อร์': 4515, 'เกินไป': 740, 'อากาศ': 1877, 'ทานบน': 2236, 'เม็ด': 4599, 'หลบมุม': 4323, 'หน้า': 39, 'ตำแหน่ง': 479, 'แถบ': 2674, 'กระเด็น': 2062, 'ว': 682, 'นะ': 176, 'แฟมิลี่': 2684, 'ปั่น': 1427, 'ขายของ': 410, 'ทุกครั้งที่': 934, 'กวัด': 3056, 'กระทำ': 2059, 'ทั่วไป': 1041, 'ชิ': 3337, '=': 2882, 'กาว': 1340, 'ท่าข้าม': 1715, 'นักเรียน': 508, 'คอนแวนต์': 3236, 'ทุกวัน': 123, 'ทางตรง': 1185, 'สูง': 252, 'มอญ': 2383, 'ไอคอน': 1569, 'หนึ่ง': 570, 'พงษ์': 1211, 'มอเตอร์ไซค์': 222, 'เพื่อ': 139, 'ทรุด': 714, 'คำถาม': 2131, 'ขยะ': 31, 'หญิง': 1860, '2,000': 2023, 'ทางแยก': 931, 'กรมสรรพากร': 3023, 'สิ่งของ': 606, 'จอด': 30, 'เชียว': 4480, 'บางราย': 2296, '38': 1310, '306': 2839, 'ลูกชิ้น': 2450, 'สัญญาณ': 380, 'ทำให้': 27, 'เกาะ': 520, 'ความเร็ว': 835, 'ไฟแดง': 353, 'รบกวน': 70, 'มงกุฎ': 3895, '07.00': 2774, 'มืด': 213, 'ใหม่': 168, 'สัตว์': 517, 'ท': 926, 'มล': 3900, 'ที่จะ': 452, '176': 2815, 'ถ': 1692, 'พัทธ์': 2359, 'ยัง': 62, 'หลัก': 1259, 'ถ้า': 279, 'กระเบื้อง': 1135, 'ไม่': 4, 'ป้ายรถเมล์': 77, '***': 1573, 'ค่าปรับ': 3265, 'ก้มหัว': 3131, 'กลาง': 223, '44': 1312, 'หน่วย': 2528, 'โดยเฉพาะ': 330, 'ซิก': 3359, 'Container': 2903, 'การออกกำลังกาย': 2081, 'ผู้ดูแล': 3799, 'หมู่': 1256, 'เล้ง': 4631, 'ตรวจสอบ': 189, 'อยู่แล้ว': 878, 'หา': 462, 'เต็ม': 256, '๔': 4903, 'ฟาร์ม': 3873, 'Saladaeng': 2941, 'บ้านพัก': 1748, 'ตากแดด': 3459, 'ตลิ่ง': 2201, 'ตรี': 3424, 'ดัง': 450, 'การเคหะ': 1020, 'เจ็ก': 4466, 'ขอทาน': 187, 'เอื้ออาทร': 2666, 'รูป': 435, 'คุย': 3256, 'สัตว์เลื้อยคลาน': 2501, 'ลูกค้า': 732, '2': 43, 'หรือไม่': 369, 'กัก': 3063, 'ริม': 162, 'เทียน': 692, 'ซ้อนคัน': 2180, 'ติดขัด': 843, 'มีเทน': 3946, 'บอกทาง': 1414, 'too': 3003, 'มาก': 14, 'ทำต่อ': 3557, 'สุนัข': 299, 'รับ': 282, 'อุปกรณ์': 385, 'ชั้นล่าง': 1372, 'รพ': 1076, 'ไฟถนน': 900, 'ทดลอง': 3508, 'สะท้อน': 2496, 'ระยะเวลา': 1079, 'ติดตั้ง': 506, 'อนาจาร': 2546, 'ป้องกัน': 2327, 'ไม้เลื้อย': 1001, 'โขนง': 817, 'ล้อเลียน': 4111, 'จัดการ': 209, '117': 2018, 'ร้าน': 93, 'สูบ': 871, '20': 615, '62': 1318, 'ดึก': 1379, 'บอด': 3677, 'จัง': 3289, 'สามารถ': 94, '“': 1570, 'สื่อสาร': 688, '9': 332, 'รวมทั้ง': 1077, 'เจ้ง': 884, '28': 578, 'สำเหร่': 2511, 'กฎหมาย': 1325, 'บวม': 3675, 'แขวง': 248, ' ': 2, 'ลอยหน้า': 731, 'A': 1591, 'เลน': 149, 'สกปรก': 177, 'ให้การ': 1990, 'ฝา': 60, 'ประสานงาน': 851, 'สะอาดสะอ้าน': 4229, 'สาร': 1245, 'นนทรีย์': 2260, 'น้': 3658, 'รกร้าง': 951, '8.00': 2033, 'รีบ': 953, 'สัน': 2502, 'ครับ': 11, 'กรุง': 580, 'รื้อถอน': 1226, 'เกือกม้า': 4432, 'ตุ': 2217, 'อุทิศ': 492, 'ตามเวลา': 1685, 'กะ': 3060, 'เหมาะ': 2662, 'เดินทาง': 442, 'เชปเตอร์': 4478, 'เพาะชำ': 2631, 'ผู้อื่น': 1770, 'ไปรษณีย์': 1300, 'น้ำฝน': 1734, 'ชำ': 2168, 'ท้องแบน': 3596, 'ตะวัน': 922, 'ชุม': 2173, 'ำ': 4416, 'ประเภท': 1056, 'เดอะ': 541, 'ผม': 244, 'ขู่': 1626, 'taxi': 1594, 'การเคหะแห่งชาติ': 3106, 'ที่': 8, '192177': 2824, 'เปล': 2616, '  ': 23, 'เจริญ': 254, 'อาหาร': 311, 'ลาป่วย': 4080, 'ถนน': 9, 'ทั้งคืน': 1398, 'เกือบ': 284, 'หลังคาเรือน': 4328, 'สนั่น': 4191, 'เกรงกลัว': 2569, 'ออฟฟิศ': 1876, 'ซอย': 12, 'แชร์': 2670, 'สายไฟฟ้า': 537, 'การทำร้าย': 3088, 'อาจ': 236, 'สัญลักษณ์': 1242, 'เกิดเรื่อง': 4429, '#': 646, 'อาการ': 1100, 'ประชาชน': 181, 'เสพ': 1934, 'จระเข้': 3281, '3': 88, 'ขา': 622, 'ค่าโดยสาร': 2136, 'ย': 628, 'กีฬา': 1021, 'นอน': 192, 'บังคับการ': 2294, 'สูดกลิ่น': 4286, 'นี้': 59, 'จอ': 2146, 'โค่น': 898, 'ภัทร': 3882, 'ก้านใบ': 3132, 'ห้อง': 571, 'ขับรถ': 526, 'สงบสุข': 4179, 'วิภาวดี': 636, 'ทำไฟ': 3563, 'ตะไคร้น้ำ': 3441, 'งอ': 3274, 'กับ': 64, 'ราชภัฏ': 1815, 'ผัน': 3789, 'เวลา': 57, 'ร้องเรียน': 159, 'มัน': 128, 'การสมัครงาน': 3098, 'ซึ่ง': 169, 'จาก': 66, 'เบียด': 889, 'คอนโด': 219, 'อำนวยความสะดวก': 1507, 'ล้้ำ': 4116, 'คี่': 3248, 'ไหน': 331, 'เซ็นทรัล': 1272, 'จริง ๆ': 2145, 'เสีย': 158, 'ยกขึ้น': 3956, 'คือ': 161, 'จนท.': 662, 'ส่ง': 174, 'ชอบ': 261, 'หลานหลวง': 4330, 'ได้รับ': 140, 'พวกเรา': 3838, 'เพลง': 610, 'แรง': 1965, 'ข้าม': 68, 'เฉลิมพระเกียรติ': 885, 'เมื่อ': 407, 'รัด': 2424, 'กลิ่น': 145, 'ภายใน': 485, 'Esplanade': 2907, 'ณา': 2185, 'ลง': 119, 'เคลื่อนที่': 2579, 'ต้นไม้': 47, 'วงศ์': 957, 'รื้อ': 1467, 'มองว่า': 3904, 'ขายตรง': 3158, 'กั้นรั้ว': 2072, 'ศรีอยุธยา': 2472, 'ติด': 76, 'ไร้ประโยชน์': 2727, 'คุณแม่': 2132, 'ต้า': 3480, 'แฟลต': 1957, 'ห้าม': 274, 'เปลี่ยนแปลง': 4547, 'ประชาธิปไตย': 1423, 'กีดขวาง': 116, 'ได้คืน': 4857, 'สุร': 4281, 'จ้าง': 2157, '<unk>': 1, 'โดยรอบ': 1117, 'ตั้งโต๊ะ': 2205, 'แก้ไข': 75, 'เก็บ': 115, 'นิด': 2275, 'ปากซอย': 127, 'เลย': 33, 'ประปา': 325, 'รวมถึง': 487, '87': 2864, 'ท่อระบายน้ำ': 95, 'จัดระเบียบ': 1366, 'กลุ่มคน': 1136, 'ลาดพร้าว': 190, 'กระเป๋า': 3036, 'ทิว': 1709, 'บอ': 529, 'ที่ว่าง': 3578, 'เช่า': 2591, '72': 1321, 'รุดหน้า': 4039, 'อีก': 150, 'ผิดก': 2330, 'ด้านหน้า': 837, 'ชนนี': 2160, 'หน้าแหก': 4312, 'นู้น': 3649, 'สาย': 144, 'อ่างทอง': 4404, 'มุ่งหน้า': 564, 'หน่วยงาน': 215, 'อันตราย': 81, 'ทับที่': 3527, 'เขตชุมชน': 1891, 'ศึก': 4170, 'ส': 799, 'พอ': 196, 'ดังกล่าว': 625, 'อุดม': 419, 'พิราบ': 1212, 'นี': 3642, 'ดาว': 3386, 'ตัดแต่ง': 841, 'กล่าว': 2069, 'การทราบ': 3087, 'เป็น': 17, 'กลายเป็น': 827, '23': 1307, 'หนอง': 368, 'เกย': 2568, 'ด่วน': 836, 'ร่วมกัน': 1470, 'บํา': 3708, 'ต้นไทร': 2220, 'สมัย': 4202, 'แถวๆ': 2676, 'ตำรวจ': 314, 'พวก': 1065, 'ด': 1377, 'เชื่อม': 540, 'Taxi': 2952, 'จันทร์': 1368, 'มัลติ': 3916, 'ปรกติ': 3715, 'เลื้อย': 1929, 'รส': 2416, 'ตั้ง': 211, 'เช้า': 255, 'ฝั่ง': 85, '97': 2870, 'ระดับ': 459, 'ปรุ': 3739, 'กี่': 1143, 'ไม่ค่อย': 501, 'จะ': 25, 'ยอด': 1459, 'พญาไท': 942, 'บอก': 399, 'ขวาง': 198, 'ผังเมือง': 3787, 'เสื้อ': 2658, 'ผู้': 89, 'ปล่อย': 243, '20.00': 2827, 'กังวล': 1015, 'วัด': 164, 'คนแก่': 103, 'ปลอดภัย': 251, 'brt': 2045, 'แล้วเสร็จ': 4751, 'ดิน': 478, 'รอคอย': 3999, 'บ้านเรือน': 3706, 'ตะขาบ': 2203, 'ํา': 4900, 'อาชญากรรม': 1878, 'หอจดหมายเหตุ': 4337, 'ทุ': 1713, 'บริษัท': 720, 'เสา': 328, 'อาทิตย์': 440, 'กลอก': 3044, 'ตรง': 52, 'ช่วง': 106, 'เขตปลอดบุหรี่': 4439, 'รถชน': 724, 'หิน': 639, 'ฟุตบาท': 135, 'ศุกร์': 2476, 'การพักผ่อน': 1338, 'รอบ': 234, ':pleading_face:': 2877, '/1': 409, 'อนามัย': 1099, 'ขสมก.': 3144, 'ใหญ่': 180, 'เดินลง': 1521, 'ประเวศ': 509, 'การคัดเลือก': 3076, '-century': 2748, 'บน': 29, 'บางนา': 530, 'เป็นประจำ': 523, '(': 67, 'บำห': 2301, 'ปนเปื้อน': 2311, 'พลัง': 2352, 'ปรับ': 484, 'ร่มเกล้า': 1081, 'ห้องน้ำ': 288, 'ท้อ': 3594, 'แบ่ง': 1294, '<pad>': 0, 'ออกมา': 290, 'สาป': 2506, 'ร้าง': 729, 'ซักผ้า': 3354, 'หัก': 350, 'เด็ก': 121, 'ผู้ใช้': 787, 'พื้นถนน': 403, 'ผู้เดินทาง': 1772, 'ทศพล': 3517, 'ฝาก': 413, 'ลูกสาว': 2451, 'สวนสาธารณะ': 107, 'ความอนุเคราะห์': 2123, 'ติดต่อ': 712, 'อันนี้': 976, 'คะ': 111, 'อุดตัน': 1884, 'เสียง': 257, 'สัญณาน': 4232, 'ข้ออ้าง': 3171, 'ลา': 863, 'ปิดกั้น': 1204, 'ไข': 1298, '/': 258, '°28\\'25.0\"E': 3008, 'พื้น': 122, 'ริมแม่น้ำ': 4031, 'เพลส': 2630, 'จริง': 1159, 'ลานจอดรถ': 1472, 'ทางสาธารณะ': 1704, 'แอน': 4767, 'พื้นผิว': 1067, 'ด์': 665, 'ส่อง': 872, 'แค่': 445, 'เป็นต้นมา': 4557, 'ปาย': 3758, 'แล้ว': 21, 'ขรุขระ': 447, 'ขอบคุณ': 260, 'ยืน': 510, 'ตากผ้า': 2207, 'ระวัง': 1462, 'ถึง': 109, 'คดีความ': 2101, 'ทอง': 262, 'น้อย': 453, 'เหลือ': 544, 'พระรามสาม': 2349, 'คิว': 709, 'ฝน': 264, 'ราชวิถี': 726, 'ไซ': 391, 'ปรับปรุง': 376, '7': 305, 'ตกน้ำ': 838, 'อ๊อก': 4410, 'เผา': 809, 'พระราม': 272, 'คุ้ม': 1650, 'มองไม่เห็น': 531, '22.00': 1578, 'การปิดกั้น': 3093, 'ริมถนน': 273, 'ปุ่มกด': 1206, 'พาร์ท': 2365, 'จอง': 1364, 'หลังจากนั้น': 1867, 'นัล': 3626, 'สุเหร่า': 2518, 'ให้': 10, 'เเต่': 1289, 'เรียกร้อง': 4609, 'ไฟ': 58, 'ต่างๆ': 590, 'ครั้งนั้น': 3196, 'เร่ร่อน': 275, '5': 239, 'ความ': 270, 'บดบัง': 936, 'อย': 1875, 'ไม้ตาย': 1123, 'สุรา': 1496, 'ท่อ': 46, 'เย็น': 304, 'มอง': 790, 'แบบ': 329, 'ใบไม้': 755, 'คุ้ย': 1155, 'ขาออก': 762, 'หลาย': 80, 'ล้ม': 235, 'เบญจรงค์': 4537, 'นิช': 3635, 'กอง': 276, 'คืน': 767, 'เข้ามา': 90, 'ที่พัก': 1191, 'มีระดับ': 3942, 'ยุบ': 678, 'กลับ': 502, '?': 1590, 'ต้องการ': 278, 'สุจริต': 4274, 'รั่ว': 604, 'หลวง': 1258, 'กัญชา': 3064, 'ห้องครัว': 1872, 'ที่มา': 280, 'ทางสัญจร': 1186, 'รถเข็น': 281, 'เรื่อยๆ': 695, 'บีทีเอส': 850, 'ท่วม': 286, 'ด้าน': 323, 'พรรค': 3824, 'หัว': 539, 'ออกจาก': 289, 'เพชรเกษม': 291, 'เรียบ': 292, 'ด่อ': 3401, 'เสียชีวิต': 2655, 'สวัสดิ์': 804, 'เลี้ยว': 352, 'เดือย': 4496, '24': 821, '400': 2845, 'ตลิ่งชัน': 839, '66': 1128, 'ส่วนกลาง': 4294, 'ติดแอร์': 3465, 'เสรี': 1936, 'ครั้งก่อน': 2108, 'ปัญญา': 2323, 'เบเกอรี่': 4543, 'เสี่ยง': 293, 'คดี': 2100, 'ตรงนี้': 296, 'ทางน้ำ': 1400, 'ความเป็นอยู่': 3231, 'ก้าวเดิน': 3133, 'ตอน': 297, 'หลายครั้ง': 301, 'เนี่ย': 1106, 'สิงห์': 2512, 'อะไร': 253, 'คนบ้า': 1632, 'อย่างนี้': 736, 'อา': 302, 'COVID-': 2037, 'ตรงกลาง': 2199, 'เดือน': 303, 'Tower': 2955, 'ดีกว่า': 1172, 'สวนหย่อม': 962, 'กฏ': 1326, 'เลอะ': 1925, 'บ่อย': 361, 'หมาก': 1498, 'กิจ': 909, 'ทดสอบ': 1039, 'ใด': 899, 'เก้': 1512, 'ทุจริต': 316, 'บรม': 2290, 'บริการ': 432, 'จุดรวม': 3307, 'บางแค': 306, 'กะปิ': 446, 'เสียดาย': 4654, '4.50': 2844, 'หัวเข่า': 2538, 'ดิฉัน': 1378, 'คอสะพาน': 1028, 'เกี่ยว': 690, 'เฉย': 1517, 'ขั้น': 3153, 'ช่อง': 477, 'การไฟฟ้านครหลวง': 3111, 'เสื้อผ้า': 1547, 'สรุป': 4213, 'พิการ': 307, 'กำจัด': 1341, 'แอ่ง': 997, 'ระ': 1078, 'สะดวก': 308, 'โดย': 201, '6': 312, 'จดหมายตอบรับ': 3279, '”': 1571, 'ยีนส์': 3967, 'เลขที่': 443, 'สงัสย': 4180, 'ลากิจ': 4078, 'บาล': 3691, 'คู่คี่': 3261, 'ล': 730, 'ลด': 514, 'รก': 603, 'เป็นต้น': 4556, 'เกิด': 105, 'ล้ำ': 516, 'แผงลอย': 897, 'สปก': 4194, 'เป่า': 2624, 'Bangkok': 2036, 'ให': 4840, 'กั้น': 373, 'มีอิทธิพล': 3945, 'นิเวศน์': 1411, 'เหตุ': 747, 'ครัวเรือน': 2107, 'ถนนสาธารณะ': 775, 'ซ.': 165, 'รถทัวร์': 3985, '19.06': 2822, 'อน': 2545, '11': 355, 'เทวสถาน': 4516, 'เทศกิจ': 494, 'เอเชีย': 4686, 'วา': 1829, 'นอ': 3613, 'รถ': 18, 'จอน': 3284, 'นก': 481, 'ตรงข้าม': 170, 'ถ่ายรูป': 1697, 'มะ': 3908, 'เศษ': 746, 'สอง': 326, 'ผ่า': 2340, ':': 333, 'โอน': 1985, 'กิน': 334, 'เก็บกวาด': 1889, 'ไว้': 185, 'เลือนหาย': 4625, 'เดินผ่าน': 247, 'ขุดเจาะ': 2094, 'ถุง': 1038, 'มีประโยชน์': 2391, 'บอน': 597, '/18': 2758, '12': 614, 'วีลแชร์': 1088, 'ค่อนข้าง': 336, 'คนรัก': 3190, 'ก่อนหน้า': 1619, 'ตกลง': 774, 'ชาวบ้าน': 337, 'ฟุตบาธ': 1068, 'ษฏร์': 1837, 'เด็กประถม': 2601, 'ใต้ดิน': 1989, 'ฝ่าย': 1439, 'ชาวต่างชาติ': 2167, 'ระบายสี': 4007, 'กว่า': 186, 'ทับ': 338, 'ทาว': 3550, 'Facebook': 2912, 'นทร์': 2258, 'ยาง': 950, 'ผู้คน': 1438, 'อนุเสาวรีย์': 1874, 'เมือ': 2635, ')': 65, 'ชัชชาติ': 505, 'เห็นใจ': 4676, 'ฟู่': 3878, 'ไฟจราจร': 818, 'ทางเข้า': 339, 'ทัน': 927, 'ค่อย': 2135, 'ทำงาน': 340, '61': 2851, 'หมู่บ้าน': 134, 'ธนาคาร': 1047, '.2565': 2753, 'โดน': 197, 'สุคนธ': 1495, 'มอเตอร์': 341, 'สามเหลี่ยม': 2508, 'ง่าย': 660, 'ค่าบริการ': 1362, 'แพร่': 4737, 'รู้': 436, 'รัชดา': 488, 'เป็นระบบ': 4564, 'กลับรถ': 344, 'ช่วย': 61, 'ตอนกลางคืน': 345, 'ฝั่งธน': 3813, 'ตัวเมีย': 3451, 'เสนอแนะ': 2650, 'เหมือนเดิม': 471, 'อาศัย': 370, 'Bangkae': 2891, 'สะดุด': 349, 'ขนส่ง': 1621, 'อยาก': 35, 'โรงเรียนสตรี': 1118, 'เปผ้น': 4544, 'จับ': 356, 'กลางคืน': 229, 'เวียนหัว': 1932, 'ให้บริการ': 1991, 'ตก': 358, 'ภูมิ': 3892, 'น': 359, 'องค์การสวนยาง': 4353, 'ด้วย': 45, 'ล้างมือ': 4112, 'ลิ้นจี่': 4087, 'ปํญ': 3776, 'พัน': 362, 'แคน': 4703, 'วาง': 133, 'บางคน': 1053, 'รถยนต์': 363, 'วฮึ้ง': 4128, 'เลนส์': 1542, '&': 2741, 'สภาพ': 365, 'JM': 2041, 'สำนักงานเขต': 366, '16': 700, 'เอาไว้': 4682, 'เช่นกัน': 4482, 'สมาคม': 1841, 'พ่วง': 3863, 'ทำไม': 595, 'กรุณา': 1602, 'จดทะเบียน': 2143, 'หญ้า': 367, 'ทราบ': 374, 'บ่ายเบี่ยง': 3702, 'เรื่อง': 41, 'แต่ละ': 1113, '90': 1586, 'เนื่องมาจาก': 4535, 'บาร์': 3690, '65': 825, 'ใดๆ': 644, 'จำเป็นต้อง': 3302, 'BMAQ': 2889, 'นวมินทร์': 375, 'fondue': 2977, 'แอดมิน': 1296, 'คลองสองต้นนุ่น': 3204, 'ศูนย์การค้า': 1479, 'การสัญจร': 1019, 'เดิน': 48, 'ดมกลิ่น': 2186, 'ข้างทาง': 424, 'คุ่น': 3257, 'มือ': 1793, 'ณุ': 3378, 'หนาแน่น': 1861, 'หมา': 382, 'บริเวณ': 22, 'หยุด': 383, 'สีฝุ่น': 4263, 'เดิม': 266, 'สูบบุหรี่': 381, 'วงเวียน': 2458, 'ชั้น': 584, 'เข้าออก': 386, 'เสียหาย': 389, 'ทันตกรรม': 3524, 'น่าจะ': 398, 'หมด': 343, 'กทม.': 392, 'เหม่งจ๋าย': 4668, 'เข๋น': 4448, '15': 1002, 'ข้่ง': 3183, 'UDOMSUK': 2956, 'เก่า': 465, 'ปรือ': 3738, 'ก่อน': 269, 'กรมประชาสัมพันธ์': 2053, 'จัด': 393, 'ลงวันที่': 4061, 'Haus': 2916, 'หลังคา': 461, 'วันอาทิตย์': 1086, 'แอบ': 1557, 'ดื่มเหล้า': 3392, 'é': 3010, 'สั้น': 2505, 'ท้อง': 717, 'ชัดเจน': 394, 'น้ำ': 69, 'เคารพ': 2580, 'ได้รับความเดือดร้อน': 999, 'สายไหม': 685, 'PC': 2931, 'ที่แจ้ง': 397, 'ทั้งที่': 666, 'รมณี': 3993, 'ผู้ใช้ถนน': 2337, 'เคลื่อน': 4459, 'ประจำปี': 3718, 'หย่อน': 1864, 'วิน': 173, 'ยืนยัน': 3969, 'รัชโยธิน': 1811, 'รถไฟฟ้า': 405, 'แก๊ง': 4700, 'พอร์ต': 3839, 'จรจัด': 411, 'นวย': 3612, 'เลี่ยง': 1927, 'ท้าย': 412, 'ขบ': 3139, 'ถอย': 1694, 'แต่เดิม': 4716, 'ไล่': 901, 'หยาบ': 4321, 'มูล': 2396, 'ป': 1422, 'ดม': 1673, 'ข่าว': 1627, 'สากล': 4240, '200': 2828, 'จักรยาน': 527, '!!!': 2002, 'จร': 199, 'กช': 3012, 'ทุบ': 1194, 'พัดลม': 2358, 'ยังมี': 415, 'เซ': 1519, 'ศรีนครินทร์': 867, 'ส่': 4291, 'ร้านอาหาร': 416, 'เสาร์': 696, 'ขาง': 3156, 'ซาก': 1169, 'แท่ง': 1951, 'การ์': 3112, 'แบบนี้': 423, 'ต่ำ': 925, 'นะคะ': 193, 'ทะลัก': 1700, 'คับ': 425, 'ทางรอด': 3544, 'ซ่อมแซม': 427, 'ที่อยู่': 430, 'อยุ่': 1504, 'บุญ': 1417, 'ทวง': 3516, 'พนักงานบริษัท': 2346, 'ศูนย์': 438, 'อัตรา': 2556, 'ผู้ใช้บริการ': 2338, 'ค่ะ': 5, 'คุณ': 448, 'เจาะ': 1514, 'ให้เงิน': 4845, 'พิซซ่า': 3856, 'ซ้าย': 449, 'เก้าอี้นั่ง': 4438, '14': 525, 'ค': 1349, 'ถูก': 395, 'ทน': 1698, 'ฝึกอบรม': 3814, 'รับซื้อ': 2427, 'แนว': 750, 'พอสมควร': 1444, 'เลเจนด์': 4628, 'บางครั้ง': 454, 'ซ่องสุม': 3368, 'ใน': 13, 'สถานศึกษา': 1481, 'รูด': 4042, 'ทั้ง': 84, 'มอ': 458, 'ทุก': 263, 'เข้ม': 4445, 'แขก': 1946, 'เงิน': 466, 'แปลง': 1955, 'เดียว': 467, 'ข้อมูล': 1348, 'จึง': 232, 'พระ': 414, 'เเห้งเเล้ว': 4697, 'สวม': 4220, '13': 473, 'ทางม้าลาย': 50, 'กาญจนาภิเษก': 1335, 'กลับมา': 474, 'ปูน': 401, 'ซ้อม': 3370, 'บ่อ': 360, 'เรื้อย': 2642, 'กรอก': 2054, 'กระจกเงา': 3026, 'อันต': 806, 'ส่องสว่าง': 300, 'ใช้การ': 4826, 'ละ': 283, 'รวม': 1807, 'รวย': 3998, ':smiling_face_with_tear:': 2879, 'สั่น': 1847, 'สัปดาห์': 489, 'พบ': 141, 'หาก': 491, 'นิ': 2274, 'หลังบ้าน': 518, 'ตามที่': 1182, 'เก่าๆ': 4437, 'วราราม': 2461, 'ชื่อ': 1032, 'ปิดทาง': 1431, 'หลับ': 1868, 'วัตร': 4132, 'แก้': 496, 'ซำ': 3357, 'ออกกำลังกาย': 519, 'ถู': 1394, 'น้ำมัน': 935, 'ที่เก็บ': 2247, 'เขียน': 4444, 'โครงการ': 498, 'หรือ': 82, 'แถม': 994, 'วุฒา': 865, '68': 2030, 'โอกาศ': 4815, 'บังคน': 3679, 'ว่าง': 1834, ':round_pushpin:': 2035, 'ยิ่ง': 677, 'เป็นอยู่': 4568, 'หนัก': 310, 'mrt': 1009, 'สามย่าน': 1851, 'วัฒนา': 1235, 'ริ': 513, 'ลาดกระบัง': 515, 'เถ้า': 4511, 'เจ้าหน้า': 521, 'ลื่น': 796, 'ขออนุญาต': 1150, 'เฉอะแฉะ': 4476, 'คำนึงถึง': 1359, 'กระทะ': 2057, 'กอ': 2070, 'แล้วก็': 524, 'ภูมิแพ้': 3894, 'มีนบุรี': 532, 'โชค': 998, 'กลางกรุง': 3049, 'วิลล์': 1478, 'ท่อน้ำ': 480, 'การปรับปรุง': 908, 'สถานที่': 535, 'นครหลวง': 2257, 'สี': 538, 'รวมกัน': 2414, 'เพิ่ง': 1110, 'อ้วน': 4407, 'ล่ำ': 4104, 'เสร็จ': 1112, 'ถ่ายภาพ': 2227, 'ท้องถนน': 1717, 'แย่': 1115, 'ทู': 3590, 'โลตัส': 1119, 'ญ่': 3373, 'ไท': 1120, 'ไม่ต้อง': 1122, 'bts': 704, '/64': 1124, 'โบราณ': 4793, 'MRT': 1130, 'ช่องลม': 3349, '0899941922': 2779, 'กม.': 1131, 'กระจาย': 1134, 'ในอนาคต': 4832, 'การไฟฟ้า': 1138, 'กำลังจะ': 1139, 'กำแพงเพชร': 1141, 'ต้องหา': 2222, 'ก่อนหน้านี้': 1144, 'อิสรภาพ': 1509, 'ไบด์': 4865, 'ถนนใหญ่': 2223, 'ก๋วยเตี๋ยว': 1145, 'เวลาเล่น': 4638, 'ข': 1146, 'ขอความกรุณา': 1148, 'ทางข้าม': 592, 'ของเก่า': 1149, 'ขี้': 1151, 'ไร้ค่า': 4883, 'ผัง': 3786, 'คนจร': 1153, 'ร่วม': 1082, 'ดวง': 587, 'ครู': 1154, 'ซิ': 3358, 'เกตเวย์': 2567, 'ลงพื้น': 1471, 'ส่วน': 460, 'ตั้งวง': 1682, 'งาม': 1158, 'สุขสันต์': 2516, 'อนุ': 1264, 'จริงจัง': 1160, 'ลดาวัลย์': 4063, 'จาร': 1161, 'ความเก่า': 3228, 'จุฬา': 1162, 'ชั่วโมง': 1163, 'นาย': 1410, 'ชั่วโมงเร่งด่วน': 1164, 'ชิด': 1165, 'แต่ก่อน': 4713, 'ช่าง': 1167, 'ริน': 4030, 'ช้า': 1168, 'เทพ': 1276, 'ถึงแม้': 3499, 'ดื่ม': 1173, 'สืบ': 4268, 'ได': 2716, 'ด้านบน': 1176, 'พิทยา': 3858, 'ด้านหลัง': 1177, 'ธรรมดา': 2254, 'สนามฟุตบอล': 2481, 'ด้านใน': 1178, 'ลุก': 4090, 'เสือ': 2656, 'วิ่งไล่': 1832, 'ทัย': 3528, 'ตลาดนัด': 1180, 'อะ': 1268, 'ตะแกรง': 1181, 'รับเงิน': 1812, 'หมายเหตุ': 4316, 'ทะลุ': 1184, 'ทางเข้าออก': 1187, 'ทางโค้ง': 1188, 'ใจบุญ': 2707, 'ทำอาหาร': 1189, 'มิด': 3932, 'ขาย': 231, 'กรุงไทย': 2066, 'ทำได้': 1190, 'พูดคุย': 2371, 'ทุกคน': 1192, 'น้ำมันเครื่อง': 2288, '99': 1324, 'ทุกคืน': 1193, 'สุ่ม': 2519, 'น้ำทิ้ง': 1195, 'น้ำเสีย': 1196, 'บา': 1197, 'ประ': 1200, 'เกรง': 493, 'ประดิษฐ์': 1201, 'ครบ': 2104, 'เช้าตรู่': 4483, 'ขอความช่วยเหลือ': 1622, 'ประสาน': 1202, 'สะพาน': 96, 'ปลิว': 1203, 'อึ': 1510, 'ปิ้ง': 1205, 'แหลมคม': 4765, 'แหก': 4762, 'สื่อ': 2515, 'ขว้าง': 1346, 'เป็นสิบๆ': 4567, 'ตนเอง': 3414, 'ป้ายหาเสียง': 1207, 'ข้างหน้า': 3177, 'ผู้อยู่อาศัย': 1208, 'พิมพ์': 2366, 'ฝ่า': 1209, 'ฝ่าฝืน': 1210, 'แหงนหน้า': 4763, 'เช็ด': 1901, 'มูลนิธิ': 1795, 'พุ่มไม้': 1214, 'Mall': 2928, 'ดี': 357, 'บลู': 2293, 'เมท': 4590, 'ภิรมย์': 1215, 'มัด': 3914, 'จริงใจ': 3283, 'มีพิษ': 1218, 'ย้อน': 1220, 'รายงาน': 1225, 'พลุ': 2355, 'ติดตลาด': 3463, 'ร่อง': 1227, 'รัตน์': 2425, 'ธรรมชาติ': 2253, 'ไม่ได้เรื่อง': 2724, 'ลม': 1228, 'เดินเท้า': 1522, 'ชี': 3339, 'ลอง': 1229, 'ทำความ': 3555, 'นรา': 2262, 'นักงาน': 3623, 'ลำราง': 1231, 'ภาษี': 1784, 'เคล็ด': 1897, 'รดน้ำ': 3980, '17': 648, 'ลูก': 1232, 'สำนักงาน': 1489, 'ล่าสุด': 1233, 'มองเห็น': 1069, 'ล้อ': 1234, 'จักร': 1655, 'ชญ': 3320, 'วัชพืช': 959, 'ศาลา': 1238, 'เสียหลาย': 4657, 'เท่านั้น': 2611, 'สนามเด็กเล่น': 1239, 'นักการเมือง': 1407, 'ด้านนอก': 1675, 'สะสม': 1240, 'สักที': 1241, 'บ้านเมือง': 2306, 'ส่อ': 2523, 'สาน': 1243, 'ความเสียหาย': 1026, 'สามแยก': 1244, 'การคุมกำเนิด': 3079, 'ขยะมูลฝอย': 2088, 'สิบ': 1246, 'เกย์': 4424, 'สิริ': 1247, 'สิ่ง': 1248, 'ค่': 3262, 'ระบบ': 511, 'คอนกรีต': 2126, 'จำกัด': 3300, 'สุวรรณ': 1250, 'กลอน': 3045, 'สุเรนทร์': 1251, 'ส่วนมาก': 1252, 'ส่วนรวม': 1253, 'ปิ่น': 940, 'ส่วนใหญ่': 1254, 'การจับกลุ่ม': 3081, 'หมาย': 1255, 'เพลิงไหม้': 1537, 'ชุดนักเรียน': 3342, 'หม้อแปลง': 1257, 'ไบค์': 2720, 'ราชพฤกษ์': 1224, 'หล่อ': 1260, 'อ': 1263, '      ': 2732, 'อมร': 1266, 'รึ': 2432, 'อยู่อาศัย': 1267, 'เิง': 4694, 'ไฟไหม้': 1121, 'เสนา': 1285, 'รักษา': 1810, 'อ้างว่า': 1269, 'เข็น': 1271, 'เถาวัลย์': 1275, 'รามัญ': 4026, 'บ่อยๆ': 1421, 'วินาที': 1830, '8': 579, 'เที่ยงคืน': 1277, 'เท้า': 1278, 'คลัช': 3208, 'รับทราบ': 2428, 'ตกหนัก': 428, 'เป็นการ': 1279, 'ระแหง': 4013, 'ถิ่น': 3493, 'กีบ': 2086, 'เป็นปัญหา': 1280, 'กระโดด': 2063, 'สถาน': 2477, 'เป็นไปได้': 1281, 'เมือง': 810, 'เพียง': 1282, 'บ้านแพ้ว': 3707, 'เมื่อคืน': 1283, 'เมื่อวาน': 1284, 'คราบ': 2111, 'แสดงว่า': 4756, 'เหมาะสม': 1286, 'gas': 2979, 'หลุม': 124, '.': 37, 'เห่า': 1287, 'ครั้งแรก': 2110, 'เอก': 1288, 'สรณคมน์': 4209, 'แก': 1290, 'จับกลุ่ม': 3294, 'พวกเขา': 1443, 'พลิก': 1776, 'เสมอกัน': 1935, 'วิทยุ': 4146, 'หกล้ม': 2524, 'Central': 2038, 'จากนั้น': 2152, 'แจก': 1291, 'เสียว': 4656, 'แจ้งตำรวจ': 1292, 'สถานะ': 2479, 'แสงไฟ': 1295, 'ชื่น': 1374, 'โผล่': 1297, 'อนุสาวรีย์ชัย': 4358, 'จัดส่ง': 3293, 'จัดตั้ง': 2149, 'ได้รับบาดเจ็บ': 1299, 'ตำ': 2211, 'หิ้ว': 4343, 'ไหว': 1301, 'เวศม์': 4639, 'เลือกตั้ง': 1928, 'นารี': 1727, '\"': 1303, 'อดีต': 1873, 'ทิ่ง': 3565, '1555': 1305, '18.00': 1306, 'มลภาวะ': 1786, 'กว้าง': 1606, '33': 1308, 'พร': 2347, 'เบญจ': 1906, '37': 1309, '47': 1313, 'ตรงหน้า': 1179, 'สัญญาณไฟ': 342, 'และ': 7, 'กำ': 2083, 'ซอ': 2175, 'ๆสุ้ง': 4896, '56': 1317, '64': 1319, 'ให้อาหาร': 756, '70': 1320, 'ช่วยกัน': 1668, '79': 1322, 'ขอ': 97, '88': 1323, 'ออกจะ': 4370, 'กลางทาง': 3050, 'ได้มา': 1993, 'กดปุ่ม': 1327, 'ทหาร': 2230, 'เม้น': 4600, 'กม': 1328, 'กระทบ': 1332, 'กวดขัน': 1333, 'มิทร์': 3933, 'ดูจะ': 2194, 'ทำเอา': 3562, 'การกระทำ': 1336, 'จ่าย': 1658, 'ฟูฟ่อง': 3877, 'การคน': 1337, 'การใช้งาน': 1339, 'ทรุดโทรม': 1699, 'ก้อ': 1343, 'ขณะนี้': 1344, 'ระแวง': 4012, 'ได้': 19, 'ขับถ่าย': 1347, 'คนป่วย': 1351, 'คนสูงอายุ': 1352, 'ครึ่ง': 1354, 'ร้อน': 861, 'ความลำบาก': 1355, 'นนทรี': 2259, 'ควาย': 1356, 'ไส้กรอก': 4888, 'คันนา': 1358, 'พันธุ์': 3847, 'ทางใน': 1705, 'มากขึ้น': 1789, 'คิด': 1360, 'งอก': 1654, 'เมื่อกี้': 4596, 'คุกคาม': 1361, 'อัต': 2555, 'กลบ': 1604, 'จะแจ้ง': 1365, 'ฉี่': 1369, 'ค้า': 1363, 'ชั่วคราว': 1371, 'เหมือน': 470, 'ชีวิต': 1373, 'ไ': 2713, 'ดู': 166, 'ใช่': 499, 'ช่วงนี้': 1375, 'อื่น': 737, 'เขน': 881, 'ซื้อ': 1170, 'ได้กลิ่น': 1992, 'ผู้ชาย': 3798, 'ตลอดทั้ง': 1382, 'ตอนดึก': 1383, 'ชำรุด': 73, 'ตา': 1385, 'ี': 4417, 'ตามเรื่อง': 1387, 'ขับ': 224, 'ตื่น': 1389, 'เศรษฐ': 4644, 'ทติ้งมอล': 3509, 'ต่อรถ': 1390, 'ต่อไป': 1391, 'สูดดม': 4287, 'ถาวร': 1392, 'จ่ายตลาด': 3315, 'กรีฑา': 3040, 'ถือว่า': 1393, 'รัช': 4016, 'จ': 2142, 'อ.': 1501, 'ทรัพย์': 1395, 'นราธิวาสราชนครินทร์': 3611, 'ทหารบก': 3519, 'ทรัพย์สิน': 1396, 'มะกอก': 3909, 'ตร': 3416, 'สวัสดี': 319, 'ทำร้าย': 1402, 'จุด': 78, 'นอก': 1406, 'วิธีการ': 4147, 'ลูกคลื่น': 4094, 'อายุ': 807, 'นับ': 1409, 'ครอบครัว': 2106, 'บาทวิถี': 2299, 'สายโทรศัพท์': 4247, 'point': 2049, 'บุหรี่': 1418, '.65': 1575, 'เท': 468, 'บูรณะ': 1419, 'หัวโค้ง': 1261, 'ปัฐวิกรณ์': 1426, 'ผู้รับผิดชอบ': 2336, 'โรงพยาบาล': 472, 'ปรับพื้น': 1756, 'ปาก': 1429, 'อก': 1502, 'โรงงานอุตสาหกรรม': 2704, 'แต่เช้า': 1949, 'ชาม': 2166, 'ป้ายโฆษณา': 1432, 'สิ่งปฏิกูล': 1492, 'ผัก': 1434, 'ลบ': 4064, 'Suan': 2947, 'ผิดกฎหมาย': 1435, 'ต่อ': 118, 'ผิวจราจร': 1436, 'พี่': 1445, 'ช้าง': 3351, 'พูด': 1446, 'ลำต้น': 4083, 'ภาพถ่าย': 1447, 'บัตร': 1737, 'ของเสีย': 3146, 'แสน': 1968, 'มณี': 1448, 'คนั้ง': 3192, 'มนู': 1449, 'สีจาง': 1494, 'ง่ายๆ': 3278, 'เหมือนกับ': 1940, 'วก': 2455, 'มหา': 1451, 'เปน': 1532, 'วย': 4123, 'มอเตอร์เวย์': 1452, 'มอไซด์': 1453, 'อารีย์สัมพันธ์': 4387, 'มักง่าย': 1454, 'ละเมิดสิทธิ์': 4072, 'ตะนาว': 3435, 'ใช้ประโยชน์': 1987, 'มักกะสัน': 2385, 'กุล': 2087, 'มั่วสุม': 1455, 'เจ้าพระยา': 1515, 'มากกว่า': 1456, 'คับแคบ': 3242, 'มีทาง': 1458, 'สุด': 417, 'แมนชั่น': 1959, 'เครื่องจักร': 1896, 'รถสองแถว': 1461, 'จักรวรรดิ': 3287, 'ระโยงระยาง': 1463, 'ดัน': 2190, 'ทราย': 2228, 'ผู้จัดการ': 2334, 'เห็นควร': 4673, 'รำคาญ': 1466, 'พูดถึง': 2373, 'ลาย': 1473, 'เชื้อโรค': 2589, 'ลึก': 1474, 'รูม': 4044, 'สารสิน': 1852, 'ล้มทับ': 1475, 'แสดงออก': 4757, 'ด้วน': 3404, 'กระดก': 1599, 'น้ำประปา': 668, 'วัสดุ': 1477, 'สด': 1480, 'ครับผม': 1635, 'เคส': 4461, 'สิ่งกีดขวาง': 686, 'สมเด็จ': 1483, 'รี่': 4035, 'คลาด': 3209, 'หรือยัง': 1865, 'ไหล': 218, 'คา': 1646, 'รูปแบบ': 4043, 'สังคม': 1485, 'พลเทพ': 3837, 'ปตท.': 1750, 'วสะ': 4126, 'หน้าฝน': 1862, 'ไตเทียม': 4860, 'สาลี': 1487, 'เจน': 1898, 'สม่ำเสมอ': 2485, 'ดำเนิน': 664, 'สำนักงานใหญ่': 1490, 'หลักฐาน': 4327, 'สินค้า': 1491, 'ชุด': 1667, 'ร่าย': 4052, 'เสร็จสิ้น': 1938, 'ชนิด': 2161, 'ทีหลัง': 2243, 'นอกจาก': 2265, 'หน้าต่าง': 1497, 'ห้า': 1500, 'ทั้งๆ ที่': 1703, 'เข้': 1513, 'เกิดขึ้น': 4428, 'ซ้ำซาก': 2182, 'เชิง': 1518, 'อุจาด': 4400, 'การเคลื่อนไหว': 3105, 'เด': 1520, 'มีประสิทธิภาพ': 3940, 'เดี๋ยว': 1523, 'เสาธง': 4650, 'เบนซ์': 4538, 'เติม': 1525, 'วจะ': 958, 'เทปูน': 1527, 'เทวี': 1528, 'กาแฟ': 3113, 'นโยบาย': 2282, 'เทเวศร์': 1529, 'เนิน': 1530, 'เบส': 1531, 'เปลี่ยนเป็น': 1533, 'งง': 2138, 'เป็นห่วง': 1534, '228': 2834, 'เป็นเจ้าของ': 1535, 'ตัวเงินตัวทอง': 3450, 'เพลิง': 1536, 'เพื่อให้': 1538, 'เวลาเปิด': 1931, 'ด้านล่าง': 2195, 'เรียก': 1539, 'คล้าย': 3214, 'การถ่ายรูป': 3086, '10160': 2787, 'เข้า': 83, 'เส': 1933, 'เร่ง': 1541, 'เลือก': 1543, 'เว้น': 1544, 'ถึงที่สุด': 3497, 'ตลาด': 175, 'เสนอ': 1545, 'เมีย': 4595, 'เหรอ': 1548, 'เเถว': 1549, 'สายสอง': 4245, 'แก้ว': 1550, 'แคมป์': 1552, 'ชิน': 1666, 'ถูกต้อง': 1696, 'ประเสริฐ': 1425, 'แผง': 1554, 'แห้ง': 1556, 'ปัน': 3752, 'โกง': 1558, 'แจ้ว': 4707, 'อู่': 1886, 'โค้ง': 1559, 'คะนอง': 3238, '/72': 2011, 'โต': 1560, 'นาง': 2270, 'โน': 1562, 'โยธา': 1563, 'ใบ': 1564, 'ไง': 1566, 'ต้น': 163, 'คนชรา': 2102, '    ': 1572, 'เป็ห': 4572, '...': 1574, 'ทั้งหมด': 1399, '108': 1576, 'ผลกระทบ': 1058, '40': 1579, 'นครปฐม': 3605, 'พุธ': 1782, '59': 1581, 'ตื้นเขิน': 2216, '69': 1582, 'เวลานอน': 4637, 'ชั้นสอง': 3329, 'เผื่อ': 1914, 'เที่ยง': 4520, '71': 1583, 'บังคับ': 1736, '80': 1584, '81': 1585, '95': 1587, 'กิตต์': 3118, ':white_small_square:': 1588, 'ครอง': 2105, 'drop': 1592, 'LPN': 2921, 'เกษตร': 2571, 'skywalk': 1593, 'มหาเมฆ': 3903, 'โซน': 1971, 'แจ้งเหตุ': 2669, 'wheelchair': 1595, 'เหมาะกับ': 4665, 'world': 1596, 'ของตลาด': 3145, 'จัตุ': 2151, 'ก.': 1597, 'ทแยง': 3591, 'กรุงธนบุรี': 1600, 'สร้างบ้าน': 4214, 'กร้าน': 1603, 'เฮือน': 4692, 'ผ่าตัด': 3810, 'เหตุการณ์': 2661, 'กันที่': 1607, 'ธาตุ': 3600, '08.51': 2776, 'จำนวน': 663, 'กรรม': 1329, 'การขับขี่': 1608, 'นอกจากนั้น': 3614, 'เปลือง': 1910, 'การจราจรติดขัด': 1609, 'การซ่อมแซม': 1610, 'การศึกษา': 1612, 'ทางตัด': 2234, 'การแก้ปัญหา': 1613, 'ลู่': 4099, 'เดา': 2596, 'ยางมะตอย': 1072, 'กิจกรรม': 1614, 'เหล่านี้': 2663, 'กินข้าว': 1615, 'กู': 1617, 'เด็กโต': 4498, '02.00': 2768, 'ก็ได้': 1618, 'ว่าที่': 4159, 'พท.': 2345, 'บิ๊กซี': 1416, 'เนื่องด้วย': 1905, '110': 1577, 'ก้อน': 1620, 'ที่จริง': 3570, 'ยังอยู่': 1460, 'ขอบทาง': 1623, 'การทำร้ายร่างกาย': 3089, 'ขอบพระคุณ': 1624, 'ขุม': 1625, 'ที่ไหน': 1404, 'ข้อ': 1628, 'ติ้ง': 3466, 'สะเทือน': 2498, 'คนเดินเท้า': 834, 'ใคร': 227, 'ข้าว': 1629, 'ไใ่': 4894, 'บุรี': 2304, 'อินทามระ': 1508, 'คนขับรถ': 1630, 'ปลาย': 2318, 'คนงาน': 1631, 'ตึก': 277, 'คลอดลูก': 1636, 'คู้': 914, '52': 1315, 'คลินิค': 1637, 'คลื่น': 1639, 'แตกร้าว': 4711, 'กำหนด': 1140, 'คลุ้ง': 1640, 'ท่าเรือ': 1716, 'ควบคุม': 1641, 'ป่วย': 1761, 'ความคืบหน้า': 765, 'สวนป่า': 1484, 'คอแหลม': 1645, 'คุณครู': 1649, 'เฮาส์': 4691, 'ความเสี่ยง': 1027, 'งบ': 1653, 'นุ่น': 2280, 'จับกุม': 1657, 'ฉุน': 1660, 'ช': 1661, 'เวร': 813, 'ชม': 1662, 'ชวน': 1663, 'ชา': 1665, 'เอ่อ': 4689, 'สำ': 1488, 'ช่วยด้วย': 1669, 'ซีด': 1671, 'เป็นมา': 1912, 'แม่ค้า': 1555, 'พล': 2351, 'ดอก': 1674, 'คนเมือง': 3193, 'ตราด': 1676, 'วงจร': 1825, 'ตลาดสด': 1677, 'ถัว': 3490, 'ตอนแรก': 1678, 'ญ': 2183, 'นค': 1720, 'ตั้งอยู่': 1683, 'สะพานลอย': 114, 'รถจักรยานยนต์': 533, 'วอน': 1826, 'รี': 2431, 'ตามมา': 1684, 'ทุกอย่าง': 2248, 'ติดกัน': 1687, 'ติดป้าย': 1688, 'วิงวอน': 4142, '41': 1311, 'อยู่เลย': 1505, 'ติดไฟ': 1689, 'เป๊ะ': 4573, 'ทำครัว': 3554, 'ถอน': 1693, 'ผิว': 1766, 'ถาม': 1695, 'ทะเล': 1701, 'กลด': 2067, 'ทาวน์': 1706, 'ทาวเวอร์': 1707, 'ทำลาย': 1708, 'เป็นผล': 4561, 'ที่พักอาศัย': 1710, 'จุดอับ': 3308, 'ที่ว่างเปล่า': 1711, 'ทุกวันนี้': 1714, 'อม': 4363, 'สเปซ': 4290, '22': 903, 'นอกจากนี้': 1722, 'สุดสัปดาห์': 4277, 'นักศึกษา': 1724, 'เว': 4632, 'นา': 1725, 'นาค': 1726, 'เลิกเรียน': 4621, 'ราย': 859, 'นิดนึง': 1728, 'ส่วย': 4297, 'น้อยกว่า': 1730, 'ธนา': 2251, 'กุ่ม': 829, 'น้ำนอง': 1733, 'ความหวาดกลัว': 1642, 'บอล': 1735, 'มลพิษทางเสียง': 1785, 'บัตรประชาชน': 1738, 'มีปัญหา': 563, 'คนละ': 2103, 'เลื่อย': 4626, 'บาต': 1739, 'บิ': 1742, 'บิน': 1743, 'บิ๊ก': 1744, 'ใส่ใจ': 4839, '48': 1314, 'บี': 1745, 'บ': 559, 'บูรพา': 1746, 'มาจาก': 486, 'บ้านจัดสรร': 1747, 'ปฏิเสธ': 1749, 'ปทุม': 1751, '': 757, 'บ่อยครั้ง': 1420, 'กระทำความผิด': 2060, 'สีแดง': 967, 'ประชากร': 1752, '/65': 2009, 'ข้าพเจ้า': 2098, 'ฝนตก': 154, 'ประชาสัมพันธ์': 1753, 'ประชิดตัว': 1754, 'ตามปกติ': 2210, 'คู': 1651, 'ปริมาณ': 1757, 'งัด': 2139, 'ปริมาณมาก': 1758, 'ฟีด': 3875, 'เปลี่ยน': 609, 'ปีน': 1760, 'ป่าว': 1762, 'ผนัง': 1763, 'ผล': 1764, 'พันธ': 2360, 'อีกแล้ว': 1101, 'ผู้ค้า': 1767, '157': 2805, 'ปลา': 599, 'ผู้ป่วย': 1769, 'ลก': 4059, '105': 2016, 'ผู้เกี่ยวข้อง': 1771, 'มีชื่อ': 1792, 'พลับพลา': 1774, 'นิสิตเก่า': 3639, 'ฉีดวัคซีน': 2159, 'พลาสติก': 1775, 'พัด': 1777, 'ธรรม': 1718, 'แน่นอน': 1953, 'ภัย': 1783, 'หรี่': 4322, 'มหาลัย': 2382, 'น้ำท่วม': 87, 'มหาวิทยาลัย': 1787, 'นืนรอ': 3647, 'ไม้สูง': 1567, 'มอเตอไซค์': 1788, 'สน': 800, 'บางหว้า': 1198, 'มายัง': 1790, 'The': 2043, 'นักท่องเที่ยว': 1723, 'มิ.ย.': 1791, 'ความประสงค์': 3222, 'มุม': 1794, 'ป้าน': 3773, 'ปัญหามลพิษ': 2324, 'ยกระดับ': 1798, '35': 2024, 'ยกเลิก': 1799, 'ดินแดง': 589, 'ยะ': 1800, 'ถัดมา': 3488, 'รถไฟ': 1806, 'อาคารสำนักงาน': 2557, 'ระยะทาง': 1808, 'ถังขยะ': 315, 'มลพิษ': 1450, 'รัก': 1809, 'ๆๆ': 2001, 'รางน้ำ': 1814, 'ราด': 1816, '168409': 2810, '/4,60/5': 2763, 'รึเปล่า': 1817, 'มี่': 2394, 'ร่อน': 1818, '8.30': 2859, 'ละเอียด': 1820, 'สงสัย': 1839, 'ขี่': 832, 'ลัง': 1822, 'สาธารณะ': 490, 'ลิฟท์': 1823, 'กระแทก': 1012, 'วัดใจ': 1827, 'เผาไหม้': 4574, 'กล่าวว่า': 3052, 'ทางรถไฟ': 776, 'เกิน': 464, 'วันเวย์': 1828, 'รอน': 4001, 'น่ะ': 1412, 'วิภาวดีรังสิต': 1831, 'วี': 1833, 'ความสะดวก': 2121, 'place': 2993, 'จา': 916, 'ว่าไม่ได้': 1835, 'สูตร': 4288, 'ผู้อาศัย': 3805, 'กางร่ม': 3068, 'สก': 1838, 'ดับ': 322, 'สนามบิน': 1840, 'สมุทรปราการ': 1842, 'สวย': 1843, '/35': 2760, 'บำบัด': 2300, 'สังกะสี': 1845, 'หมี': 4317, 'สัตว์เลี้ยง': 1846, 'สาด': 1848, 'จ้างงาน': 2158, 'สาธร': 1849, 'รัล': 1813, 'สาธารณสุข': 1850, 'สีซีด': 1854, 'เก็บงาน': 2574, 'อิฐ': 1879, 'ขอให้': 230, 'สุดท้าย': 1856, 'ส่วนตัว': 1857, 'มิตร': 1457, 'ส่วนบุคคล': 1858, '58': 2028, 'ห': 1859, 'หัวมุม': 1870, 'เช': 4477, 'หารือ': 1871, 'อิน': 1880, 'สุธี': 4279, 'อีกครั้ง': 1881, '102': 2013, 'อีสาน': 1882, 'ว่าแล้ว': 4162, 'เละ': 495, 'นาที': 2272, 'ฟังก์ชัน': 3872, 'ย่าง': 1804, 'ทางลง': 1042, 'อู่ซ่อมรถ': 1887, 'เก': 1888, 'เก้า': 1890, 'ทะเลาะ': 3522, 'เจอ': 351, 'นิดเดียว': 2277, 'สรรพ': 4211, 'เข่า': 1892, 'ล้างหน้า': 4114, 'เข้าที่': 1894, 'เจ้าของบ้าน': 1899, 'เชื่อมต่อ': 1900, 'เซ็น': 1902, 'เบรลล์': 1908, 'หลังจากที่': 1866, 'เบิ้ล': 1909, 'พฤติกรรม': 1442, 'เปิดทาง': 1911, 'ตกปลา': 3410, 'ฐานทัพอากาศ': 3375, 'เป็นไฟ': 1913, 'ปักหลัก': 2321, 'เพชร': 1915, 'ฆ่า': 2137, 'ใช้': 91, 'เพิกเฉย': 1917, 'นอกนั้น': 3615, 'เพิ่มขึ้น': 1918, 'ยุทธ': 1803, 'เพียงพอ': 1919, 'แสม': 2690, 'เพื่อน': 1920, 'RASA': 2937, 'ความสามารถ': 2122, 'เยื้อง': 1923, 'km': 2981, 'หนู': 735, 'เลข': 1924, 'อีกที': 4395, 'คำตอบ': 2130, 'คูน้ำ': 2133, 'สถานีรถไฟ': 1482, 'ขยับ': 2089, 'เสรีไทย': 1937, 'สมาชิกสภา': 4203, 'เสียเวลา': 1939, 'ขีด': 2093, 'ทั้งวันทั้งคืน': 3535, 'เห็นได้ชัด': 1942, 'กิ่งไม้': 335, 'ดูด': 1175, 'แก่ๆ': 1945, 'ทีไร': 3569, 'ตลอดจน': 3425, 'แข็งแรง': 1947, 'กรกฎาคม': 3018, 'กำแพง': 621, 'ซ้ำ': 1672, 'แตกหัก': 1948, 'ความเกรงกลัว': 3227, 'แท็กซี่': 1950, 'แนะนำ': 1952, 'รถจักรยาน': 3983, 'แบริเออร์': 1954, 'ปัญหา': 53, 'แผ่น': 1956, 'ใย': 4837, 'ล่ะ': 4102, 'วงแหวน': 1476, 'แมคโดนัลด์': 1958, 'เป็นเวลา': 422, 'แม้': 1963, 'เสี่ยงอันตราย': 1546, 'แรก': 1964, 'อ่ะ': 879, 'แสง': 1966, 'แสดง': 1967, 'แสนแสบ': 1969, 'แหละ': 1970, 'โดยด่วน': 1972, 'สะดุ้งตื่น': 4226, 'ห่าง': 1262, 'โดยปกติ': 1973, 'ต้นหมาก': 3478, 'โทรศัพท์': 1974, 'โบก': 1975, 'เพาะพันธุ์': 4579, 'โพ': 1976, 'ภาวะ': 3887, 'ได้ยิน': 1994, 'โรค': 1978, 'เป็นประโยชน์': 4560, 'โรง': 1979, 'โล': 1982, 'ใช้ชีวิต': 1986, 'ไฟฟ้าลัดวงจร': 1997, 'มาร': 3925, 'งานวัด': 2141, '203367': 2829, 'ไฟหน้า': 1998, 'ไห': 1999, 'ไหนจะ': 2000, '%': 2003, 'ร่มเงา': 4050, 'Maldieves': 2927, '//': 2006, 'ศาลพระภูมิ': 2473, 'คน': 15, '/1)': 2007, 'ที่รกร้างว่างเปล่า': 3574, '/5/65': 2008, 'หนังสือ': 4305, 'ป้ายรถประจำทาง': 3775, '/7': 2010, 'วัดราษฎร์': 4130, 'ทั้งวัน': 1702, '02': 2012, 'การบังคับใช้': 3091, 'นักสิ่งแวดล้อม': 2267, '103': 2014, '10310': 2015, '107': 2017, '118': 2019, 'แรงงาน': 4746, '150': 2020, 'ตกแต่ง': 3412, 'ฉบับ': 3316, '51': 2026, '76': 2031, 'ๆๆๆ': 4897, 'สิ่งสกปรก': 4258, 'มีเรื่อง': 3947, '78': 2032, 'กำนัน': 3115, 'ทำความเข้าใจ': 2238, 'ลาดยาง': 2447, 'Dropped': 2039, 'Location': 2042, 'กรุงเทพฯ': 1601, 'big': 2044, 'บางขุนนนท์': 1415, 'เสมอ': 894, 'pin': 2048, 'rama': 2050, 'กทม': 268, 'siamese': 2051, 'ลัน': 4077, 'ทางพิเศษ': 3543, 'กฎจราจร': 2052, 'พระนคร': 1773, 'กระถางต้นไม้': 2056, 'เนอร์สเซอรี่': 4531, 'สิ่งแวดล้อม': 1493, 'กระทันหัน': 2058, 'ส่งผล': 418, 'กระถาง': 1331, 'กรีด': 2064, 'คนขับ': 1350, 'กรุงธน': 2065, 'กลางเมือง': 2068, 'เป้า': 2626, 'เดินรถ': 2598, 'กับข้าว': 2071, 'กั๊ก': 2073, 'การขึ้นลง': 2074, '49': 2025, 'การถม': 2077, 'ปกติ': 482, 'การทาสี': 2078, 'การประชุม': 2079, 'เหตุใด': 4664, 'การล้ม': 2080, 'โข': 4776, 'การแอบ': 2082, 'กิ': 2084, 'ดีมาก': 2192, 'ขับขี่': 2092, 'ข่มขู่': 2096, 'ข้ามหน้า': 2099, 'ครั้งนี้': 2109, 'วิดีโอ': 2468, 'คลินิก': 2112, 'คลุก': 2113, 'ันสัญลักษ์': 4414, 'ควรจะ': 2114, 'เพียร': 4581, 'สา': 869, 'พบเห็น': 852, 'ความช่วยเหลือ': 2116, 'ความผิด': 2117, 'ความรำคาญ': 2120, 'ตะไคร่': 1681, 'ความเป็นระเบียบ': 2125, 'เส็น': 4660, '125288': 2800, 'คัล': 2128, 'คาร์': 2129, 'เศษไม้': 4646, 'ทัส': 3532, '/2': 699, 'คู่': 2134, 'กวาด': 619, 'จม': 2144, 'คืนให้': 3249, 'จอมเกล้า': 2147, 'เด้': 2604, 'มัก': 1070, 'ยก': 1797, 'จัดงาน': 2148, 'ๆม่': 2729, 'อธิ': 2544, 'จัดหา': 2150, 'กระแทกเสียง': 3037, '32': 904, 'ทั่ว': 928, 'แน่ใจ': 497, 'จิต': 2153, 'สัมพันธวงศ์': 1486, 'จิตสำนึก': 2155, 'มั้ย': 791, 'จ้า': 2156, 'มอร์เตอร์': 3907, 'ประโยชน์': 3728, 'ชะลอตัว': 2162, 'ที่สุด': 3581, 'จัดเก็บ': 1031, 'อุโมงค์': 1885, 'ถนนหลวง': 1183, 'ชัน': 2163, 'บางกอกใหญ่': 3686, '3284': 2840, 'ชานเมือง': 2165, 'ชำรุดทรุดโทรม': 2169, 'ทางขึ้น': 591, 'ละแวก': 1821, 'ชิ้น': 2171, 'กีด': 1142, 'ชุ': 2172, 'ช่องว่าง': 2174, 'ซังฮี้': 2176, 'ซ่อมบำรุง': 2178, 'ไหร่': 4890, 'การขยับ': 3073, 'ซ้อน': 2179, 'ซ้ายมือ': 2181, 'ฏ': 2184, 'เพชรบุรี': 641, 'ดอกไม้': 2187, 'ดอน': 2188, 'ดังลั่น': 2189, 'ใว้': 4838, 'ดำริ': 2191, 'ทิต': 3564, 'ลุง': 797, 'ดุ': 2193, 'นิมิต': 1729, 'พิเศษ': 1780, 'ต': 2196, 'อด': 1503, 'ตกหล่น': 2197, 'ตรวจดู': 2200, 'ตอนกลางวัน': 2202, 'นำมา': 3633, 'ตัวอย่าง': 2204, 'เกี่ยวข้อง': 441, 'ตาก': 2206, 'ข้าง': 117, 'ผู่': 2332, 'ตาบอด': 2208, 'ตามกำหนด': 2209, 'ตำรวจจราจร': 2212, 'ตี้': 2213, 'โดยตรง': 2702, 'ตึกแถว': 2214, 'รถสามล้อ': 3987, 'ต่อเติม': 2219, 'ตื้น': 2215, 'ถัดจาก': 2224, 'โทรม': 4791, 'ถึงชีวิต': 2225, 'กองปราบ': 3059, 'เลือน': 2645, 'ถือ': 2226, 'แขนง': 4701, 'ชุมชน': 202, 'นัด': 2268, 'ปลอด': 2316, 'เรื้อรัง': 2643, 'ทั่วถึง': 2232, '27': 1126, 'ทั้งสิ้น': 2233, 'เลอะเทอะ': 1926, 'ทางยกระดับ': 2235, 'นึง': 783, 'ทำเป็น': 2240, '/147': 2757, 'ทินเนอร์': 2241, 'ทิศ': 2242, 'ขูด': 1152, 'ใส่': 500, 'ที่นอน': 2245, 'ร์': 1819, 'จนถึง': 769, 'ที่นี่': 2246, 'กษัตริย์': 3058, 'ธ.': 2249, 'ธน': 2250, 'เอาจริง': 4680, 'แต่ง': 2672, 'น้า': 1731, 'ธรณะ': 2252, 'รถแท็กซี่': 2410, 'ธาร': 2255, 'ทาสี': 715, 'ธูป': 2256, 'ก่อ': 707, 'นนน': 2261, 'เด็กหญิง': 4497, 'นว': 2263, 'มึนเมา': 3951, 'นวลจันทร์': 2264, 'นักการ': 2266, 'แมว': 132, 'นาถ': 2271, 'นิดหน่อย': 2276, 'ผิดเวลา': 3791, 'นิติ': 2278, 'สวน': 98, 'บ่าย': 2305, 'มะม่วง': 3910, 'นิวาส': 2279, 'นูน': 2281, 'น็อต': 2283, 'ปั้มน้ำมัน': 2325, 'น่า': 2284, 'การ': 16, 'ปก': 2307, 'ทางขวามือ': 3538, 'น่าจะเป็น': 2285, 'น่าสงสาร': 2286, 'นุ่น': 2287, 'นํ้า': 2289, 'ผู้ปกครอง': 1768, 'บางแวก': 2297, 'ส่วนหนึ่ง': 4296, 'ม็อบ': 3955, 'ขณะ': 830, 'บุ': 2302, 'หมายเลข': 1863, 'ปชช': 2308, '1': 34, 'ปั๊ม': 1428, 'ปฏิบัติหน้าที่': 2310, 'ประชาสงเคราะห์': 2312, 'เปรียบเทียบ': 4546, 'ประดิ': 2313, 'หอ': 1869, 'กล้วย': 1605, 'ประสาท': 2314, 'ประสิทธิภาพ': 2315, 'ปล่อง': 2319, 'ปวด': 2320, 'ปัจ': 2322, 'ป้ายจราจร': 2328, 'พระนครเหนือ': 3830, 'รายได้': 728, 'ผดุง': 2329, 'เกล้า': 739, 'ผู้ขับขี่': 2333, 'กิ้ง': 3121, 'ฝัง': 2342, 'รำ': 4029, 'ฝ้า': 2344, 'ขึเน': 3162, 'พฤหัส': 2350, 'ผลิต': 3782, 'พลาซ่า': 2353, 'พลี': 2354, 'โอ': 1984, 'ปกคลุม': 1199, 'ทรุดตัว': 1397, 'พวงมาลัย': 2356}\n",
            "4908\n"
          ]
        }
      ],
      "source": [
        "print(vocab.get_stoi())\n",
        "print(len(vocab))"
      ]
    },
    {
      "cell_type": "code",
      "execution_count": null,
      "metadata": {
        "colab": {
          "base_uri": "https://localhost:8080/"
        },
        "id": "qy0pLebjrqRT",
        "outputId": "25b73a8e-5a19-4cc9-f284-f74cb2604038"
      },
      "outputs": [
        {
          "output_type": "stream",
          "name": "stdout",
          "text": [
            "['การจราจร', 'จาก', 'บาง', 'กะปิ']\n",
            "[294, 66, 71, 446]\n"
          ]
        }
      ],
      "source": [
        "text = 'การจราจรจากบางกะปิ'\n",
        "seq = [vocab[word] for word in tokenizer(text)]\n",
        "\n",
        "print(tokenizer(text))\n",
        "print(seq)"
      ]
    },
    {
      "cell_type": "markdown",
      "metadata": {
        "id": "jsaCyneCZI-2"
      },
      "source": [
        "#Model"
      ]
    },
    {
      "cell_type": "code",
      "execution_count": null,
      "metadata": {
        "id": "huNJRnQZZIlu"
      },
      "outputs": [],
      "source": [
        "class Embeddings(nn.Module):\n",
        "    def __init__(self, d_model, vocab_size):\n",
        "        super(Embeddings, self).__init__()\n",
        "        self.emb = nn.Embedding(vocab_size, d_model)\n",
        "        self.d_model = d_model\n",
        "\n",
        "    def forward(self, x):\n",
        "        return self.emb(x) * math.sqrt(self.d_model)"
      ]
    },
    {
      "cell_type": "code",
      "execution_count": null,
      "metadata": {
        "colab": {
          "base_uri": "https://localhost:8080/",
          "height": 53
        },
        "id": "-zXn6vhnr5K6",
        "outputId": "971fc455-f8a1-46d3-dce3-772e0edd7681"
      },
      "outputs": [
        {
          "output_type": "stream",
          "name": "stdout",
          "text": [
            "Size of token embedding: torch.Size([1, 4, 4])\n"
          ]
        },
        {
          "output_type": "execute_result",
          "data": {
            "text/plain": [
              "'\\nSize of token embedding: torch.Size([1, 3, 4]) [batch, no. seq token, dim]\\n'"
            ],
            "application/vnd.google.colaboratory.intrinsic+json": {
              "type": "string"
            }
          },
          "metadata": {},
          "execution_count": 157
        }
      ],
      "source": [
        "hidden_size = 4\n",
        "\n",
        "input_data = torch.LongTensor(seq).unsqueeze(0)\n",
        "emb_model = Embeddings(hidden_size, len(vocab))\n",
        "token_emb = emb_model(input_data)\n",
        "print(f'Size of token embedding: {token_emb.size()}')\n",
        "\n",
        "# Output\n",
        "'''\n",
        "Size of token embedding: torch.Size([1, 3, 4]) [batch, no. seq token, dim]\n",
        "'''"
      ]
    },
    {
      "cell_type": "code",
      "execution_count": null,
      "metadata": {
        "id": "GiEY2TN8ZP0c"
      },
      "outputs": [],
      "source": [
        "class PositionalEncoding(nn.Module):\n",
        "    def __init__(self, d_model, vocab_size=5000, dropout=0.1):\n",
        "        super().__init__()\n",
        "        self.dropout = nn.Dropout(p=dropout)\n",
        "\n",
        "        pe = torch.zeros(vocab_size, d_model)\n",
        "        position = torch.arange(0, vocab_size, dtype=torch.float).unsqueeze(1)\n",
        "        div_term = torch.exp(\n",
        "            torch.arange(0, d_model, 2).float()\n",
        "            * (-math.log(10000.0) / d_model)\n",
        "        )\n",
        "\n",
        "        pe[:, 0::2] = torch.sin(position * div_term)\n",
        "        pe[:, 1::2] = torch.cos(position * div_term)\n",
        "        pe = pe.unsqueeze(0)\n",
        "        self.register_buffer(\"pe\", pe)\n",
        "\n",
        "    def forward(self, x):\n",
        "        x = x + self.pe[:, : x.size(1), :]\n",
        "        return self.dropout(x)"
      ]
    },
    {
      "cell_type": "code",
      "execution_count": null,
      "metadata": {
        "colab": {
          "base_uri": "https://localhost:8080/"
        },
        "id": "85uR8BqTr6aD",
        "outputId": "6b85c7f9-6684-42b6-941c-6a0e31ab6f50"
      },
      "outputs": [
        {
          "output_type": "stream",
          "name": "stdout",
          "text": [
            "Size of output embedding: torch.Size([1, 4, 4])\n"
          ]
        }
      ],
      "source": [
        "pe_model = PositionalEncoding(d_model=4, vocab_size=len(vocab))\n",
        "output_pe = pe_model(token_emb)\n",
        "\n",
        "print(f'Size of output embedding: {output_pe.size()}')"
      ]
    },
    {
      "cell_type": "code",
      "execution_count": null,
      "metadata": {
        "id": "kn6n8M5JZXHt"
      },
      "outputs": [],
      "source": [
        "class SingleHeadAttention(nn.Module):\n",
        "    def __init__(self, d_model, d_head_size):\n",
        "        super().__init__()\n",
        "        self.lin_key = nn.Linear(d_model, d_head_size, bias=False)\n",
        "        self.lin_query = nn.Linear(d_model, d_head_size, bias=False)\n",
        "        self.lin_value = nn.Linear(d_model, d_head_size, bias=False)\n",
        "        self.d_model = d_model\n",
        "\n",
        "    def forward(self, x):\n",
        "        query = self.lin_query(x)\n",
        "        key = self.lin_key(x)\n",
        "        value = self.lin_value(x)\n",
        "\n",
        "        scores = torch.matmul(query, key.transpose(-2, -1)) / math.sqrt(self.d_model)\n",
        "        p_attn = scores.softmax(dim=-1)\n",
        "        x = torch.matmul(p_attn, value)\n",
        "\n",
        "        return x"
      ]
    },
    {
      "cell_type": "code",
      "execution_count": null,
      "metadata": {
        "id": "WHL8hzD4Za-V"
      },
      "outputs": [],
      "source": [
        "class MultiHeadAttention(nn.Module):\n",
        "    def __init__(self, h, d_model, dropout=0.1):\n",
        "        super().__init__()\n",
        "        assert d_model % h == 0\n",
        "        d_k = d_model // h\n",
        "        self.multi_head = nn.ModuleList([SingleHeadAttention(d_model, d_k) for _ in range(h)])\n",
        "        self.lin_agg = nn.Linear(d_model, d_model)\n",
        "\n",
        "    def forward(self, x):\n",
        "        x = torch.cat([head(x) for head in self.multi_head], dim=-1)\n",
        "        return self.lin_agg(x)"
      ]
    },
    {
      "cell_type": "code",
      "execution_count": null,
      "metadata": {
        "colab": {
          "base_uri": "https://localhost:8080/"
        },
        "id": "aDPgndmSr9_T",
        "outputId": "5933e188-f5a2-42bf-f1c7-8ae5f26df9a4"
      },
      "outputs": [
        {
          "output_type": "stream",
          "name": "stdout",
          "text": [
            "Size of output embedding after multi-head attention: torch.Size([1, 4, 4])\n"
          ]
        }
      ],
      "source": [
        "mult_att = MultiHeadAttention(h=2, d_model=4)\n",
        "output_mult_att = mult_att(output_pe)\n",
        "print(f'Size of output embedding after multi-head attention: {output_mult_att.size()}')\n"
      ]
    },
    {
      "cell_type": "code",
      "execution_count": null,
      "metadata": {
        "id": "aSnqBcluZgZd"
      },
      "outputs": [],
      "source": [
        "class LayerNorm(nn.Module):\n",
        "    def __init__(self, d_model, eps=1e-6):\n",
        "        super(LayerNorm, self).__init__()\n",
        "        self.a_2 = nn.Parameter(torch.ones(d_model))\n",
        "        self.b_2 = nn.Parameter(torch.zeros(d_model))\n",
        "        self.eps = eps\n",
        "\n",
        "    def forward(self, x):\n",
        "        mean = x.mean(-1, keepdim=True)\n",
        "        std = x.std(-1, keepdim=True)\n",
        "        return self.a_2 * (x - mean) / (std + self.eps) + self.b_2\n",
        "\n",
        "class ResidualConnection(nn.Module):\n",
        "    def __init__(self, d_model, dropout=0.1):\n",
        "        super().__init__()\n",
        "        self.norm = LayerNorm(d_model)\n",
        "        self.dropout = nn.Dropout(dropout)\n",
        "\n",
        "    def forward(self, x1, x2):\n",
        "        return self.dropout(self.norm(x1 + x2))"
      ]
    },
    {
      "cell_type": "code",
      "execution_count": null,
      "metadata": {
        "colab": {
          "base_uri": "https://localhost:8080/"
        },
        "id": "sAzpdY9zr_f6",
        "outputId": "4269d9c8-1a0c-41e8-b2fb-0690892e46bd"
      },
      "outputs": [
        {
          "output_type": "stream",
          "name": "stdout",
          "text": [
            "Size of output embedding after residual connection: torch.Size([1, 4, 4])\n"
          ]
        }
      ],
      "source": [
        "res_conn_1 = ResidualConnection(d_model=4)\n",
        "output_res_conn_1 = res_conn_1(output_pe, output_mult_att)\n",
        "\n",
        "print(f'Size of output embedding after residual connection: {output_res_conn_1.size()}')\n"
      ]
    },
    {
      "cell_type": "code",
      "execution_count": null,
      "metadata": {
        "id": "9HRLk696Zo_1"
      },
      "outputs": [],
      "source": [
        "class FeedForward(nn.Module):\n",
        "    def __init__(self, d_model, d_ff, dropout=0.1):\n",
        "        super().__init__()\n",
        "        self.w_1 = nn.Linear(d_model, d_ff)\n",
        "        self.w_2 = nn.Linear(d_ff, d_model)\n",
        "        self.dropout = nn.Dropout(dropout)\n",
        "\n",
        "    def forward(self, x):\n",
        "        return self.w_2(self.dropout(self.w_1(x).relu()))"
      ]
    },
    {
      "cell_type": "code",
      "execution_count": null,
      "metadata": {
        "colab": {
          "base_uri": "https://localhost:8080/"
        },
        "id": "fX4aDwYUsBWH",
        "outputId": "5bf64c77-515a-4e04-a11d-c297dec93d4b"
      },
      "outputs": [
        {
          "output_type": "stream",
          "name": "stdout",
          "text": [
            "Size of output embedding after feed-forward network: torch.Size([1, 4, 4])\n"
          ]
        }
      ],
      "source": [
        "ff = FeedForward(d_model=4, d_ff=12)\n",
        "output_ff = ff(output_res_conn_1)\n",
        "\n",
        "print(f'Size of output embedding after feed-forward network: {output_ff.size()}')\n"
      ]
    },
    {
      "cell_type": "code",
      "execution_count": null,
      "metadata": {
        "colab": {
          "base_uri": "https://localhost:8080/"
        },
        "id": "Y7yndqBpsC17",
        "outputId": "df45bb5a-475a-45bb-f667-c3af8e263949"
      },
      "outputs": [
        {
          "output_type": "stream",
          "name": "stdout",
          "text": [
            "Size of output embedding after second residual: torch.Size([1, 4, 4])\n"
          ]
        }
      ],
      "source": [
        "res_conn_2 = ResidualConnection(d_model=4)\n",
        "output_res_conn_2 = res_conn_2(output_res_conn_1, output_ff)\n",
        "\n",
        "print(f'Size of output embedding after second residual: {output_res_conn_2.size()}')"
      ]
    },
    {
      "cell_type": "code",
      "execution_count": null,
      "metadata": {
        "id": "jInYRljXZxuH"
      },
      "outputs": [],
      "source": [
        "class SingleEncoder(nn.Module):\n",
        "    def __init__(self, d_model, self_attn, feed_forward, dropout):\n",
        "        super().__init__()\n",
        "        self.self_attn = self_attn\n",
        "        self.feed_forward = feed_forward\n",
        "        self.res_1 = ResidualConnection(d_model, dropout)\n",
        "        self.res_2 = ResidualConnection(d_model, dropout)\n",
        "\n",
        "        self.d_model = d_model\n",
        "\n",
        "    def forward(self, x):\n",
        "        x_attn = self.self_attn(x)\n",
        "        x_res_1 = self.res_1(x, x_attn)\n",
        "        x_ff = self.feed_forward(x_res_1)\n",
        "        x_res_2 = self.res_2(x_res_1, x_ff)\n",
        "\n",
        "        return x_res_2"
      ]
    },
    {
      "cell_type": "code",
      "execution_count": null,
      "metadata": {
        "id": "0sGZRee8Z0Wd"
      },
      "outputs": [],
      "source": [
        "class EncoderBlocks(nn.Module):\n",
        "    def __init__(self, layer, N):\n",
        "        super().__init__()\n",
        "        self.layers = nn.ModuleList([layer for _ in range(N)])\n",
        "        self.norm = LayerNorm(layer.d_model)\n",
        "\n",
        "    def forward(self, x):\n",
        "        for layer in self.layers:\n",
        "            x = layer(x)\n",
        "        return self.norm(x)"
      ]
    },
    {
      "cell_type": "code",
      "execution_count": null,
      "metadata": {
        "id": "4JTE1U8NZ5kV"
      },
      "outputs": [],
      "source": [
        "class TransformerEncoderModel(nn.Module):\n",
        "    def __init__(self, vocab_size, d_model, nhead, d_ff, N,\n",
        "                dropout=0.1):\n",
        "        super().__init__()\n",
        "        assert d_model % nhead == 0, \"nheads must divide evenly into d_model\"\n",
        "\n",
        "        self.emb = Embeddings(d_model, vocab_size)\n",
        "        self.pos_encoder = PositionalEncoding(d_model=d_model, vocab_size=vocab_size)\n",
        "\n",
        "        attn = MultiHeadAttention(nhead, d_model)\n",
        "        ff = FeedForward(d_model, d_ff, dropout)\n",
        "        self.transformer_encoder = EncoderBlocks(SingleEncoder(d_model, attn, ff, dropout), N)\n",
        "        self.classifier = nn.Linear(d_model, 28)\n",
        "        self.d_model = d_model\n",
        "\n",
        "    def forward(self, x):\n",
        "        x = self.emb(x) * math.sqrt(self.d_model)\n",
        "        x = self.pos_encoder(x)\n",
        "        x = self.transformer_encoder(x)\n",
        "        x = x.mean(dim=1)\n",
        "        x = self.classifier(x)\n",
        "        return x\n",
        "\n",
        "model = TransformerEncoderModel(len(vocab), d_model=300, nhead=4, d_ff=50,\n",
        "                                    N=6, dropout=0.1).to(device)"
      ]
    },
    {
      "cell_type": "code",
      "execution_count": null,
      "metadata": {
        "id": "-nyGZT-LZ9Cd"
      },
      "outputs": [],
      "source": [
        "class TextDataset(torch.utils.data.Dataset):\n",
        "\n",
        "  def __init__(self, input_data):\n",
        "      self.text = input_data['description'].values.tolist()\n",
        "      self.label = [int(label2id[i]) for i in input_data['Category'].values.tolist()]\n",
        "\n",
        "  def __len__(self):\n",
        "      return len(self.label)\n",
        "\n",
        "  def get_sequence_token(self, idx):\n",
        "      sequence = [vocab[word] for word in tokenizer(self.text[idx])]\n",
        "      len_seq = len(sequence)\n",
        "      return sequence, len_seq\n",
        "\n",
        "  def get_labels(self, idx):\n",
        "      return self.label[idx]\n",
        "\n",
        "  def __getitem__(self, idx):\n",
        "      sequence, len_seq = self.get_sequence_token(idx)\n",
        "      label = self.get_labels(idx)\n",
        "      return sequence, label, len_seq\n",
        "\n",
        "def collate_fn(batch):\n",
        "\n",
        "    sequences, labels, lengths = zip(*batch)\n",
        "    max_len = max(lengths)\n",
        "\n",
        "    for i in range(len(batch)):\n",
        "        if len(sequences[i]) != max_len:\n",
        "          for j in range(len(sequences[i]),max_len):\n",
        "            sequences[i].append(0)\n",
        "\n",
        "    return torch.tensor(sequences, dtype=torch.long), torch.tensor(labels, dtype=torch.long)"
      ]
    },
    {
      "cell_type": "code",
      "execution_count": null,
      "metadata": {
        "id": "LWg_PcuJaAGE"
      },
      "outputs": [],
      "source": [
        "def train(model, dataset, epochs, lr, bs):\n",
        "    criterion = nn.CrossEntropyLoss()\n",
        "    optimizer = torch.optim.Adam((p for p in model.parameters() if p.requires_grad), lr=lr)\n",
        "    train_dataset = TextDataset(dataset)\n",
        "    train_dataloader = DataLoader(train_dataset, num_workers=1, batch_size=bs, collate_fn=collate_fn, shuffle=True)\n",
        "\n",
        "    best_loss = float('inf')  # Initialize with a very high value\n",
        "    for epoch in range(epochs):\n",
        "        total_loss_train = 0\n",
        "        total_acc_train = 0\n",
        "        for train_sequence, train_label in tqdm(train_dataloader):\n",
        "            predictions = model(train_sequence.to(device))\n",
        "            labels = train_label.to(device)\n",
        "            loss = criterion(predictions, labels)\n",
        "\n",
        "            correct = predictions.argmax(axis=1) == labels\n",
        "            acc = correct.sum().item() / correct.size(0)\n",
        "            total_acc_train += correct.sum().item()\n",
        "            total_loss_train += loss.item()\n",
        "\n",
        "            loss.backward()\n",
        "            torch.nn.utils.clip_grad_norm_(model.parameters(), 0.5)\n",
        "            optimizer.step()\n",
        "\n",
        "        avg_loss_train = total_loss_train / len(train_dataset)\n",
        "        avg_acc_train = total_acc_train / len(train_dataset)\n",
        "        print(f'Epochs: {epoch + 1} | Loss: {avg_loss_train:.3f} | Accuracy: {avg_acc_train:.3f}')\n",
        "\n",
        "        # Save model if the current loss is better than the best loss\n",
        "        if avg_loss_train < best_loss:\n",
        "            best_loss = avg_loss_train\n",
        "            torch.save(model.state_dict(), 'Model.pt')\n",
        "            print(\"Model saved.\")"
      ]
    },
    {
      "cell_type": "code",
      "execution_count": null,
      "metadata": {
        "colab": {
          "base_uri": "https://localhost:8080/"
        },
        "id": "-Cmo9zD3I_iR",
        "outputId": "53b8f262-d5b5-440b-db37-e656cade039a"
      },
      "outputs": [
        {
          "output_type": "stream",
          "name": "stderr",
          "text": [
            "100%|██████████| 2175/2175 [01:24<00:00, 25.86it/s]\n"
          ]
        },
        {
          "output_type": "stream",
          "name": "stdout",
          "text": [
            "Epochs: 1 | Loss: 2.769 | Accuracy: 0.227\n",
            "Model saved.\n"
          ]
        },
        {
          "output_type": "stream",
          "name": "stderr",
          "text": [
            "100%|██████████| 2175/2175 [01:13<00:00, 29.68it/s]\n"
          ]
        },
        {
          "output_type": "stream",
          "name": "stdout",
          "text": [
            "Epochs: 2 | Loss: 1.946 | Accuracy: 0.458\n",
            "Model saved.\n"
          ]
        },
        {
          "output_type": "stream",
          "name": "stderr",
          "text": [
            "100%|██████████| 2175/2175 [01:13<00:00, 29.62it/s]\n"
          ]
        },
        {
          "output_type": "stream",
          "name": "stdout",
          "text": [
            "Epochs: 3 | Loss: 1.693 | Accuracy: 0.553\n",
            "Model saved.\n"
          ]
        },
        {
          "output_type": "stream",
          "name": "stderr",
          "text": [
            "100%|██████████| 2175/2175 [01:12<00:00, 29.99it/s]\n"
          ]
        },
        {
          "output_type": "stream",
          "name": "stdout",
          "text": [
            "Epochs: 4 | Loss: 1.556 | Accuracy: 0.598\n",
            "Model saved.\n"
          ]
        },
        {
          "output_type": "stream",
          "name": "stderr",
          "text": [
            "100%|██████████| 2175/2175 [01:12<00:00, 30.06it/s]\n"
          ]
        },
        {
          "output_type": "stream",
          "name": "stdout",
          "text": [
            "Epochs: 5 | Loss: 1.466 | Accuracy: 0.646\n",
            "Model saved.\n"
          ]
        },
        {
          "output_type": "stream",
          "name": "stderr",
          "text": [
            "100%|██████████| 2175/2175 [01:13<00:00, 29.72it/s]\n"
          ]
        },
        {
          "output_type": "stream",
          "name": "stdout",
          "text": [
            "Epochs: 6 | Loss: 1.416 | Accuracy: 0.674\n",
            "Model saved.\n"
          ]
        },
        {
          "output_type": "stream",
          "name": "stderr",
          "text": [
            "100%|██████████| 2175/2175 [01:14<00:00, 29.33it/s]\n"
          ]
        },
        {
          "output_type": "stream",
          "name": "stdout",
          "text": [
            "Epochs: 7 | Loss: 1.488 | Accuracy: 0.685\n"
          ]
        },
        {
          "output_type": "stream",
          "name": "stderr",
          "text": [
            "100%|██████████| 2175/2175 [01:14<00:00, 29.17it/s]\n"
          ]
        },
        {
          "output_type": "stream",
          "name": "stdout",
          "text": [
            "Epochs: 8 | Loss: 1.351 | Accuracy: 0.712\n",
            "Model saved.\n"
          ]
        },
        {
          "output_type": "stream",
          "name": "stderr",
          "text": [
            "100%|██████████| 2175/2175 [01:12<00:00, 29.85it/s]\n"
          ]
        },
        {
          "output_type": "stream",
          "name": "stdout",
          "text": [
            "Epochs: 9 | Loss: 1.340 | Accuracy: 0.721\n",
            "Model saved.\n"
          ]
        },
        {
          "output_type": "stream",
          "name": "stderr",
          "text": [
            "100%|██████████| 2175/2175 [01:13<00:00, 29.74it/s]\n"
          ]
        },
        {
          "output_type": "stream",
          "name": "stdout",
          "text": [
            "Epochs: 10 | Loss: 1.254 | Accuracy: 0.733\n",
            "Model saved.\n"
          ]
        },
        {
          "output_type": "stream",
          "name": "stderr",
          "text": [
            "100%|██████████| 2175/2175 [01:12<00:00, 29.88it/s]\n"
          ]
        },
        {
          "output_type": "stream",
          "name": "stdout",
          "text": [
            "Epochs: 11 | Loss: 1.195 | Accuracy: 0.757\n",
            "Model saved.\n"
          ]
        },
        {
          "output_type": "stream",
          "name": "stderr",
          "text": [
            "100%|██████████| 2175/2175 [01:13<00:00, 29.61it/s]\n"
          ]
        },
        {
          "output_type": "stream",
          "name": "stdout",
          "text": [
            "Epochs: 12 | Loss: 1.186 | Accuracy: 0.756\n",
            "Model saved.\n"
          ]
        },
        {
          "output_type": "stream",
          "name": "stderr",
          "text": [
            "100%|██████████| 2175/2175 [01:15<00:00, 28.73it/s]\n"
          ]
        },
        {
          "output_type": "stream",
          "name": "stdout",
          "text": [
            "Epochs: 13 | Loss: 1.151 | Accuracy: 0.777\n",
            "Model saved.\n"
          ]
        },
        {
          "output_type": "stream",
          "name": "stderr",
          "text": [
            "100%|██████████| 2175/2175 [01:13<00:00, 29.60it/s]\n"
          ]
        },
        {
          "output_type": "stream",
          "name": "stdout",
          "text": [
            "Epochs: 14 | Loss: 1.168 | Accuracy: 0.783\n"
          ]
        },
        {
          "output_type": "stream",
          "name": "stderr",
          "text": [
            "100%|██████████| 2175/2175 [01:13<00:00, 29.77it/s]"
          ]
        },
        {
          "output_type": "stream",
          "name": "stdout",
          "text": [
            "Epochs: 15 | Loss: 1.155 | Accuracy: 0.783\n"
          ]
        },
        {
          "output_type": "stream",
          "name": "stderr",
          "text": [
            "\n"
          ]
        }
      ],
      "source": [
        "epochs = 15\n",
        "lr = 1e-4\n",
        "batch_size = 1\n",
        "train(model, df_train, epochs, lr, batch_size)"
      ]
    },
    {
      "cell_type": "markdown",
      "metadata": {
        "id": "i38HxRGXRL2p"
      },
      "source": [
        "# แสดงผลลัพธ์การทดสอบ"
      ]
    },
    {
      "cell_type": "code",
      "execution_count": null,
      "metadata": {
        "id": "yAw3D61oeDuY",
        "tags": []
      },
      "outputs": [],
      "source": [
        "from sklearn.metrics import classification_report"
      ]
    },
    {
      "cell_type": "code",
      "execution_count": null,
      "metadata": {
        "id": "H0DH9IsZdlb3"
      },
      "outputs": [],
      "source": [
        "model_state_dict = torch.load('Model.pt')\n",
        "#model_state_dict = torch.load('Model.pt', map_location=torch.device('cpu'))"
      ]
    },
    {
      "cell_type": "code",
      "execution_count": null,
      "metadata": {
        "id": "LhxsMdjsPNvY",
        "colab": {
          "base_uri": "https://localhost:8080/"
        },
        "outputId": "1a7d58c6-81e8-43ce-fb68-671c61e5adf1"
      },
      "outputs": [
        {
          "output_type": "stream",
          "name": "stdout",
          "text": [
            "              precision    recall  f1-score   support\n",
            "\n",
            "           0       1.00      0.08      0.15        12\n",
            "           1       0.50      0.08      0.14        24\n",
            "           2       0.65      0.41      0.50        27\n",
            "           3       0.46      0.46      0.46        13\n",
            "           4       0.81      0.85      0.83        41\n",
            "           5       0.88      1.00      0.94        37\n",
            "           6       0.53      0.90      0.67        21\n",
            "           7       0.55      0.46      0.50        35\n",
            "           8       0.86      0.94      0.90        32\n",
            "           9       0.48      0.62      0.55        24\n",
            "          10       0.64      0.82      0.72        28\n",
            "          11       0.75      0.43      0.55        21\n",
            "          12       0.38      0.23      0.29        13\n",
            "          13       0.90      1.00      0.95        19\n",
            "          14       0.87      0.87      0.87        23\n",
            "          15       0.56      0.83      0.67        18\n",
            "          16       1.00      0.77      0.87        13\n",
            "          17       0.48      0.92      0.63        24\n",
            "          18       0.76      0.84      0.80        19\n",
            "          19       0.81      0.68      0.74        19\n",
            "          20       1.00      0.14      0.25         7\n",
            "          21       0.57      0.33      0.42        12\n",
            "          22       0.00      0.00      0.00         5\n",
            "          23       0.46      0.69      0.55        16\n",
            "          24       0.81      0.72      0.76        18\n",
            "          25       0.00      0.00      0.00         6\n",
            "          26       0.67      0.75      0.71         8\n",
            "          27       0.38      0.62      0.48         8\n",
            "\n",
            "    accuracy                           0.67       543\n",
            "   macro avg       0.63      0.59      0.57       543\n",
            "weighted avg       0.68      0.67      0.64       543\n",
            "\n"
          ]
        },
        {
          "output_type": "stream",
          "name": "stderr",
          "text": [
            "/usr/local/lib/python3.10/dist-packages/sklearn/metrics/_classification.py:1344: UndefinedMetricWarning: Precision and F-score are ill-defined and being set to 0.0 in labels with no predicted samples. Use `zero_division` parameter to control this behavior.\n",
            "  _warn_prf(average, modifier, msg_start, len(result))\n",
            "/usr/local/lib/python3.10/dist-packages/sklearn/metrics/_classification.py:1344: UndefinedMetricWarning: Precision and F-score are ill-defined and being set to 0.0 in labels with no predicted samples. Use `zero_division` parameter to control this behavior.\n",
            "  _warn_prf(average, modifier, msg_start, len(result))\n",
            "/usr/local/lib/python3.10/dist-packages/sklearn/metrics/_classification.py:1344: UndefinedMetricWarning: Precision and F-score are ill-defined and being set to 0.0 in labels with no predicted samples. Use `zero_division` parameter to control this behavior.\n",
            "  _warn_prf(average, modifier, msg_start, len(result))\n"
          ]
        }
      ],
      "source": [
        "def test(model_state_dict, dataloader, device):\n",
        "    # Load the state dictionary into the model\n",
        "    model.load_state_dict(model_state_dict)\n",
        "\n",
        "    # Set the model to evaluation mode\n",
        "    model.eval()\n",
        "\n",
        "    predictions = []\n",
        "    targets = []\n",
        "    with torch.no_grad():\n",
        "        for test_sequence, test_label in dataloader:\n",
        "            # Move input data to the same device as the model\n",
        "            test_sequence = test_sequence.to(device)\n",
        "            # Perform inference\n",
        "            output = model(test_sequence)\n",
        "            # Convert the output to class labels\n",
        "            predicted_labels = output.argmax(dim=1).cpu().numpy()\n",
        "            # Append predictions and targets\n",
        "            predictions.extend(predicted_labels)\n",
        "            targets.extend(test_label.numpy())\n",
        "\n",
        "    # Calculate classification report\n",
        "    report = classification_report(targets, predictions)\n",
        "    print(report)\n",
        "\n",
        "# Define the device\n",
        "device = torch.device(\"cuda:0\")  # or \"cuda:0\" if you want to use GPU\n",
        "\n",
        "# Create DataLoader for the testing dataset\n",
        "test_dataset = TextDataset(df_test)\n",
        "test_dataloader = DataLoader(test_dataset, batch_size=1, collate_fn=collate_fn)\n",
        "\n",
        "# Call the testing function with the loaded model's state dictionary, test dataloader, and device\n",
        "test(model_state_dict, test_dataloader, device)\n"
      ]
    },
    {
      "cell_type": "markdown",
      "metadata": {
        "id": "OwO955oiRQhp"
      },
      "source": [
        "# Export Model to ONNX"
      ]
    },
    {
      "cell_type": "code",
      "execution_count": null,
      "metadata": {
        "id": "y59sfmVSRLny",
        "tags": [],
        "colab": {
          "base_uri": "https://localhost:8080/"
        },
        "outputId": "b1e082d0-93b0-4264-f2fa-75801d62e121"
      },
      "outputs": [
        {
          "output_type": "stream",
          "name": "stdout",
          "text": [
            "Requirement already satisfied: onnxruntime in /usr/local/lib/python3.10/dist-packages (1.17.1)\n",
            "Requirement already satisfied: coloredlogs in /usr/local/lib/python3.10/dist-packages (from onnxruntime) (15.0.1)\n",
            "Requirement already satisfied: flatbuffers in /usr/local/lib/python3.10/dist-packages (from onnxruntime) (23.5.26)\n",
            "Requirement already satisfied: numpy>=1.21.6 in /usr/local/lib/python3.10/dist-packages (from onnxruntime) (1.25.2)\n",
            "Requirement already satisfied: packaging in /usr/local/lib/python3.10/dist-packages (from onnxruntime) (23.2)\n",
            "Requirement already satisfied: protobuf in /usr/local/lib/python3.10/dist-packages (from onnxruntime) (3.20.3)\n",
            "Requirement already satisfied: sympy in /usr/local/lib/python3.10/dist-packages (from onnxruntime) (1.12)\n",
            "Requirement already satisfied: humanfriendly>=9.1 in /usr/local/lib/python3.10/dist-packages (from coloredlogs->onnxruntime) (10.0)\n",
            "Requirement already satisfied: mpmath>=0.19 in /usr/local/lib/python3.10/dist-packages (from sympy->onnxruntime) (1.3.0)\n",
            "Requirement already satisfied: onnx in /usr/local/lib/python3.10/dist-packages (1.15.0)\n",
            "Requirement already satisfied: numpy in /usr/local/lib/python3.10/dist-packages (from onnx) (1.25.2)\n",
            "Requirement already satisfied: protobuf>=3.20.2 in /usr/local/lib/python3.10/dist-packages (from onnx) (3.20.3)\n"
          ]
        }
      ],
      "source": [
        "!pip install onnxruntime\n",
        "!pip install onnx"
      ]
    },
    {
      "cell_type": "code",
      "execution_count": null,
      "metadata": {
        "id": "hOtoGe6SRUdm",
        "tags": []
      },
      "outputs": [],
      "source": [
        "import torch.onnx as onnx\n",
        "import onnxruntime"
      ]
    },
    {
      "cell_type": "code",
      "execution_count": null,
      "metadata": {
        "id": "4oqmqE01RYLU",
        "colab": {
          "base_uri": "https://localhost:8080/"
        },
        "outputId": "adc6d4cf-7106-430e-f9a0-14e22dd8e3a7"
      },
      "outputs": [
        {
          "output_type": "stream",
          "name": "stderr",
          "text": [
            "/usr/local/lib/python3.10/dist-packages/torch/onnx/utils.py:2082: UserWarning: No names were found for specified dynamic axes of provided input.Automatically generated names will be applied to each dynamic axes of input input\n",
            "  warnings.warn(\n"
          ]
        }
      ],
      "source": [
        "init_token_id = 1\n",
        "x = torch.tensor([[init_token_id, 5, 6, 7], [init_token_id, 4, 6, 7], [init_token_id, 4, 6, 7]])  # id ของคำ\n",
        "\n",
        "# Assuming model is already defined and loaded onto the GPU\n",
        "device = torch.device(\"cuda:0\")\n",
        "x = x.to(device)\n",
        "\n",
        "# Export the model to ONNX format\n",
        "onnx.export(model, x, \"Model.onnx\",\n",
        "            input_names=[\"input\"],  # กำหนด ชื่อ input ตอน inference\n",
        "            output_names=[\"output\"],  # กำหนด ชือ output\n",
        "            dynamic_axes={\"input\": [0, 1]})"
      ]
    },
    {
      "cell_type": "code",
      "execution_count": null,
      "metadata": {
        "id": "eqjgGyi8rRKq",
        "tags": [],
        "colab": {
          "base_uri": "https://localhost:8080/"
        },
        "outputId": "b52d457b-56c6-47d2-bef5-cfbca982a236"
      },
      "outputs": [
        {
          "output_type": "stream",
          "name": "stdout",
          "text": [
            "input output\n",
            "[[-1.8806783   8.057829   -0.85674745 -4.2212048   1.6006765   5.812636\n",
            "  -4.2745113   6.6843104  10.999825    0.82775444 -2.5067525  -6.6375036\n",
            "  -1.621797    0.77347505 -0.62867343 -1.508077   -0.10049217  0.6362393\n",
            "  -4.270624    3.533517   -3.2538276  -3.9119432   4.621478   -3.7789836\n",
            "  -3.0080886  -4.0361204  -5.737097   -6.639523  ]\n",
            " [ 3.393742    5.626016    2.0376894  -1.29778    -7.470451    2.246688\n",
            "   5.011895    2.6838317   4.1444993   1.6238353   5.3459945  -4.4350176\n",
            "  -0.15391861  1.3726069  -1.5162632  -2.4680984  -4.632624   -3.7313137\n",
            "  -4.5621314  10.86434    -5.4093204  -7.721503   -4.3704276  -2.9467096\n",
            "  -2.778592   -1.1107634  -6.2599797  -2.901165  ]\n",
            " [ 3.393742    5.626016    2.0376894  -1.29778    -7.470451    2.246688\n",
            "   5.011895    2.6838317   4.1444993   1.6238353   5.3459945  -4.4350176\n",
            "  -0.15391861  1.3726069  -1.5162632  -2.4680984  -4.632624   -3.7313137\n",
            "  -4.5621314  10.86434    -5.4093204  -7.721503   -4.3704276  -2.9467096\n",
            "  -2.778592   -1.1107634  -6.2599797  -2.901165  ]]\n",
            "[array([[-1.8806783 ,  8.057829  , -0.85674745, -4.2212048 ,  1.6006765 ,\n",
            "         5.812636  , -4.2745113 ,  6.6843104 , 10.999825  ,  0.82775444,\n",
            "        -2.5067525 , -6.6375036 , -1.621797  ,  0.77347505, -0.62867343,\n",
            "        -1.508077  , -0.10049217,  0.6362393 , -4.270624  ,  3.533517  ,\n",
            "        -3.2538276 , -3.9119432 ,  4.621478  , -3.7789836 , -3.0080886 ,\n",
            "        -4.0361204 , -5.737097  , -6.639523  ],\n",
            "       [ 3.393742  ,  5.626016  ,  2.0376894 , -1.29778   , -7.470451  ,\n",
            "         2.246688  ,  5.011895  ,  2.6838317 ,  4.1444993 ,  1.6238353 ,\n",
            "         5.3459945 , -4.4350176 , -0.15391861,  1.3726069 , -1.5162632 ,\n",
            "        -2.4680984 , -4.632624  , -3.7313137 , -4.5621314 , 10.86434   ,\n",
            "        -5.4093204 , -7.721503  , -4.3704276 , -2.9467096 , -2.778592  ,\n",
            "        -1.1107634 , -6.2599797 , -2.901165  ],\n",
            "       [ 3.393742  ,  5.626016  ,  2.0376894 , -1.29778   , -7.470451  ,\n",
            "         2.246688  ,  5.011895  ,  2.6838317 ,  4.1444993 ,  1.6238353 ,\n",
            "         5.3459945 , -4.4350176 , -0.15391861,  1.3726069 , -1.5162632 ,\n",
            "        -2.4680984 , -4.632624  , -3.7313137 , -4.5621314 , 10.86434   ,\n",
            "        -5.4093204 , -7.721503  , -4.3704276 , -2.9467096 , -2.778592  ,\n",
            "        -1.1107634 , -6.2599797 , -2.901165  ]], dtype=float32)]\n",
            "[ 8 19 19]\n",
            "input\n"
          ]
        }
      ],
      "source": [
        "# Load the exported model using onnxruntime\n",
        "sess = onnxruntime.InferenceSession(\"Model.onnx\")\n",
        "\n",
        "# Perform inference using the exported model\n",
        "input_name = sess.get_inputs()[0].name\n",
        "\n",
        "# Move the tensor to CPU and convert it to a numpy array\n",
        "x_cpu = x.cpu().numpy()\n",
        "\n",
        "output_name = sess.get_outputs()[0].name\n",
        "print(input_name, output_name)\n",
        "result = sess.run([output_name], {input_name: x_cpu})\n",
        "print(result[0])\n",
        "\n",
        "lab_index = np.argmax(result[0], axis=1)\n",
        "print(result)\n",
        "print(lab_index)\n",
        "print(input_name)\n"
      ]
    }
  ],
  "metadata": {
    "accelerator": "GPU",
    "colab": {
      "gpuType": "T4",
      "provenance": []
    },
    "kernelspec": {
      "display_name": "Python 3 (ipykernel)",
      "language": "python",
      "name": "python3"
    },
    "language_info": {
      "codemirror_mode": {
        "name": "ipython",
        "version": 3
      },
      "file_extension": ".py",
      "mimetype": "text/x-python",
      "name": "python",
      "nbconvert_exporter": "python",
      "pygments_lexer": "ipython3",
      "version": "3.10.13"
    }
  },
  "nbformat": 4,
  "nbformat_minor": 0
}